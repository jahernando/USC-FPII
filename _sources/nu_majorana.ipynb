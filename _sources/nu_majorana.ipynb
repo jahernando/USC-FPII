{
 "cells": [
  {
   "cell_type": "markdown",
   "metadata": {
    "slideshow": {
     "slide_type": "slide"
    }
   },
   "source": [
    "# Are neutrinos Majorana particles?\n"
   ]
  },
  {
   "cell_type": "code",
   "execution_count": 1,
   "metadata": {
    "slideshow": {
     "slide_type": "fragment"
    }
   },
   "outputs": [
    {
     "name": "stdout",
     "output_type": "stream",
     "text": [
      " Last version  Mon Feb 17 17:12:59 2025\n"
     ]
    }
   ],
   "source": [
    "import time\n",
    "print(' Last version ', time.asctime() )"
   ]
  },
  {
   "cell_type": "code",
   "execution_count": 2,
   "metadata": {
    "slideshow": {
     "slide_type": "slide"
    }
   },
   "outputs": [],
   "source": [
    "# general imports\n",
    "%matplotlib inline\n",
    "%reload_ext autoreload\n",
    "%autoreload 2\n",
    " \n",
    "# numpy and matplotlib\n",
    "import numpy as np\n",
    "import pandas as pd\n",
    "import matplotlib.pyplot as plt\n",
    "import scipy.stats     as stats\n",
    "import scipy.constants as units\n",
    "\n",
    "plt.style.context('seaborn-colorblind');"
   ]
  },
  {
   "cell_type": "markdown",
   "metadata": {
    "slideshow": {
     "slide_type": "slide"
    }
   },
   "source": [
    "*About*\n",
    "\n",
    "* A tour to Dirac, Weyl and Majorana fermions.\n",
    "\n",
    "* How to give masses to the neutrinos? Dirac and Majorana cases. The $U_{PMNS}$ neutrino mixing matrix.\n",
    "\n",
    "* How to detect Majorana neutrinos? The $\\beta\\beta0\\nu$ experiments, status and future.\n"
   ]
  },
  {
   "cell_type": "markdown",
   "metadata": {
    "slideshow": {
     "slide_type": "slide"
    }
   },
   "source": [
    "## Dirac, Weyl and Mayorana fermions"
   ]
  },
  {
   "cell_type": "markdown",
   "metadata": {
    "slideshow": {
     "slide_type": "slide"
    }
   },
   "source": [
    "\n",
    "### Dirac fermions\n",
    "\n",
    "In the SM the charged leptons are Dirac fermions. \n",
    "\n",
    "They have defined masses, charges, i.e electrical charge and leptonic number. \n",
    "\n",
    "Charged leptons come in pair of particle and anti-particle. Anti-particles have the same mass but opposed charges.\n",
    "\n",
    "The Dirac ecuation describes the dinamic of free half-spin fermions:\n",
    "\n",
    "$$\n",
    "i \\gamma^\\mu \\partial_\\mu \\Psi - m \\Psi = 0\n",
    "$$\n",
    "\n",
    "with mass $m$."
   ]
  },
  {
   "cell_type": "markdown",
   "metadata": {
    "slideshow": {
     "slide_type": "skip"
    }
   },
   "source": [
    "The Dirac equation:\n",
    "\n",
    " - Is linear in the space-coordenates $\\partial_\\mu$. Time and space enter in equal condition.\n",
    "\n",
    " - Has embebed the Einstein equation $m^2 = E - p^2$, via the 4 Dirac matrices $\\gamma^\\mu$.\n",
    " \n",
    "The $\\gamma$ matrices fulfill the Clidfold algebra:\n",
    "\n",
    "$$\n",
    " \\{ \\gamma^\\mu, \\gamma^\\nu \\} = 2 g^{\\mu\\nu}, \\;\\; \n",
    " (\\gamma^0)^\\dagger = \\gamma^0, \\; (\\gamma^i)^\\dagger = \\gamma^i\n",
    "$$\n",
    "\n",
    "And admits different representations, the most common is the Pauli-Dirac.\n"
   ]
  },
  {
   "cell_type": "markdown",
   "metadata": {
    "slideshow": {
     "slide_type": "skip"
    }
   },
   "source": [
    "We define the adjoint as $\\bar{\\Psi} = \\gamma^0 \\Psi^\\dagger$\n",
    "\n",
    "The Dirac equation comes from the Euler equation associated to the Lagrangian:\n",
    "\n",
    "$$\n",
    "i \\bar{\\Psi} \\gamma^\\mu \\partial_\\mu \\Psi - m \\bar{\\Psi} \\Psi = 0\n",
    "$$\n",
    "\n",
    "And the Hamiltonian is:\n",
    "\n",
    "$$\n",
    "H \\Psi = (i \\gamma^0 \\gamma^i \\partial_i - \\gamma^0 m) \\Psi\n",
    "$$\n"
   ]
  },
  {
   "cell_type": "markdown",
   "metadata": {
    "slideshow": {
     "slide_type": "slide"
    }
   },
   "source": [
    "The Dirac equation admits the Fourier decomposition:\n",
    "\n",
    "$$\n",
    "\\Psi(x) = \\sum_{s} \\int_p \\left[ u_s(p) a_s(p) e^{-i p x} + v_s(p) b^\\dagger_s(p) e^{+ipx} \\right]\n",
    "$$\n",
    "\n",
    "where $s = 1, 2$ for the two spin components and $u_s(p)$, and $v_s(p)$ are the Dirac spinors, composed of 4 complex elements, which depends on $\\mathrm{p}$. \n",
    "\n",
    "The $u_s(p)$ spinor is associated to the particle, the positive energy solutions of the Dirac equation, and the $v_s(p)$ spinor is associated to the anti-particles."
   ]
  },
  {
   "cell_type": "markdown",
   "metadata": {
    "slideshow": {
     "slide_type": "slide"
    }
   },
   "source": [
    "### Weyl fermions.\n",
    "\n",
    "The Weyl fields are eigen-states of chirality, that is, eigen-states of the $\\gamma^5$ matrix.\n",
    "\n",
    "$$\n",
    "\\gamma^5 \\Psi_{R/L} = \\pm \\Psi_{R/L}\n",
    "$$\n",
    "\n",
    "Where:\n",
    "\n",
    "$$\n",
    "\\gamma^5 \\equiv i \\gamma^0 \\gamma^1 \\gamma^2 \\gamma^3\n",
    "$$\n",
    "\n",
    "The chiral states can be obtained using the chiral projectors:\n",
    "\n",
    "$$\n",
    "P_R = \\frac{1}{2} (1 + \\gamma^5), \\;\\;\\; P_L = \\frac{1}{2} (1 - \\gamma^5) \\;\\;\\;\n",
    "$$\n",
    "\n",
    "We decompose A Dirac field into left and right chiral fields:\n",
    "\n",
    "$$\n",
    "\\Psi = P_L \\Psi + P_R \\Psi = \\Psi_L + \\Psi_R\n",
    "$$ \n"
   ]
  },
  {
   "cell_type": "markdown",
   "metadata": {
    "slideshow": {
     "slide_type": "slide"
    }
   },
   "source": [
    "In order to deal with chirality states, we use the Chiral-Weyl representation of the Dirac matrices:\n",
    "\n",
    "$$\n",
    "\\gamma^0 = \\begin{pmatrix} 0 & I \\\\ I & 0\\end{pmatrix},\n",
    "\\gamma^k = \\begin{pmatrix} 0 & \\sigma^k \\\\ -\\sigma^k & 0\\end{pmatrix},\n",
    "\\gamma^5  = \\begin{pmatrix} -I & 0 \\\\ 0 & I\\end{pmatrix},\n",
    "C = i \\gamma^2 \\gamma^0 = \\begin{pmatrix} i \\sigma^2 & 0 \\\\ 0 & -i \\sigma^2 \\end{pmatrix}\n",
    "$$\n"
   ]
  },
  {
   "cell_type": "markdown",
   "metadata": {
    "slideshow": {
     "slide_type": "slide"
    }
   },
   "source": [
    "Where:\n",
    "\n",
    "$$\n",
    "P_L = \\begin{pmatrix} I & 0 \\\\ 0 & 0\\end{pmatrix}, \\;\\;\\;\n",
    "P_R = \\begin{pmatrix} 0 & 0 \\\\ 0 & I\\end{pmatrix}, \\;\\;\\;\n",
    "$$\n",
    "\n",
    "And the Dirac spinor can be decomposed into two bi-spinor:\n",
    "\n",
    "$$\n",
    "\\Psi = \\begin{pmatrix} \\psi_L  \\\\ \\psi_R \\end{pmatrix}\n",
    "$$\n",
    "\n",
    "The Weyl decomposition corresponds to the irreductible representation of the Lorentz group for Dirac spinors."
   ]
  },
  {
   "cell_type": "markdown",
   "metadata": {
    "slideshow": {
     "slide_type": "slide"
    }
   },
   "source": [
    "The mass term of the Dirac lagrangian mixes the two Weyl fields:\n",
    "\n",
    "$$\n",
    "m \\bar{\\Psi} \\Psi = m \\, \\bar{\\psi}_L \\psi_R + m \\, \\bar{\\psi}_R \\psi_L\n",
    "$$\n",
    "\n",
    "Therefore a field to have a massive particle, needs a left and a right chiral fields."
   ]
  },
  {
   "cell_type": "markdown",
   "metadata": {
    "slideshow": {
     "slide_type": "slide"
    }
   },
   "source": [
    "In the Weyl representation, the Dirac equation splits into two coupled equations:\n",
    "\n",
    "$$\n",
    "i \\gamma^\\mu \\partial_\\mu \\Psi_L - m \\Psi_R = 0, \\\\\n",
    "i \\gamma^\\mu \\partial_\\mu \\Psi_R - m \\Psi_L = 0, \n",
    "$$\n",
    "\n",
    "We define a **Weyl spinor** if $m = 0$, in that case, both chiral fields are independent.\n"
   ]
  },
  {
   "cell_type": "markdown",
   "metadata": {
    "slideshow": {
     "slide_type": "subslide"
    }
   },
   "source": [
    "For Weyl spinor the Dirac equation becames the Weyl equation:\n",
    "\n",
    "In the Chiral representation is:\n",
    "\n",
    "$$\n",
    "i \\gamma^\\mu \\sigma_\\mu \\psi_R = 0, \\\\\n",
    "i \\gamma^\\mu \\bar{\\sigma}_\\mu \\psi_L = 0. \n",
    "$$\n",
    "\n",
    "Where $\\bar{\\sigma}_\\mu \\equiv \\{I, - \\sigma_\\mu \\}$\n"
   ]
  },
  {
   "cell_type": "markdown",
   "metadata": {
    "slideshow": {
     "slide_type": "slide"
    }
   },
   "source": [
    "*Neutrinos in the SM were Weyl fermions*. There were the only fermions that were in fact not Dirac fermions!\n",
    "\n",
    "As in the CC and NC only left-handed chiral neutrinos (and right-handle anti-neutrinos) participate.\n",
    "\n",
    "Only two fields were necesary in the SM: \n",
    "\n",
    "$$\n",
    "\\nu_L, \\;\\;\\; \\bar{\\nu}_R\n",
    "$$"
   ]
  },
  {
   "cell_type": "markdown",
   "metadata": {
    "slideshow": {
     "slide_type": "slide"
    }
   },
   "source": [
    "Contrary to Dirac fermions, Weyl fermions have defined chirality and helicity.\n",
    "\n",
    "Chirality if a Lorentz invariant (Weyl spinors are the irreducible representation of the Lorentz group), but it is not a preserved quantity (because $\\gamma^5$ does not conmute with the mass term of the Hamiltonian). \n",
    "\n",
    "In the case of Weyl fermions as there is no mass term, Chirality is a Lorentz and a preserved quantity. It can be used for any observer any time as a good quantity of a particle."
   ]
  },
  {
   "cell_type": "markdown",
   "metadata": {
    "slideshow": {
     "slide_type": "slide"
    }
   },
   "source": [
    "Helicity (the projection of the spin along the momentum direction) is a preserved quantity (as the total angular momentum conmutes the Hamiltonian, and also does the helicity $h \\equiv S \\cdot \\hat{p}$), but it is not a Lorentz invariant as an observed which moves with a larger momentum in the same direccion that the particle sees the inverse helicity than other observer that moves with lower momentum.\n",
    "\n",
    "But in the case of Weyl particles, as they have no mass, helicity is preserved and a Lorentz invariant quatity. It is the same for all the observers and any time."
   ]
  },
  {
   "cell_type": "markdown",
   "metadata": {
    "slideshow": {
     "slide_type": "slide"
    }
   },
   "source": [
    "We can resume the situation of helicity and quirality:\n",
    "\n",
    "For Dirac fermions\n",
    "\n",
    "| | - |  + |\n",
    "| :--:  | :--: | :--: |\n",
    "| ------ | ------------ | ------------ |\n",
    "| L | $\\sim 1$ | $\\mathcal{O}(m/E)$|\n",
    "| R | $\\mathcal{O}(m/E)$| $\\sim 1$ |\n",
    "\n",
    "For Weyl fermions\n",
    "\n",
    "| | + |  - |\n",
    "| :--:  | :--: | :--: |\n",
    "| L | 1 | 0 |\n",
    "| R | 0| 1 |"
   ]
  },
  {
   "cell_type": "markdown",
   "metadata": {
    "slideshow": {
     "slide_type": "skip"
    }
   },
   "source": [
    "The Weyl spinors admits the Fourier decomposition:\n",
    "\n",
    "$$\n",
    "\\Psi_L = \\int_p \\left[ u_L(p) a_L(p) e^{-i p \\cdot x} + v_R(p) b^\\dagger_R(p) e^{i p \\cdot x}\\right]\n",
    "$$\n",
    "\n",
    "$$\n",
    "\\Psi_R = \\int_p \\left[ u_R(p) a_R(p) e^{-i p \\cdot x} + v_L(p) b^\\dagger_L(p) e^{i p \\cdot x}\\right]\n",
    "$$\n",
    "\n",
    "Where: $R = +$, $L = -$"
   ]
  },
  {
   "cell_type": "markdown",
   "metadata": {
    "slideshow": {
     "slide_type": "slide"
    }
   },
   "source": [
    "As neutrinos were Weyl fermions in the SM they had:\n",
    "\n",
    " - defined lepton number for particle - antiparticle \n",
    "\n",
    " - defined helicity, negative for the neutrinos, positive for the anti-neutrinos\n",
    "\n",
    " - definied quarality, left-handed for neutrinos, right-handed for anti-neutrinos\n",
    "\n",
    "\n",
    " There are only two fields: $\\nu_L, \\; \\bar{\\nu}_R$."
   ]
  },
  {
   "cell_type": "markdown",
   "metadata": {
    "slideshow": {
     "slide_type": "slide"
    }
   },
   "source": [
    "### Majorana fermions\n",
    "\n",
    "Pure neutral fermions do not need to be Dirac, in fact a Dirac spinor could be redundant to describe a neutral fermion!\n",
    "\n",
    "[Etore Majorana](https://en.wikipedia.org/wiki/Ettore_Majorana) in the 30's of the XX century proposed that neutral fermions can be *symmetric*, that is, they can be its own antiparticle.\n",
    "\n",
    "| |\n",
    "| :--: |\n",
    "| <img src=\"./imgs/numass_majorana_abstract.png\" width = 300> |\n",
    "\n",
    "*\"We show that it is possible to achieve complete formal symmetrization in the electron and\n",
    "positron quantum theory by means of a new quantization process. The meaning of Dirac\n",
    "equations is somewhat modified and it is no more necessary to speak of negative-energy\n",
    "states; nor to assume, for any other type of particles, especially neutral ones, the existence\n",
    "of antiparticles, corresponding to the `holes' of negative energy.\"*"
   ]
  },
  {
   "cell_type": "markdown",
   "metadata": {
    "slideshow": {
     "slide_type": "slide"
    }
   },
   "source": [
    "Majorana introducd a new representation of the Dirac matrices:\n",
    "\n",
    "$$\n",
    "\\gamma^0 = \\begin{pmatrix} 0 & \\sigma^2 \\\\ \\sigma^2 & 0\\end{pmatrix},\n",
    "\\gamma^1 = \\begin{pmatrix} i\\sigma^3 & 0 \\\\ 0 & i\\sigma^3\\end{pmatrix},\n",
    "\\gamma^2 = \\begin{pmatrix} 0 & -\\sigma^2 \\\\ \\sigma^2 & 0\\end{pmatrix},\n",
    "$$\n",
    "$$\n",
    "\\gamma^3 = \\begin{pmatrix} i\\sigma^1 & 0 \\\\ 0 & i\\sigma^1 \\end{pmatrix}, \n",
    "\\gamma^5 = \\begin{pmatrix} \\sigma^2 & 0 \\\\ 0 & -\\sigma^2 \\end{pmatrix}, \n",
    "C        = \\begin{pmatrix} 0 &  \\sigma^2 \\\\ \\sigma^2 & 0 \\end{pmatrix}\n",
    "$$\n",
    "\n",
    "\n",
    "called Majorana representation, where the gamma matrices are pure imaginary.\n"
   ]
  },
  {
   "cell_type": "markdown",
   "metadata": {
    "slideshow": {
     "slide_type": "slide"
    }
   },
   "source": [
    "Therefore the Dirac equation is real:\n",
    "\n",
    "$$\n",
    "i \\gamma^\\mu \\partial_\\mu \\Psi = m \\Psi\n",
    "$$\n",
    "\n",
    "And admits a real solution, $\\Psi(x) = \\Psi^*(x)$\n",
    "\n",
    "That means that a particle is its antiparticle. That implies that they have no charge, they are neutral.\n",
    "\n",
    "In Majorana words there is a *symetrization*, no need to speak of *negative-states* for neutral particles."
   ]
  },
  {
   "cell_type": "markdown",
   "metadata": {
    "slideshow": {
     "slide_type": "slide"
    }
   },
   "source": [
    "The Majorana condition, in a different representation of the Dirac matrices translates to:\n",
    "\n",
    "$$\n",
    "\\Psi = \\Psi^c \n",
    "$$\n",
    "\n",
    "That is, the particle and antiparticle solutions are the same.\n",
    "\n",
    "Where:\n",
    "\n",
    "$$\n",
    "\\Psi^c \\equiv C \\bar{\\Psi}^T = C \\gamma^0 \\, \\Psi^* \n",
    "$$\n",
    "\n"
   ]
  },
  {
   "cell_type": "markdown",
   "metadata": {
    "slideshow": {
     "slide_type": "slide"
    }
   },
   "source": [
    "The carge conjugation matrix, $C$, can be obtained either by:\n",
    "\n",
    "- Imposing the covariance of the Dirac equation with respect charge conjugation\n",
    "\n",
    "- Changing from the Majorana representation $\\tilde{\\gamma}^\\mu$ to another representation, $\\gamma^\\mu$. The two representatations are connected by a unitary matrix $U$. The $\\tilde{\\Psi}$ indicates that is expressed in the Majorana representation.\n",
    "\n",
    "$$\n",
    "\\gamma^\\mu = U \\tilde{\\gamma}^\\mu U^\\dagger, \\\\\n",
    "\\Psi= U \\tilde{\\Psi}, \\;\\; \\Psi^c = U \\tilde{\\Psi}^* = U (U^\\dagger \\Psi)^* = U U^T \\Psi^* \\to C \\gamma^0 = U U^T\n",
    "$$\n",
    "\n",
    "\n",
    "\n"
   ]
  },
  {
   "cell_type": "markdown",
   "metadata": {
    "slideshow": {
     "slide_type": "slide"
    }
   },
   "source": [
    "The charge conjugation implies\n",
    "\n",
    "$$\n",
    "(\\Psi^c)^c = \\Psi\n",
    "$$\n"
   ]
  },
  {
   "cell_type": "markdown",
   "metadata": {
    "slideshow": {
     "slide_type": "slide"
    }
   },
   "source": [
    "In the Weyl-chiral representation, a spinor:\n",
    "\n",
    "$$\n",
    "\\Psi = \\begin{pmatrix} \\psi_L \\\\ \\psi_R \\end{pmatrix}\n",
    "$$\n",
    "\n",
    "transforms under C:\n",
    "\n",
    "$$\n",
    "\\Psi^c = C \\gamma^0 \\Psi^* = i \\gamma^2 \\Psi^* = \\begin{pmatrix} 0 & i \\sigma^2 \\\\ -i \\sigma^2 & 0 \\end{pmatrix} \\begin{pmatrix} \\psi^*_L \\\\ \\psi^*_R \\end{pmatrix} = \\begin{pmatrix} i \\sigma^2 \\psi^*_R \\\\ -i \\sigma^2 \\psi^*_L \\end{pmatrix}\n",
    "$$"
   ]
  },
  {
   "cell_type": "markdown",
   "metadata": {
    "slideshow": {
     "slide_type": "slide"
    }
   },
   "source": [
    "Therefore the charge conjugate of a left-chiral spinor is a right-chiral spinor:\n",
    "\n",
    "$$\n",
    "\\Psi_L = \\begin{pmatrix} \\psi_L \\\\ 0 \\end{pmatrix} \\to\n",
    "(\\Psi_L)^c = \\begin{pmatrix} 0 \\\\ -i \\sigma^2 \\psi^*_L \\end{pmatrix}\n",
    "$$\n",
    "\n",
    "\n",
    "Explicitly:\n",
    "\n",
    "$$\n",
    "-i \\sigma^2 = \\begin{pmatrix} 0 & -1 \\\\ 1 & 0 \\end{pmatrix}\n",
    "$$\n"
   ]
  },
  {
   "cell_type": "markdown",
   "metadata": {
    "slideshow": {
     "slide_type": "slide"
    }
   },
   "source": [
    "Therefore we can be construct a Majorana spinor starting from any $\\Psi$ spinor:\n",
    "\n",
    "$$\n",
    "\\Psi^M = \\Psi + \\Psi^c\n",
    "$$\n",
    "\n",
    "Now:\n",
    "\n",
    "$$\n",
    "\\Psi^M = (\\Psi^M)^c\n",
    "$$\n"
   ]
  },
  {
   "cell_type": "markdown",
   "metadata": {
    "slideshow": {
     "slide_type": "slide"
    }
   },
   "source": [
    "Therefore the Majorana spinor formed with from a Weyl $\\psi_L$ bi-spinor is:\n",
    "\n",
    "$$\n",
    "\\Psi^M = \\Psi + \\Psi^c \n",
    "$$\n",
    "$$\n",
    "\\Psi^M =  \\begin{pmatrix} \\psi_L \\\\ 0 \\end{pmatrix} + \\begin{pmatrix} 0 \\\\ -i \\sigma^2 \\psi^*_L \\end{pmatrix}  = \n",
    "\\begin{pmatrix} \\psi_L \\\\ -i \\sigma^2 \\psi^*_L \\end{pmatrix} \n",
    "$$\n",
    "\n",
    "That implies that a Majorana spinor has left and right chiral components.\n"
   ]
  },
  {
   "cell_type": "markdown",
   "metadata": {
    "slideshow": {
     "slide_type": "slide"
    }
   },
   "source": [
    "And given a Majorana spinor:\n",
    "\n",
    "$$\n",
    "\\Psi^M = \\begin{pmatrix} \\psi_L \\\\ \\psi_R \\equiv - i \\sigma^2 \\psi^*_L \\end{pmatrix}\n",
    "$$\n",
    "\n",
    "\n",
    "The Dirac equation becames the Majorana equation:\n",
    "\n",
    "$$\n",
    "\\bar{\\sigma}^\\mu \\partial_\\mu \\psi_L +  m \\sigma^2 \\psi^*_L = 0\n",
    "$$\n",
    "\n",
    "where $\\bar{\\sigma}^\\mu \\equiv \\{ I, -\\sigma^k \\} $\n"
   ]
  },
  {
   "cell_type": "markdown",
   "metadata": {},
   "source": [
    "The last equation shows that a Majorana fermion has:\n",
    "\n",
    " - left and right chiral components \n",
    " \n",
    " - a mass, otherwise we obtain back the Weyl equation."
   ]
  },
  {
   "cell_type": "markdown",
   "metadata": {
    "slideshow": {
     "slide_type": "slide"
    }
   },
   "source": [
    "In addition, a Majorana spinor has not the ambiguity of a global phase.\n",
    "\n",
    "If we transform $\\psi_L \\to e^{i\\phi} \\psi_L$, that implies:\n",
    "\n",
    "$$\n",
    "\\Psi^M \\to \\begin{pmatrix} e^{i\\phi} \\, \\psi_L \\\\ e^{-i\\phi} (-i \\sigma^2 \\psi^*_L) \\end{pmatrix}\n",
    "$$\n",
    "\n",
    "There is no $U(1)$ global symmetry that can be associated to a Majorana fermion.\n",
    "Therefore a Majorana fermion has no associated charge. \n",
    "\n",
    "It is a pure neutral fermion: It has not electrical charge, no lepton number.\n",
    "\n",
    "In Majorana's words: Majorana solutions can only describe pure neutral fermions!"
   ]
  },
  {
   "cell_type": "markdown",
   "metadata": {
    "slideshow": {
     "slide_type": "slide"
    }
   },
   "source": [
    "The Lagrangian of a Majorana fermion is:\n",
    "\n",
    "$$\n",
    "\\mathcal{L}_M =  \\frac{1}{2} \\bar{\\Psi} i \\gamma^\\mu \\partial_\\mu \\Psi - \\frac{1}{2} m \\bar{\\Psi} \\Psi\n",
    "$$\n",
    "\n",
    "With the fact $1/2$, The Euler equation is the Majorana equation. If we express $\\Psi$ as a function of $\\psi_L$,\n",
    "we obtain the Euler equation deriving with respect $\\psi_L$. \n",
    "\n",
    "The $1/2$ factor reflects the fact that the Majorana fermion is constructed from a bi-spinor, $\\psi_L$, even if we express it as a four-spinor, $\\Psi$."
   ]
  },
  {
   "cell_type": "markdown",
   "metadata": {
    "slideshow": {
     "slide_type": "slide"
    }
   },
   "source": [
    "We can express the Majorana mass term as a function of the Weyl spinor $\\psi_L$.\n",
    "\n",
    "$$\n",
    "-\\mathcal{L}_m = \\frac{1}{2} m (\\overline{\\psi_L} \\, (\\psi_L)^c + \\overline{(\\psi_L)^c} \\, \\psi_L)\n",
    "$$\n",
    "\n",
    "Notice that again the mass term mixes the left and chiral componentes. The right component is nos associated to $(\\psi_L)^c$."
   ]
  },
  {
   "cell_type": "markdown",
   "metadata": {
    "slideshow": {
     "slide_type": "slide"
    }
   },
   "source": [
    "The Majorana field, in 4 componentes, admits the Fourier decomposition:\n",
    "\n",
    "$$\n",
    "\\Psi^M = \\sum_s \\int_p  \\left[ u_s(p) a_s(p) e^{-i p \\cdot x} + v_s(p) a^\\dagger_s(p) e^{i p \\cdot x} \\right]\n",
    "$$\n",
    "\n",
    "Notice that with the last expression:\n",
    "\n",
    "$$\n",
    "\\Psi^M = (\\Psi^M)^c\n",
    "$$\n",
    "\n",
    "Charge conjugation switches the left and right terms of the Fourier decomposition."
   ]
  },
  {
   "cell_type": "markdown",
   "metadata": {
    "slideshow": {
     "slide_type": "slide"
    }
   },
   "source": [
    "As a Majorana fermion has mass we have lost again the helicity and chirarity as Lorentz and time invariants, and as it happens with a Dirac fermion.\n",
    "\n",
    "Therefore we are back to the situation:\n",
    "\n",
    "\n",
    "For Dirac and Majorana:\n",
    "\n",
    "| | - |  + |\n",
    "| :--:  | :--: | :--: |\n",
    "| -- -- | ------------ | ------------ |\n",
    "| L | $\\sim 1$ | $\\mathcal{O}(m/E)$|\n",
    "| R | $\\mathcal{O}(m/E)$| $\\sim 1$ |\n",
    "\n"
   ]
  },
  {
   "cell_type": "markdown",
   "metadata": {
    "slideshow": {
     "slide_type": "slide"
    }
   },
   "source": [
    "## Relation of neutrino mixing and masses. "
   ]
  },
  {
   "cell_type": "markdown",
   "metadata": {
    "slideshow": {
     "slide_type": "slide"
    }
   },
   "source": [
    "### Dirac case\n",
    "\n",
    "The mass for a Dirac fermion enters in the free lagrangian as:\n",
    "\n",
    "$$\n",
    "-\\mathcal{L}_m = m \\bar{\\Psi} \\Psi\n",
    "$$\n",
    "\n",
    "If we decompose the field in left and right chiral components, $\\Psi = \\Psi_L + \\Psi_R$, that implies:\n",
    "\n",
    "$$\n",
    "-\\mathcal{L}_m = m \\bar{\\Psi}_L \\Psi_R + m \\bar{\\Psi}_R \\Psi_L\n",
    "$$\n",
    "\n",
    "Therefore, the mass terms connects, or needs, both quiralities.\n"
   ]
  },
  {
   "cell_type": "markdown",
   "metadata": {
    "slideshow": {
     "slide_type": "slide"
    }
   },
   "source": [
    "### Dirac masses in the SM: one family\n",
    "\n",
    "Nevertheless the SM splits the fields by quirality and consider them different. In addition, the SM establosh that fermions have no bare masses.\n",
    "\n",
    "The SM locates the left chiral fields into douplets and the right ones into singlets of $SU(2)_L$.\n",
    "\n",
    "To give masses to the weak bosons, the SM introduces the Higgs field as a doublet of 2 complex fields, in a mexican hat potential, that after SSB, it reduces to a single scalar field, $H(x)$, an in the process it providing masses to the $W^\\pm, Z$.\n",
    "\n",
    "The Higgs field adter SSB converto into two parts:\n",
    "\n",
    "$$\n",
    "\\Phi(x) = \\begin{pmatrix} \\phi^+(x) \\\\ \\phi^0(x) \\end{pmatrix} \\rightarrow \\frac{1}{\\sqrt{2}} \\begin{pmatrix} 0 \\\\ v \\end{pmatrix}  + \\begin{pmatrix} 0 \\\\ H(x) \\end{pmatrix}\n",
    "$$\n",
    "\n",
    "One which is *universal*, associated to the vacuum energy of the field, will give rise to the femions masses and the other, the Higgs field itself, to the Higgs Physics.\n",
    "\n"
   ]
  },
  {
   "cell_type": "markdown",
   "metadata": {
    "slideshow": {
     "slide_type": "slide"
    }
   },
   "source": [
    "The SM also provides masses to the leptons. To do so, it couples the Higgs doublet with the left-handed lepton doublet and add then with the scalar right field, therefore the interation term is an scalar under the SM symmetry groups.\n",
    "\n",
    "For one lepton family, where $l = e, \\mu, \\tau$:\n",
    "\n",
    "$$\n",
    "L \\equiv \\begin{pmatrix} \\nu_L \\\\  l_L \\end{pmatrix}, \\;\\; l_R\n",
    "$$\n",
    "\n",
    "The term in the lagrangian:\n",
    "\n",
    "$$\n",
    "-\\mathcal{L}_H = \\lambda^l \\, (\\bar{L}  \\Phi) \\, l_R + \\mathrm{h.c.}   \n",
    "$$\n",
    "\n",
    "Where $\\lambda^l$ is the Yukawa constant (which has no dimensions)"
   ]
  },
  {
   "cell_type": "markdown",
   "metadata": {
    "slideshow": {
     "slide_type": "slide"
    }
   },
   "source": [
    "This term docuples into the Higgs field, $H(x)$ interaction with the charged lepton; and the charged lepton mass.\n",
    "The first gives the Higgs Physics with leptons.\n",
    "\n",
    "as after SSB we obtain, the term associated with the vacuum value of the Higgs is:\n",
    "\n",
    "$$\n",
    "\\left( \\bar{L} \\Phi \\right) = \\frac{v}{\\sqrt{2}} \\, l_L\n",
    "$$\n",
    "\n",
    "We obtain back the mass term:\n",
    "\n",
    "$$\n",
    "-\\mathcal{L}_m = \\frac{\\lambda^l \\, v}{\\sqrt{2}} \\, (\\bar{l}_L l_R + \\bar{l}_R l_L)\n",
    "$$\n",
    "\n",
    "where:\n",
    "\n",
    "$$\n",
    "m_l = \\lambda^l \\frac{v}{\\sqrt{2}}\n",
    "$$\n",
    "\n",
    "is the charged lepton mass.\n",
    "\n",
    "The mass is defined via the Yukawa constant $\\lambda^l$ and the vacuum Higgs energy $v$. Each charged lepton has its own Yukawa coupling."
   ]
  },
  {
   "cell_type": "markdown",
   "metadata": {
    "slideshow": {
     "slide_type": "slide"
    }
   },
   "source": [
    "In order to introduce mass to the neutrinos, we have to introduce first the *sterile* right-chiral field $\\nu_R$ as a singlet.\n",
    "\n",
    "And introduce a new interaction term in the lagrangian of the leptons with the Higgs, using the Higgs conjugate, and after SSB.\n",
    "\n",
    "$$\n",
    "\\tilde{\\Phi} = - i \\sigma^2 \\Phi^* \\rightarrow  \\tilde{\\Phi} = \n",
    "\\frac{1}{\\sqrt{2}} \\begin{pmatrix} v \\\\ 0 \\end{pmatrix} + \\begin{pmatrix} H(x) \\\\ 0 \\end{pmatrix}\n",
    "$$\n",
    "\n",
    "With a new Yukawa coupling associated to the $\\nu$\n",
    "\n",
    "$$\n",
    "-\\mathcal{L}_H = \\lambda^{\\nu} (\\bar{L} \\tilde{\\Phi}) \\, \\nu_R + \\mathrm{h.c}\n",
    "$$\n",
    "\n",
    "This introduces the questions about the need of a $\\nu_R$ field which only purpose in Nature is provide the mass to the neutrino."
   ]
  },
  {
   "cell_type": "markdown",
   "metadata": {
    "slideshow": {
     "slide_type": "slide"
    }
   },
   "source": [
    "Notice that now, the interaction term after SSB gives:\n",
    "\n",
    "$$\n",
    "\\left(\\bar{L} \\tilde{\\Phi}\\right) \\to \\frac{v}{\\sqrt{2}}\\bar{\\nu}_L\n",
    "$$\n",
    "\n",
    "\n",
    "This term generates the Higgs interaction with the neutrino (not discussed here) and the neutrino mass:\n",
    "\n",
    "$$\n",
    "-\\mathcal{L}_m = \\lambda^\\nu \\frac{v}{\\sqrt{2}} \\bar{\\nu}_L \\nu_R + \\mathrm{h.c.}\n",
    "$$\n",
    "\n",
    "where now\n",
    "\n",
    "$$\n",
    "m_\\nu = \\lambda^\\nu \\frac{v}{\\sqrt{2}}\n",
    "$$\n",
    "\n",
    "And the uncorfortable question arises:  *Why neutrinos have a mass at least 6 order of magniture less than its charged lepton parners*?\n",
    "\n",
    "$$\n",
    "\\lambda^\\nu \\ll \\lambda^l\n",
    "$$"
   ]
  },
  {
   "cell_type": "markdown",
   "metadata": {
    "slideshow": {
     "slide_type": "slide"
    }
   },
   "source": [
    "### Dirac masses in the SM. Several families. \n",
    "\n",
    "In the SM there are three flavour families: $e, \\mu, \\tau$, and a general Yukawa interaction could imply mixing between them.\n",
    "\n",
    "Consider the three families lepton flavour states, $l'_i,\\nu'_i, \\; i=1,2,3$, the left-chiral components doublets $L'_i$ and the right-chiral singlets $l'_R$, including $\\nu'_{i, R}$:\n",
    "\n",
    "$$\n",
    "L'_i = \\begin{pmatrix} \\nu'_{iL} \\\\ l'_{iL} \\end{pmatrix}, \\;\\;\\; l'_{iR}, \\nu'_{iR}; \\;\\;\\; i = e, \\mu, \\tau.\n",
    "$$\n",
    "\n",
    "We can consider in a general way the coupling of the fields between *different flavors*.\n",
    "\n",
    "$$\n",
    "-\\mathcal{L}_H = \\sum_{i,j=1}^3 \\lambda^l_{ij} (\\bar{L}'_j \\Phi) l'_{iR} + \\lambda^\\nu_{ij} (\\bar{L}'_j \\tilde{\\Phi}) \\nu'_{iR} + \\mathrm{h.c.}\n",
    "$$\n"
   ]
  },
  {
   "cell_type": "markdown",
   "metadata": {
    "slideshow": {
     "slide_type": "slide"
    }
   },
   "source": [
    "If we introduce the notation:\n",
    "\n",
    "$$\n",
    "{\\bf l}_{L/R} = \\begin{pmatrix} e \\\\ \\mu \\\\ \\tau \\end{pmatrix}_{L/R}, \\;\\;\n",
    "{\\bf \\nu}_{L/R} = \\begin{pmatrix} \\nu_e \\\\ \\nu_\\mu \\\\ \\nu_\\tau \\end{pmatrix}_{L/R}, \n",
    "$$\n",
    "\n",
    "After SSB, we can write the mass lagrangian term in a compact form:\n",
    "\n",
    "$$\n",
    "-\\mathcal{L}_m = \\frac{v}{\\sqrt{2}} \\left( {\\bf \\lambda}_l \\bar{{\\bf l}}'_L {\\bf l'}_R + \\lambda_\\nu \\bar{{\\bf \\nu}}'_L {\\bf \\nu}'_R + \\mathrm{h.c.} \\right)\n",
    "$$\n",
    "\n",
    "where $\\lambda_l, \\, \\lambda_\\nu$ are $3\\times3$ complex matrices."
   ]
  },
  {
   "cell_type": "markdown",
   "metadata": {
    "slideshow": {
     "slide_type": "slide"
    }
   },
   "source": [
    "Furthermore, the $\\frac{v}{\\sqrt{2}}\\lambda_\\alpha$ matrix as is a complex matrix -thanks to a theorem- can be diagonalized with real values in the diagonal, $M_\\alpha$, via a two unitary transformations $V_\\alpha, \\,U_\\alpha$, with $\\alpha = l, \\, \\nu$:\n",
    "\n",
    "$$\n",
    "\\frac{v}{\\sqrt{2}} \\lambda_\\alpha = U^\\dagger_\\alpha \\, M_\\alpha V_\\alpha\n",
    "$$\n",
    "\n",
    "The $U_\\alpha, V_\\beta$ relate the chiral weak states to the mass states via:\n",
    "\n",
    "$$\n",
    "  l_L = U_l \\, l'_L, \\,\\; \\nu_L = U_\\nu \\, \\nu'_L \\\\\n",
    "  l_R = V_l \\, l'_R, \\,\\; \\nu_R = V_\\nu \\, \\nu'_R\n",
    "$$\n",
    "\n",
    "And we finally obtain the lagrangian mass term associated to each particle of the fields:\n",
    "\n",
    "$$\n",
    "-\\mathcal{L}_m =   M_l \\, \\bar{l}_L l_R + M_\\nu \\, \\bar{\\nu}_L \\nu_R + \\mathrm{h.c.} \n",
    "$$\n",
    "\n",
    "Where now the states $l, \\nu$ are mass eigen-states, and the matrices $M_l, M_\\nu$ are $3\\times3$ diagonal matrices with the masses of the leptons and neutrinos in the diagonal.\n",
    "\n",
    "\n",
    "\n",
    "\n"
   ]
  },
  {
   "cell_type": "markdown",
   "metadata": {
    "slideshow": {
     "slide_type": "slide"
    }
   },
   "source": [
    "### How the mix affect the NC and the CC?\n",
    "\n",
    "Does the mix of mass and weak states affect the CC and NC?\n",
    "\n",
    "First, it does not affect the NC. Notice that the NC part of the lagrangian is not altered!\n",
    "\n",
    "$$\n",
    "- \\mathcal{L}_{NC} =  \\frac{g}{2 \\cos \\theta_W} \\bar{\\nu}'_{L} \\gamma^\\mu \\nu'_{L} Z_\\mu = \n",
    "\\frac{g}{2 \\cos \\theta_W} \\bar{\\nu}_{L} \\gamma^\\mu \\, (U^\\dagger_\\nu U_\\nu) \\, \\nu_{L} Z_\\mu\n",
    "$$\n",
    "\n",
    "And $(U^\\dagger_\\nu U_\\nu) = I$ as $U_\\nu$ is a unitary matrix."
   ]
  },
  {
   "cell_type": "markdown",
   "metadata": {
    "slideshow": {
     "slide_type": "slide"
    }
   },
   "source": [
    "But it does affect the CC lagrangian term:\n",
    "\n",
    "$$\n",
    "- \\mathcal{L}_{CC} = \n",
    "\\frac{g}{\\sqrt{2}} \\bar{l}'_{L} \\gamma^\\mu \\nu'_L W^+_\\mu + \\mathrm{h.c.} = \n",
    "\\frac{g}{\\sqrt{2}} \\bar{l}_{L}  \\gamma^\\mu (U^\\dagger_l U_\\nu) \\, \\nu_L W^+_\\mu + \\mathrm{h.c.}\n",
    "$$\n",
    "\n",
    "The CC are affected by the mixing matrix $U$ is:\n",
    "\n",
    "$$\n",
    "U = U^\\dagger_l \\, U_\\nu\n",
    "$$\n",
    "\n",
    "This matrix is known as *Pontecorbo-Maki-Nakawaga-Sakata* matrix, $U_{PMNS}$, and it is reponsible of the neutrino-oscillations.\n"
   ]
  },
  {
   "cell_type": "markdown",
   "metadata": {
    "slideshow": {
     "slide_type": "slide"
    }
   },
   "source": [
    "As only the CC are affected by the mixing, in an effective way we can asociate the mix between the flavour and mass states in leptons only two the neutrinos, via the $U$ (PMNS) mixing matrix.\n",
    "\n",
    "$$\n",
    "\\nu' = U \\, \\nu \n",
    "$$\n"
   ]
  },
  {
   "cell_type": "markdown",
   "metadata": {
    "slideshow": {
     "slide_type": "slide"
    }
   },
   "source": [
    "In the quark sector a similar mechanims happens. It generates the $V_{CKM}$, the *Cabibbo-Kowayashi-Maskawa* matrix.\n",
    "\n",
    "In that case, the matrix is associated to the fields of the bottoms quarks:\n",
    "\n",
    "$$\n",
    "{\\bf b}' = V \\, {\\bf b}\n",
    "$$\n",
    "\n",
    "The $V_{CKM}$ is reponsible of a reach complex physics in the hadronic sectors, in particular, the complex face of the matrix, generates CP violation physics in the hadronic sector.\n",
    "\n",
    "Both physics are know as *Flavour Physics*."
   ]
  },
  {
   "cell_type": "markdown",
   "metadata": {
    "slideshow": {
     "slide_type": "slide"
    }
   },
   "source": [
    "### Parameters of the $U_{PMNS}$\n",
    "\n",
    "This a unitary $3\\times3$ matrix has $9$ parameters, $3$ mixing angles, and $6$ phases. \n",
    "\n",
    "We can use the global symmetries of the Dirac fields to re-absorbe some phases of ${\\bf U}$:\n",
    "\n",
    "$$\n",
    "l_\\alpha \\to e^{i\\phi_\\alpha} l_\\alpha, \\;\\;\\; \\nu_k \\to e^{i \\phi_k} \\nu_k\n",
    "$$\n",
    "\n",
    "The CC lagrangian is:\n",
    "\n",
    "$$\n",
    "\\sum_{\\alpha, k} \\bar{l}_{\\alpha L} e^{-i\\phi_\\alpha} U_{\\alpha k} \\gamma^\\mu e^{i\\phi_k} \\nu_{k L} \\, W^+_\\mu + \\mathrm{h.c.}\n",
    "$$\n",
    "\n",
    "We can take a global factor:\n",
    "\n",
    "$$\n",
    "e^{-i(\\phi_e-\\phi_1)} \\sum_{k,\\alpha} \\bar{l}_{\\alpha L} \\gamma^\\mu \\, ( e^{-i(\\phi_\\alpha-\\phi_e)} U_{\\alpha k } \\gamma^\\mu e^{i(\\phi_k-\\phi_1)} ) \\, \\nu_{k L} W^+_\\mu + \\mathrm{h.c.}\n",
    "$$\n",
    "\n",
    "In total we can reabsorb $5$ phases. Therefore there is only one phase left: $\\delta_{CP}$, the CP violation phase.\n"
   ]
  },
  {
   "cell_type": "markdown",
   "metadata": {
    "slideshow": {
     "slide_type": "slide"
    }
   },
   "source": [
    "The usual parameterization of $U_{PMNS}$ in terms of 3 angles and one CP-phase:\n",
    "\n",
    "| |\n",
    "| :--: |\n",
    "|<img src=\"./imgs/Umatrix_dirac.png\" width = 600>| "
   ]
  },
  {
   "cell_type": "markdown",
   "metadata": {
    "slideshow": {
     "slide_type": "slide"
    }
   },
   "source": [
    "## Majorana mass\n",
    "\n",
    "The term in the lagrangian associated to a Majorana mass, given that the Majorana spinor is constructed from a $\\nu_L$ field, is:\n",
    "\n",
    "$$\n",
    "-\\mathcal{L}_m = \\frac{1}{2} m ( \\overline{\\nu_L} (\\nu_L)^c +  \\overline{(\\nu_L)^c} \\nu_L ) \n",
    "$$\n",
    "\n",
    "\n",
    "But in the SM to obtain an scalar term with the field $\\nu_L$, we need to introduce the coupling between the L douplet ant the $\\tilde{\\Phi}$ Higgs conjugate. After SSB:\n",
    "\n",
    "$$\n",
    "\\bar{L} \\tilde{\\Phi} \\to \\frac{v}{\\sqrt{2}} \\overline{\\nu_L}  \n",
    "$$\n"
   ]
  },
  {
   "cell_type": "markdown",
   "metadata": {
    "slideshow": {
     "slide_type": "slide"
    }
   },
   "source": [
    "The lagrangian Majorana mass term is:\n",
    "\n",
    "$$\n",
    "-\\mathcal{L}_m = \\frac{\\alpha}{\\Lambda} (\\bar{L} \\tilde{\\Phi}) \\, (\\tilde{\\Phi}^T L^c ) + \\mathrm{h.c.}\n",
    "$$\n",
    "\n",
    "Where $\\alpha$ is a un-dimensional coupling (similar to Yukawa) and $\\Lambda$ is an unknown *large* energy scale\n",
    "\n",
    "This term couples 4 fields, two from fermions and two from a scalar. It has 5-dim in $[E]^5$ \n",
    "\n",
    "$$\n",
    "    [L] = [E]^{3/2}, \\;\\;\\; [\\Phi] = [E]\n",
    "$$\n",
    "\n",
    "This term is known as the Weinberg operator.\n"
   ]
  },
  {
   "cell_type": "markdown",
   "metadata": {
    "slideshow": {
     "slide_type": "slide"
    }
   },
   "source": [
    "We do not know the energy scale $\\Lambda$, but if we take $\\alpha \\sim 1$, and $v = 246$ GeV, and $m_\\nu \\sim 1$ eV, we get:\n",
    "\n",
    "$$\n",
    "\\Lambda \\sim 10^{14} \\;\\; \\mathrm{GeV}\n",
    "$$\n",
    "\n",
    "The fact the Majorana neutrinos adquire mass via a different mechanism that Dirac fermions do, can explain why neutrinos has a smaller mass then their parners charged leptons."
   ]
  },
  {
   "cell_type": "markdown",
   "metadata": {
    "slideshow": {
     "slide_type": "slide"
    }
   },
   "source": [
    "We should remember that the SM lagrangian has only 4-dim, renormalizable, terms. \n",
    "\n",
    "We can always interpret the SM as the effective low energy theory of a complete theory realized at a large energy scale $\\Lambda$.\n",
    "\n",
    "The effects of the larger theory are present at low energy via n-dim operators:\n",
    "\n",
    "$$\n",
    "\\mathcal{L}_{eff} = \\mathcal{L}_{SM} + \\sum_{d = 5}^n \\delta \\mathcal{L}_{d}\n",
    "$$\n",
    "\n",
    "The Weinberg operator [Wein] is the only 5-dim operator in this expansion. It is the first effect of this general theory at \"low\" energy."
   ]
  },
  {
   "cell_type": "markdown",
   "metadata": {
    "slideshow": {
     "slide_type": "slide"
    }
   },
   "source": [
    "The Weinberg operator can be represented as the following Feynman diagram:\n",
    "\n",
    "\n",
    "| | |\n",
    "| :--: | :--: |\n",
    "|<img src=\"./imgs/majo_weinberg_feynman.png\" width = 300>| <img src=\"./imgs/majo_seesaw_feynman.png\" width = 300>| \n",
    "| Weinberg operator diargam| A realization of the a see-saw model |\n",
    "\n",
    "The operator can be realized or interpreted as the interchange of a heavy particle, in the right diagram, via a $N$ massive extra sterile right-chiral majorana neutrino. \n",
    "\n",
    "In these models, known as see-saw, the larger the mass of the intercharged particle, the smaller is the mass of the SM neutrino.\n"
   ]
  },
  {
   "cell_type": "markdown",
   "metadata": {
    "slideshow": {
     "slide_type": "slide"
    }
   },
   "source": [
    "### Majorana mass, several families\n",
    "\n",
    "In the Majorana case, we extend the SM with the Weinberg 5-dim operator, to the 3 families:\n",
    "\n",
    "$$\n",
    "- \\mathcal{L}_m =  \\sum_{\\beta, \\beta'} \\frac{\\alpha^\\nu_{\\beta\\beta'}}{\\Lambda} \\,  (\\bar{L'_\\beta} \\tilde{\\Phi}) \\, (\\tilde{\\Phi}^T L'^c_{\\beta'}) + \\mathrm{h.c.} \n",
    "$$\n",
    "\n",
    "where $\\alpha$ is a complex coupling and $\\Lambda$ an energy scale.\n",
    "\n",
    "After SSB:\n",
    "\n",
    "$$\n",
    "-\\mathcal{L}_m = \\frac{v^2}{2 \\Lambda} \\left(\\alpha \\, \\bar{\\nu}'_L {\\nu'_L}^c + \\mathrm{hc} \\right)\n",
    "$$\n",
    "\n",
    "Now, the  $3\\times3$,  $\\frac{v}{\\sqrt{2} \\Lambda} \\alpha_\\nu$ matrix is symmetric and complex, and it can be diagonalized to a mass matrix $M^M_\\nu$ with onbly a unitary $U_\\nu$ matrix.\n",
    "\n",
    "$$\n",
    "\\frac{v^2}{2\\Lambda}\\alpha_\\nu = U^\\dagger_\\nu M^M_\\nu U^*_\\nu\n",
    "$$"
   ]
  },
  {
   "cell_type": "markdown",
   "metadata": {
    "slideshow": {
     "slide_type": "slide"
    }
   },
   "source": [
    "The mixing matrix $U$ have now 3 angles 3 phases. Because there are no global phases that can be extracted from the Majorana neutrinos fields, and therefore we can only reabsorb the 3 phases associated to the charged lepton Dirac fields. Finally, there are 3 phases left: $\\delta_CP$, and two Majorana phases: $\\eta_1, \\eta_2$.\n",
    "\n",
    "The Majorana mixing matrix is parametized as:\n",
    "    \n",
    "| | \n",
    "| :--: |\n",
    "|<img src=\"./imgs/Umatrix_majorana.png\" width = 600>|\n",
    "    \n",
    "With $\\theta_{ij} \\in [0, \\pi/2]$ and $\\delta, \\eta_{1,2} \\in [0, 2\\pi)$\n",
    "\n",
    "*Question*: Show that the Majorana phases $\\eta_{1,2}$ have no effect in neutrino oscillations."
   ]
  },
  {
   "cell_type": "markdown",
   "metadata": {
    "slideshow": {
     "slide_type": "slide"
    }
   },
   "source": [
    "## Are Neutrinos Majorana?\n",
    "\n",
    "\n",
    "| |\n",
    "| :--: |\n",
    "| <img src=\"./imgs/pidecay_majorana_dirac.png\" width = 600> |\n",
    "\n",
    "How we can experimentally distinguish a Majorana neutrino?\n",
    "\n",
    "If neutrino is Majorana, a neutrino created in a $\\pi^+$ decay whould be able to interact and to produce either $\\mu^+$ or $\\mu^-$"
   ]
  },
  {
   "cell_type": "markdown",
   "metadata": {
    "slideshow": {
     "slide_type": "slide"
    }
   },
   "source": [
    "In the SM neutrinos are Weyl spinor, in that case we have a triple degenerancy: Lepton number, quirality and helicity!\n",
    "\n",
    " * A neutrino is a left-chiral field and has negative helicity.\n",
    "\n",
    " + An antineutrino is a right-chiral field and has positive helicity.\n",
    "\n",
    "Either or the three quantities gives the same information.\n",
    "\n",
    "We can simply say that the SM neutrino has negative helicity and anti-neutrino positive helicity.\n",
    "\n",
    "|  |  |  |  |\n",
    "| :--: | :--: | :--: | :--: |\n",
    "| | L | Q | H|\n",
    "|$\\nu_L$ | +1 | L |  -1 |  \n",
    "|$\\bar{\\nu}_R$ | -1 | R |  +1 |  "
   ]
  },
  {
   "cell_type": "markdown",
   "metadata": {
    "slideshow": {
     "slide_type": "slide"
    }
   },
   "source": [
    "A Dirac neutrino is clasified by its lepton number.\n",
    "\n",
    "A neutrino is created in a CC from a lepton and it is destroyed in a CC creating back a lepton. \n",
    "\n",
    "\n",
    "An anti-neutrino is created in a CC from an anti-lepton and it is destroyed in a CC creating back an anti-lepton.\n",
    "\n"
   ]
  },
  {
   "cell_type": "markdown",
   "metadata": {
    "slideshow": {
     "slide_type": "slide"
    }
   },
   "source": [
    "A Majorana neutrino is clasified by its helicity. The rol played by lepton number is transfered to the helicity.\n",
    "\n",
    "When we call *neutrino* in Dirac we imply a *negative helicity* in Majorana, when we call *antinuetrino* we imply *positive* helicity.\n",
    "\n",
    "A neutrino is created in CC from a lepton and it can be destroyed in a CC creating back a lepton.\n",
    "\n",
    "  - The neutrino is the CC is left-handed and mostly negative helicity.\n",
    "\n",
    "The neutrino can be destroyed in a CC creating an anti-lepton.\n",
    "\n",
    "- The neutrino in the  CC is right-handed and mostly positive. Its component is supressed by:\n",
    "\n",
    "$$\n",
    "\\mathcal{O}(m/E)\n",
    "$$\n"
   ]
  },
  {
   "cell_type": "markdown",
   "metadata": {
    "slideshow": {
     "slide_type": "slide"
    }
   },
   "source": [
    "\n",
    "|  |  |  |  | |\n",
    "| :--: | :--: | :--: | :--: |:--: |\n",
    "| --  --| -- L -- |-- Q -- | -- H -1 --| -- H +1 -- |\n",
    "|$\\nu_L$ | - | L |  $\\sim 1$ | $\\mathcal{O}(\\frac{m}{E})$ |\n",
    "|$\\nu_R$ | - | R |  $\\mathcal{O}(\\frac{m}{E})$ | $\\sim 1$ |  \n",
    "\n",
    "\n",
    "The suppression factor in the transition rate is squared supressed:\n",
    "\n",
    " * For a $m_\\nu \\sim 1$ eV and $E \\sim 1$ MeV, $\\to 10^{-12}$\n",
    "\n",
    " * For a $m_\\nu \\sim 1$ eV and $E \\sim 1$ Gev, $\\to 10^{-18}$\n",
    "\n",
    "Experimentally almost impossible!\n",
    "\n",
    "Majora and Dirac are *experimentally* almost identical due to the small mass of the neutrino.\n"
   ]
  },
  {
   "cell_type": "markdown",
   "metadata": {
    "slideshow": {
     "slide_type": "slide"
    }
   },
   "source": [
    "### Double beta decay without neutrinos\n",
    "\n",
    "| |\n",
    "| :--: |\n",
    "| <img src=\"./imgs/bb0nu_Feynman.png\" width = 400> |\n",
    "\n",
    "\n",
    "The only experimentally accesible experiment is the hypothetical vary rare double beta decay *without neutrinos*.\n",
    "\n"
   ]
  },
  {
   "cell_type": "markdown",
   "metadata": {
    "slideshow": {
     "slide_type": "slide"
    }
   },
   "source": [
    "The three mass neutrinos participate in the process, each have with a suppresed coeficient:\n",
    "\n",
    "$$\n",
    "U^2_{ei} \\frac{m_i}{E}\n",
    "$$\n",
    "\n",
    "As the *electron neutrino* is decomposed in 3 massive neutrinos and each one enter as *neutrino* in one $\\beta$ vertex and as *anti-neutrino* in the other.\n",
    "\n",
    "The transition amplitude is proportional to\n",
    "\n",
    "$$\n",
    "\\mathcal{A} \\propto  m_{\\beta\\beta} \\equiv \\sum_i U^2_{ei} \\, m_i\n",
    "$$\n",
    "\n",
    "the Majorana mass, $m_{\\beta\\beta}$.\n",
    "\n",
    "Note that the Majorana mass depends on the first row of the neutrino $U$ Majorana mixing matrix and the neutrino masses.\n"
   ]
  },
  {
   "cell_type": "markdown",
   "metadata": {
    "slideshow": {
     "slide_type": "slide"
    }
   },
   "source": [
    "The $\\beta\\beta2 \\nu$ (with neutrinos) was proposed [1] by [M. Goeppert-Mayer](https://en.wikipedia.org/wiki/Maria_Goeppert-Mayer) in 1935.\n",
    "\n",
    "$$\n",
    "(A, Z) \\to (A, Z+ 2) + 2 e^- + 2 \\bar{\\nu}_e + Q_{\\beta\\beta}\n",
    "$$\n",
    "\n",
    "This is a second order decay, that happens in 35 isotopes, where single $\\beta$ is kinematically forbiden.\n",
    "\n",
    "In particular in: $^{48}\\mathrm{Ca}$, $^{76}\\mathrm{Ge}$,  $^{82}\\mathrm{Se}$, $^{100}\\mathrm{Mo}$, $^{130}\\mathrm{Te}$ and $^{136}\\mathrm{Xe}$. \n",
    "\n",
    "The half-life is quite large $\\mathcal{O}(10^{19})$ yr"
   ]
  },
  {
   "cell_type": "markdown",
   "metadata": {
    "slideshow": {
     "slide_type": "slide"
    }
   },
   "source": [
    "| |\n",
    "| :--: |\n",
    "|<img src=\"./imgs/bb2nu_isotopes_T12.png\" width = 500 > |\n"
   ]
  },
  {
   "cell_type": "markdown",
   "metadata": {
    "slideshow": {
     "slide_type": "slide"
    }
   },
   "source": [
    "\n",
    "In 1939 W. Furry proposed [2] the hypothetical decay $\\beta\\beta 0\\nu$ if $\\nu$ are Majorana\n",
    "\n",
    "$$\n",
    "(A, Z) \\to (A, Z+ 2) + 2 e^-  + Q_{\\beta\\beta}\n",
    "$$\n",
    "\n",
    "The half-life time of this decay is:\n",
    "\n",
    "$$\n",
    "\\left(T^{0\\nu}_{1/2}\\right)^{-1} = G^{0\\nu} \\, \\left| M^{0\\nu} \\right|^2 \\, m^2_{\\beta\\beta}\n",
    "$$\n",
    "\n",
    "Where $G^{0\\nu}$ is the phase factor, $\\left| M^{0\\nu} \\right|^2$, the nuclear matrix elemment (NME) squared, and\n",
    "\n",
    "$$\n",
    "m_{\\beta\\beta} =  \\sum_i U^2_{ei} \\, m_i\n",
    "$$\n",
    "\n",
    "is the effective majorana mass which depends of the elements of the mixing matrix $U_{ei}$ and the neutrino masses $m_i$.\n"
   ]
  },
  {
   "cell_type": "markdown",
   "metadata": {
    "slideshow": {
     "slide_type": "slide"
    }
   },
   "source": [
    "About the phase factor:\n",
    "\n",
    "|  |  |\n",
    "| :--: | :--: |\n",
    "|<img src=\"./imgs/bb0nu_table_G0nu_Qbb.png\" width = 350>| <img src=\"./imgs/bb0nu_isotope_table_Qbb.png\" width = 350>|\n",
    "\n",
    "Notice:\n",
    "$$\n",
    "G^{0\\nu}/m^2_e \\sim \\, \\mathcal{O}(10^{-26}) \\;\\; 1/ (\\mathrm{y \\, eV}^2)\n",
    "$$\n",
    "\n",
    "The best isotope will be the one with the largest phase space and largest Q, and with a larga *natural* abundance.\n",
    "\n",
    "There is no *best isotope*. The current experiments use as a targer, mostly, $^{136}\\mathrm{Xe}$ and $^{76}\\mathrm{Ge}$."
   ]
  },
  {
   "cell_type": "markdown",
   "metadata": {
    "slideshow": {
     "slide_type": "slide"
    }
   },
   "source": [
    "About the majorana mass:\n",
    "\n",
    "The majorana mass, $m_{\\beta\\beta}$ depends on the $U_{\\alpha i}$ matrix elements, the mass of the lightest neutrino, $m_0$, and $\\Delta m^2_{32}, \\; \\Delta m^2_{21}$\n",
    "\n",
    "In NH:\n",
    "    \n",
    "$$\n",
    "m_{\\beta\\beta} = \\left| m_0 c^2_{12} c^2_{13} + \\sqrt{m^2_0 + \\Delta m^2_{21}} \\, s^2_{12} c^2_{13} e^{2i (\\eta_2 -\\eta_1)} + \\sqrt{m^2_0 + \\Delta m^2_{32} + \\Delta m^2_{21}} \\, s^2_{13} e^{-2i(\\delta_{CP} + \\eta_1)}\\right|\n",
    "$$\n",
    "\n",
    "In IH:\n",
    "\n",
    "$$\n",
    "m_{\\beta\\beta} = \\left| m_0  s^2_{13} + \\sqrt{|m^2_0 - \\Delta m^2_{32}|} \\, s^2_{12} c^2_{13} e^{2i (\\eta_2 + \\delta_{CP})} + \\sqrt{|m^2_0 - \\Delta m^2_{32} - \\Delta m^2_{21}|} \\, c^2_{12} c^2_{13} e^{2i(\\eta_1 + \\delta_{CP})}\\right|\n",
    "$$\n",
    "\n",
    "where $m_0$ is the mass of the lightest neutrino."
   ]
  },
  {
   "cell_type": "markdown",
   "metadata": {
    "slideshow": {
     "slide_type": "slide"
    }
   },
   "source": [
    "In the limit $m_0 \\to 0$\n",
    "\n",
    "in NH:\n",
    "\n",
    "$$\n",
    "m_{\\beta\\beta} \\simeq \\left| \\sqrt{\\Delta m^2_{21}} \\, s^2_{12} c^2_{13} + \\sqrt{\\Delta m^2_{32}} \\, s^2_{13} e^{-2i(\\delta_{CP} + \\eta_2 )} \\right| \\simeq 1.1 - 4.2 \\; \\mathrm{meV}\n",
    "$$\n",
    "\n",
    "In IH:\n",
    "\n",
    "$$\n",
    "m_{\\beta\\beta} \\simeq \\ \\sqrt{|\\Delta m^2_{32}|} \\, c^2_{13} \\left| s^2_{12} + \\, c^2_{12} e^{-2i(\\eta_2 - \\eta_1)}\\right| \\ge \\sqrt{|\\Delta m^2_{32}|} \\, c^2_{13} \\cos^2 2\\theta_{12} \\simeq 15 - 50 \\; \\mathrm{meV}\n",
    "$$\n"
   ]
  },
  {
   "cell_type": "markdown",
   "metadata": {
    "slideshow": {
     "slide_type": "slide"
    }
   },
   "source": [
    "| |\n",
    "| :--: |\n",
    "| <img src=\"./imgs/mbb_vs_mlight.png\" width = 400> |\n",
    "\n",
    "The majorana mass vs the lightest neutrino for Normal (red) or Inverted (blue) Hierarchy.\n",
    "\n",
    "Values of $U_{\\alpha i}$ from NuFit group 2019.\n",
    "\n",
    "The objective of the next generation of $\\beta\\beta0\\nu$ experiments is to cover the IH region."
   ]
  },
  {
   "cell_type": "markdown",
   "metadata": {
    "slideshow": {
     "slide_type": "slide"
    }
   },
   "source": [
    "\n",
    "| |\n",
    "| :--: |\n",
    "| <img src=\"./imgs/bb0nu_NME.png\" width = 400> |\n",
    "\n",
    "The matrix element has a large uncertainty theoretical error (see [3]).\n",
    "\n",
    "It translates in a large uncertainty on $T^{0\\nu}_{1/2}$ for $m_{\\beta\\beta} = 1$ meV (bottom plot). $M^{0\\nu} \\sim \\, \\mathcal{O}(1)$"
   ]
  },
  {
   "cell_type": "markdown",
   "metadata": {
    "slideshow": {
     "slide_type": "slide"
    }
   },
   "source": [
    "*Question:* Compute $T^{0\\nu}_{1/2}$ for $^{136}\\mathrm{Xe}$ for $m_{\\beta\\beta} = 50$ meV."
   ]
  },
  {
   "cell_type": "code",
   "execution_count": 1,
   "metadata": {
    "slideshow": {
     "slide_type": "subslide"
    }
   },
   "outputs": [
    {
     "name": "stdout",
     "output_type": "stream",
     "text": [
      "life-time 8.08e+26 y\n"
     ]
    }
   ],
   "source": [
    "G0nu, M0nu, mbb = 5.5e-26, 3, 50e-3\n",
    "T0nu = 1./(G0nu * M0nu**2 * mbb**2)\n",
    "print('life-time {:1.2e} y'.format(T0nu))\n"
   ]
  },
  {
   "cell_type": "markdown",
   "metadata": {
    "slideshow": {
     "slide_type": "slide"
    }
   },
   "source": [
    "### $\\beta\\beta$ experimental signature\n",
    "\n",
    "\n",
    "| |\n",
    "| :--: |\n",
    "|<img src=\"./imgs/bb2nu_bb0nu_spectrum.png\" width = 400> |\n",
    "\n",
    "\n",
    "- Signature: A mono-energetic spectrum of the two electrons which energy is $Q_{\\beta\\beta}$\n"
   ]
  },
  {
   "cell_type": "markdown",
   "metadata": {
    "slideshow": {
     "slide_type": "slide"
    }
   },
   "source": [
    "Given the fact the the $T^{0\\nu}_{1/2}$ is very large, $\\mathcal{O}(10^{25})$ y, we approximate, the number of expected $\\beta\\beta2\\nu$ events:\n",
    "\n",
    "$$\n",
    "N_{\\beta\\beta} = \\ln(2) \\frac{N_A}{W} \\frac{a \\epsilon M t}{T^{0\\nu}_{1/2}}\n",
    "$$\n",
    "\n",
    "where $N_A$ is Avogradro's number, $W$ is the molar mass, $a$ the isotopic abundance, $\\epsilon$ the detection efficiency in the RoI, $t$ the time of exposure, $M$ the target mass and $T^{0\\nu}_{1/2}$ the half-live.\n",
    "\n",
    "The number of events depends on the *exposure*: $M \\, t$ (ton y)"
   ]
  },
  {
   "cell_type": "markdown",
   "metadata": {
    "slideshow": {
     "slide_type": "slide"
    }
   },
   "source": [
    "*question:* Compute the number of events expected in 100 kg y  of $^{136}\\mathrm{Xe}$ at 90% abundance vs the $T^{0\\nu}_{1/2}$ "
   ]
  },
  {
   "cell_type": "code",
   "execution_count": 4,
   "metadata": {
    "slideshow": {
     "slide_type": "slide"
    }
   },
   "outputs": [
    {
     "name": "stdout",
     "output_type": "stream",
     "text": [
      "Nbb =   2.76 events\n"
     ]
    }
   ],
   "source": [
    "NA, acc, eff, W = 6.02e23, 0.9, 1., 136.\n",
    "T0nu, M, t = 1e26, 1e5, 1\n",
    "nbb = np.log(2.) * NA * acc * eff * M * t / (W * T0nu)\n",
    "print('Nbb = {:6.2f} events'.format(nbb))"
   ]
  },
  {
   "cell_type": "markdown",
   "metadata": {
    "slideshow": {
     "slide_type": "slide"
    }
   },
   "source": [
    "The signal is identified:\n",
    "\n",
    "  - energy resolutiion, Region of Interest (RoI), $\\Delta E = \\mathrm{FWHM} = 2{\\sqrt {2\\ln 2}}\\;\\sigma \\simeq 2.355 \\;\\sigma$\n",
    "  \n",
    "  - other discrimination variables: i.e tracks (2 $\\beta$), pulse shape, ..."
   ]
  },
  {
   "cell_type": "markdown",
   "metadata": {
    "slideshow": {
     "slide_type": "slide"
    }
   },
   "source": [
    "The background comes from different sources (mostly gamma interactions in the detector):\n",
    " \n",
    "  - cosmogenic muons (spalation). Detector installed underground and  veto-system. \n",
    "  \n",
    "    * Reduction: $\\mathcal{O}(10^6)$\n",
    " \n",
    "  - natural radioactivity (U, Th radio-active chains). Ultra radio-pure materials and handeling.\n",
    "  \n",
    "    * Activities: $\\mathcal{O}(10^{-6})$ Bq/kg, tipical activities 1-100 Bq/kg.\n",
    "  \n",
    "  - $^{220-222}\\mathrm{Rn}$ natural radioactivity. Abatement systems, degasing of materials\n",
    "  \n",
    "  - neutrons from the rock (activation). Detector inner shielding."
   ]
  },
  {
   "cell_type": "markdown",
   "metadata": {
    "slideshow": {
     "slide_type": "slide"
    }
   },
   "source": [
    "\n",
    "| | |\n",
    "| :--: | :--: |\n",
    "| <img src=\"./imgs/Th232_chain.png\" width = 300 align='left'> | <img src=\"./imgs/U238_chain.png\" width = 300 align='right'> !"
   ]
  },
  {
   "cell_type": "markdown",
   "metadata": {
    "slideshow": {
     "slide_type": "slide"
    }
   },
   "source": [
    "\n",
    "For $^{136}\\mathrm{Xe}$, the isotopes $^{208}\\mathrm{Tl}$ y $^{214}\\mathrm{Bi}$ are the main contamination, due to the  $\\gamma$ similar in energy to $Q_{\\beta\\beta}$."
   ]
  },
  {
   "cell_type": "markdown",
   "metadata": {
    "slideshow": {
     "slide_type": "slide"
    }
   },
   "source": [
    "| |\n",
    "| :--: |\n",
    "| <img src=\"./imgs/muflux_undergroundlabs.png\" width = 400 align='center'> |\n",
    "\n",
    "Water equivalent meters of the main underground laboratories."
   ]
  },
  {
   "cell_type": "markdown",
   "metadata": {
    "slideshow": {
     "slide_type": "slide"
    }
   },
   "source": [
    "The background events depends in the background-index, $b$, in counts/(ton yr keV).\n",
    "\n",
    "And the RoI (FWHM, $\\Delta E$) in keV\n",
    "\n",
    "$$\n",
    "N_{bkg} \\propto b \\, \\Delta E \\, M \\, t\n",
    "$$\n",
    "\n",
    "While the signal\n",
    "\n",
    "$$\n",
    "N_{sig} \\propto M \\, t \n",
    "$$"
   ]
  },
  {
   "cell_type": "markdown",
   "metadata": {
    "slideshow": {
     "slide_type": "slide"
    }
   },
   "source": [
    "\n",
    "The sensitivity, $S^{0\\nu}$, of an experiment, that is the $Z$ number of sigmas, of the $\\beta\\beta0\\nu$ events above the fluctuation of number of background events has two domains:\n",
    "\n",
    " i) background free experiment\n",
    " \n",
    "$$\n",
    " \\mathcal{S}(T^{0\\nu}_{1/2}) \\propto \\epsilon \\, M \\, t\n",
    "$$\n",
    " \n",
    " ii) expected background index, $b$\n",
    " \n",
    "$$\n",
    "\\mathcal{S}(T^{0\\nu}_{1/2}) \\propto \\frac{N_{sig}}{\\sqrt{N_{bkg}}} = \\sqrt{\\frac{M \\, t}{b \\Delta E}}\n",
    "$$\n",
    " \n",
    " *Question*: What is the sensitivity to $m_{\\beta\\beta}$? An increase of a factor 100 is mass is a factor 10 in $T^{0\\nu}_{\\beta\\beta}$ and $\\sqrt{10}$ in $m_{\\beta\\beta}$!"
   ]
  },
  {
   "cell_type": "markdown",
   "metadata": {
    "slideshow": {
     "slide_type": "slide"
    }
   },
   "source": [
    "\n",
    "| |\n",
    "| :--: |\n",
    "| <img src=\"./imgs/Xe_mbb_vs_exposure_bkginRoI.png\" width = 400 align='center'> |\n",
    "\n",
    "Possible limits on $m_{\\beta\\beta}$ of a perfect Xe experiment for different bkg-index in RoI [[4]](https://arxiv.org/abs/1502.00581).\n",
    "\n",
    "To cover the IH allowed region (grey area) we aim for a 1 ton detector, 1 counts/(RoI ton yr). \n",
    "\n",
    "  - Next Generation Experiment holy grail!"
   ]
  },
  {
   "cell_type": "markdown",
   "metadata": {
    "slideshow": {
     "slide_type": "subslide"
    }
   },
   "source": [
    "*question*: Show the dependence of $S(T^{0\\nu}_{1/2})$ as a function of $b$ index and exposure."
   ]
  },
  {
   "cell_type": "markdown",
   "metadata": {
    "slideshow": {
     "slide_type": "slide"
    }
   },
   "source": [
    "The main ingredientes for a $\\beta\\beta$ detector are:\n",
    "    \n",
    "   - large exposure of the target isotope, $M \\, t$\n",
    "    \n",
    "   - excelellent energy resolution, small $\\Delta E$\n",
    "    \n",
    "   - ultra radiopure detector and  extra handles to reject the bacground, very small $b$\n",
    "    \n",
    "    \n",
    "For the next generation experiments we aim:\n",
    "\n",
    "   - $M \\, t \\; \\mathcal{O}(1)$ ton yr, $\\Delta E \\; \\mathcal{O}(1-0.1)$ %, and $b \\; \\mathcal{O}(1)$ c/(ton RoI yr) "
   ]
  },
  {
   "cell_type": "markdown",
   "metadata": {
    "slideshow": {
     "slide_type": "slide"
    }
   },
   "source": [
    "## Search for Majorana Neutrinos\n",
    "\n",
    "\n",
    "We present the results of the three main experiments:\n",
    "\n",
    "  * EXO\n",
    "  \n",
    "  * KamLAND-Zen\n",
    "  \n",
    "  * GERDA/LEGEND\n"
   ]
  },
  {
   "cell_type": "markdown",
   "metadata": {
    "slideshow": {
     "slide_type": "slide"
    }
   },
   "source": [
    "### EXO-200  (2011-2015)\n",
    "\n",
    "\n",
    "- Located at [WIPP](https://www.wipp.energy.gov) MN-USA\n",
    "\n",
    "- 175 kg enriched 80% $^{136}\\mathrm{Xe}$\n",
    "\n",
    "- Symmetric Liquid Xenon TPC with charge readout (ionization) in the anodes and light collection (scintillation) with APDs\n",
    "\n",
    "- Inside a cryostat, shielded by a lead castle and protected with a muon veto\n"
   ]
  },
  {
   "cell_type": "markdown",
   "metadata": {
    "slideshow": {
     "slide_type": "slide"
    }
   },
   "source": [
    "\n",
    "| | |\n",
    "| :--: | :--: |\n",
    "| <img src=\"./imgs/EXO200_detector.png\" width = 350 align='center'>  | <img src=\"./imgs/EXO200_photo.png\" width = 450 align='center'> |\n",
    "| Exo200 drawing| Exo200 detector |"
   ]
  },
  {
   "cell_type": "markdown",
   "metadata": {
    "slideshow": {
     "slide_type": "slide"
    }
   },
   "source": [
    "| | |\n",
    "| :--: | :--: |\n",
    "| <img src=\"./imgs/EXO200_detector_operation.png\" width = 300 align='center'> | <img src=\"./imgs/EXO200_calibration.png\" width = 300 align='center'> |\n",
    "| Exo technique | Calibration |\n"
   ]
  },
  {
   "cell_type": "markdown",
   "metadata": {
    "slideshow": {
     "slide_type": "slide"
    }
   },
   "source": [
    "Principle of operation: \n",
    "\n",
    "  - interaction in $^{136}\\mathrm{Xe}$ produce scintillation light (detected by the APDs) and ionization electrons.\n",
    "   \n",
    "  - electrons drift in the E field of the TPC (~300 V/cm)\n",
    "  \n",
    "  - they are collected in the wires at the anode\n",
    "  \n",
    "Calibration using $^{228}\\mathrm{Th}$ with a peak at 2.6 MeV. Scintillation and ionization light are correlated\n",
    "\n",
    "Signal is mostly a single point deposition (SS) while background ($\\gamma$) can produce several depositions (MS)"
   ]
  },
  {
   "cell_type": "markdown",
   "metadata": {
    "slideshow": {
     "slide_type": "subslide"
    }
   },
   "source": [
    "Main characteristics of EXO analysis:\n",
    "\n",
    "- Total exposure $234.1$ kg yr \n",
    "\n",
    "- $Q_{\\beta\\beta} = 2458$ keV, $^{136}\\mathrm{Xe} \\to ^{136}\\mathrm{Ba} + 2 e^-$\n",
    "\n",
    "- Energy resolution: 3% FWHM \n",
    "    \n",
    "    - 1.23 % $\\sigma$ energy resolution phase-I and  1.15 % $\\sigma$ phase-II\n",
    "\n",
    "- bkg-index $1.7\\times 10^{-3}$ c/(kg keV yr) phase-I and $1.9\\times 10^{-3}$ c/(kg keV yr), phase-II\n",
    "\n",
    "    - separation of Multi-Site (mostly background) and Single-Site (mostly signal) events \n"
   ]
  },
  {
   "cell_type": "markdown",
   "metadata": {
    "slideshow": {
     "slide_type": "slide"
    }
   },
   "source": [
    "\n",
    "| |\n",
    "| :--: |\n",
    "| <img src=\"./imgs/EXO200_energy_spectrum.png\" width = 700 align='center'> |\n",
    "\n",
    "\n",
    "With 324.1 kg y exposure, EXO-200 established a limit $\\mathcal{L}(T^{0\\nu}_{1/2}) \\gt 3.5 \\times 10^{25}$ y at 90% CL, with an expected sensitivity $\\mathcal{S}(T^{0\\nu}_{1/2}) \\gt 5 \\times 10^{25}$, complete dataset (2019) [[5]](https://arxiv.org/abs/1906.02723)\n",
    "\n",
    "Its translates to a range in $m_{\\beta\\beta}$ 93 - 286 meV (using [3])"
   ]
  },
  {
   "cell_type": "markdown",
   "metadata": {
    "slideshow": {
     "slide_type": "slide"
    }
   },
   "source": [
    "### KamLAND-Zen (2011-2018)\n",
    "\n",
    "\n",
    "- Located the Kamioka mine, re-use of KamLAND detector\n",
    "\n",
    "- Inner transparent balloon 3 m diameter with LS and 300 kg of $^{136}\\mathrm{Xe}$\n",
    "\n",
    "- Base mass 300 kg Xenon\n",
    "\n",
    "- Total exposure 504 kg yr\n",
    "\n",
    "- $Q_{\\beta\\beta} = 2458$ keV, $^{136}\\mathrm{Xe} \\to ^{136}\\mathrm{Ba} + 2 e^-$\n",
    "\n",
    "- calibration with $^{228}\\mathrm{Th}$\n",
    "\n",
    "- Poor energy resolution 11 % FWHM\n",
    "\n",
    "- bkg-index $1.6 \\times 10^{-4}$ counts/(kg yr keV) dominated by muon spallation and $\\beta\\beta2\\nu$\n",
    "\n",
    "    - in phase-I LS was contaminated with $^{110m}\\mathrm{Ag}$ and required 18 months of LS purification.\n",
    "\n"
   ]
  },
  {
   "cell_type": "markdown",
   "metadata": {
    "slideshow": {
     "slide_type": "slide"
    }
   },
   "source": [
    "| | \n",
    "| :--: |\n",
    "| <img src=\"./imgs/KamLAND-zen_detector.png\" width = 400 align='center'> |\n",
    "\n",
    "$^{136}\\mathrm{Xe}$ is disolved in LS inside a transparent thin 3 meter balloon.\n",
    "\n",
    "Energy is measured from the scintillating light and the position with the light distribution in PMTs.\n",
    "\n",
    "The energy resolution is *poor* 11% FWHM\n",
    "\n",
    "Target mass is large, 300 kg"
   ]
  },
  {
   "cell_type": "markdown",
   "metadata": {
    "slideshow": {
     "slide_type": "slide"
    }
   },
   "source": [
    "\n",
    "| |\n",
    "| :--: |\n",
    "| <img src=\"./imgs/KamLAND-zen_event_distribution.png\" width = 400 align='center'> |\n",
    "\n",
    "Position of evens in RoI in $z$ and $r^2$, radius squared, in the balloon.\n",
    "\n",
    "Most of the events are close or originating from the balloon wall (black line).\n",
    "\n",
    "Only events inside a 1 m sphere (dashed line) are accepted."
   ]
  },
  {
   "cell_type": "markdown",
   "metadata": {
    "slideshow": {
     "slide_type": "slide"
    }
   },
   "source": [
    "\n",
    "| | | \n",
    "| :--: | :--: |\n",
    "| <img src=\"./imgs/KamLAND-zen_energy_spectrum.png\" width = 350 align='center'>  | <img src=\"./imgs/KamLAND-zen_energy_spectrum_zoom.png\" width = 350 align='center'>  |\n",
    "\n",
    "Energy spectum KamLAND-zen (2016) [[6]](https://arxiv.org/abs/1605.02889)\n",
    "\n",
    "With  504 kg yr, KamLAND-zen established a limit $\\mathcal{L}(T^{0\\nu}_{1/2})  \\ge 10.7 \\times 10^{25}$ yr at 90% CL, with a sensitivity  $\\mathcal{S}(T^{0\\nu}_{1/2}) > 5.6 \\times 10^{25}$ yr\n",
    "\n",
    "It translates to a range in $m_{\\beta\\beta}$ 61 - 165 meV\n"
   ]
  },
  {
   "cell_type": "markdown",
   "metadata": {
    "slideshow": {
     "slide_type": "slide"
    }
   },
   "source": [
    "| |\n",
    "| :--: |\n",
    "| <img src=\"./imgs/KamLAND-zen_mbb_vs_mlightest.png\" width = 350 align='center'> |\n",
    "\n",
    "Limits on $m_{\\beta\\beta}$ vs $m_{light}$ imposed by KamLAND-Zen [6] vs the mass of the lightest neutrino."
   ]
  },
  {
   "cell_type": "markdown",
   "metadata": {
    "slideshow": {
     "slide_type": "slide"
    }
   },
   "source": [
    "### KamLAND-Zen 800 (2019-):\n",
    "\n",
    "  * 745 kg $^{136}\\mathrm{Xe}$\n",
    "  \n",
    "  * 2 times large balloon and better radiopure materials\n",
    "  * reduction $^{12}\\mathrm{C}$, $^{136}\\mathrm{Xe}$ spallation by data analysis\n",
    "  * current exposure: 970 kg yr  \n",
    "  * Expected: Improve KamLand-Zeon 400 by a factor 4 in 5 y, ($m_{\\beta\\beta} < 20-80$ meV)\n"
   ]
  },
  {
   "cell_type": "markdown",
   "metadata": {
    "slideshow": {
     "slide_type": "slide"
    }
   },
   "source": [
    "\n",
    "| | | \n",
    "| :--: | :--: |\n",
    "| <img src=\"./imgs/KamLANDZEN800_Edistribution.png\" width = 400 align='center'>  | <img src=\"./imgs/KamLANDZEN800_bkg.png\" width = 300 align='center'>  |\n",
    "| spectrum | bkg estimation in RoI|\n",
    "\n",
    "[KamLAND-Zen 800 2022](https://arxiv.org/abs/2203.02139)\n",
    "\n"
   ]
  },
  {
   "cell_type": "markdown",
   "metadata": {
    "slideshow": {
     "slide_type": "slide"
    }
   },
   "source": [
    "| |\n",
    "| :--: | \n",
    "| <img src=\"./imgs/KamLANDZEN800_mbb.png\" width = 300 align='center'>  |\n",
    "\n",
    "* with 2.0970 t yr exposure, (combined with previous KamLANDZEN results) they reach a limit $\\mathcal{\\tau}^{\\beta\\beta0\\nu}_{1/2} > 3.8 \\times 10^{26}$ yr at 90% C.L, and\n",
    "$m_{\\beta\\beta} \\;\\; 28-122$ meV.\n",
    "\n",
    "[8] [arXiv:2406.11438](https://arxiv.org/abs/2406.11438)"
   ]
  },
  {
   "cell_type": "code",
   "execution_count": null,
   "metadata": {},
   "outputs": [],
   "source": []
  },
  {
   "cell_type": "markdown",
   "metadata": {
    "slideshow": {
     "slide_type": "slide"
    }
   },
   "source": [
    "### Gerda (2015-2020)\n",
    "\n",
    "- 37 High Purity Ge diodes (87% $^{76}\\mathrm{Ge}$): \n",
    "\n",
    "   - 15.6 kg Coaxial detectors (CD). Phase-I\n",
    "   \n",
    "   - 20 kg of Broad Energy Germanium (BEG). Phase-II 35 kg \n",
    "\n",
    "- Located in strings with very low mass and radio-pure electronics\n",
    "\n",
    "- inside a cryogenic bath of 63 $\\mathrm{m}^3$ of Liquid Argon. Detector are instrumented with a courtain of light-fibers with SiPM readout\n",
    "\n",
    "- in a water tank 590 $\\mathrm{m}^3$ instrumented with PMTs\n",
    "\n",
    "- detector at LNGS, Italy\n"
   ]
  },
  {
   "cell_type": "markdown",
   "metadata": {
    "slideshow": {
     "slide_type": "slide"
    }
   },
   "source": [
    "| | |\n",
    "| :--: | :--: |\n",
    "|<img src=\"./imgs/GERDA_detector.png\" width = 250 align='left'> | <img src=\"./imgs/GERDA_detector_strings.png\" width = 250 align='right'> |\n",
    "| Gerda drawing | Gerda veto+Ge detectors|"
   ]
  },
  {
   "cell_type": "markdown",
   "metadata": {
    "slideshow": {
     "slide_type": "slide"
    }
   },
   "source": [
    "\n",
    "\n",
    "- base mass 35 kg\n",
    "\n",
    "- $Q_{\\beta\\beta} = 2039$ keV, $^{76}\\mathrm{Ge} \\to ^{76}\\mathrm{Se} + 2e^-$\n",
    "\n",
    "- weekly calibration with $^{228}\\mathrm{Th}$\n",
    "\n",
    "- **Excellent energy resolution** 0.2 % FWHM\n",
    "\n",
    "- bkg-index $5.6^{+3.4}_{-2.4}\\times 10^{-4}$ c/(kg y keV) for BEGe detectors and $5.7^{+4.1}_{-2.6}\\times 10^{-4}$ c/(kg y keV) CD. \n",
    "\n",
    "   - **Almost background free experiment**."
   ]
  },
  {
   "cell_type": "markdown",
   "metadata": {
    "slideshow": {
     "slide_type": "slide"
    }
   },
   "source": [
    "\n",
    "| | | |\n",
    "| :--: | :--: | :--: |\n",
    "| <img src=\"./imgs/GERDA_Gesensors_photo.png\" width = 200 align='left'>  | <img src=\"./imgs/GERDA_sensor_operation.png\" width = 250 align='right'> |  <img src=\"./imgs/GERDA_detection_scheme.png\" width = 200 align='center'> |\n",
    "| sesor | operation | discrimination |\n"
   ]
  },
  {
   "cell_type": "markdown",
   "metadata": {
    "slideshow": {
     "slide_type": "slide"
    }
   },
   "source": [
    "| |\n",
    "| :--: |\n",
    "| <img src=\"./imgs/GERDA_energy_spectrum_phaseII.png\" width = 600 align='center'> |\n",
    " Energy spectum of phase-II GERDA (2019) [[7]](https://arxiv.org/abs/1909.02726) |\n",
    "\n",
    "With  82.4 kg yr, GERDA established a limit $\\mathcal{L}(T^{0\\nu}_{1/2}) \\gt 9 \\times 10^{25}$ yr at 90% CL, with a sensitivity  $\\mathcal{S}(T^{0\\nu}_{1/2}) > 11 \\times 10^{25}$ yr\n",
    "\n",
    "With 103.7 kg y, final GERDA result (2020), [[7b]](https://journals.aps.org/prl/abstract/10.1103/PhysRevLett.125.252502), impossed a limit of $T^{0\\nu}_{1/2}) > 1.8 \\times 10^{26}$ y.\n",
    "\n",
    "Its translates to a range in $m_{\\beta\\beta}$ 104 - 228 meV"
   ]
  },
  {
   "cell_type": "markdown",
   "metadata": {
    "slideshow": {
     "slide_type": "slide"
    }
   },
   "source": [
    "| |\n",
    "| :--: |\n",
    "| <img src=\"./imgs/GERDA_mbb_vs_mlight_exclusion.png\" width = 700 align='center'> |\n",
    "\n",
    "GERDA (2019) [[6]](https://arxiv.org/abs/1909.02726) $m_{\\beta\\beta}$ limit vs the mass of the lightest neutrino, the sum of neutrino masses and the effective neutrino electron mass."
   ]
  },
  {
   "cell_type": "markdown",
   "metadata": {
    "slideshow": {
     "slide_type": "slide"
    }
   },
   "source": [
    "#### LEGEND200\n",
    "\n",
    "LEGEND 200 (kg) is the upgrade of GERDA (and the fussion of the MAJORANA collaboration)\n",
    "\n",
    "There are plans for the upgrate to 1000 kg ton, but funding pending!\n",
    "\n",
    "A factor 5 in background level compared with GERDA\n",
    "\n",
    "First data taking with 143 kg in LNGS during 2023, re-starting data taking in 2025\n",
    "\n",
    "Capability of different cuts to reduce the background:\n",
    "\n",
    "| | |\n",
    "| :--: | :--: |\n",
    "| <img src=\"./imgs/LEGEND_scheme.png\" width = 300 align='center'> |<img src=\"./imgs/LEGEND_string.png\" width = 200 align='center'> |\n",
    "| LEGEND scheme | picture of the Ge strings |\n",
    "\n",
    "\n",
    "Neutrino 2024"
   ]
  },
  {
   "cell_type": "markdown",
   "metadata": {
    "slideshow": {
     "slide_type": "slide"
    }
   },
   "source": [
    " *  200 kg of enriched Ge (×5 yr), in GERDA cryostat\n",
    " *  Taking physics data since March 2023 with 142 kg of enrGe\n",
    " *  b  $2\\times  10^{−4}$ cts / (keV kg yr)\n",
    " *  Sensitibity $\\tau_{1/2}^{\\beta\\beta0\\nu} > 10^{27}$ yr\n",
    "\n",
    "Capability of different cuts to reduce the background:\n",
    "\n",
    "| |\n",
    "| :--: |\n",
    "| <img src=\"./imgs/LEGEND_pulseshape.png\" width = 500 align='center'> |\n",
    "\n",
    "\n",
    "Neutrino 2024"
   ]
  },
  {
   "cell_type": "markdown",
   "metadata": {
    "slideshow": {
     "slide_type": "slide"
    }
   },
   "source": [
    "| |\n",
    "| :--: |\n",
    "| <img src=\"./imgs/LEGEND_Espectrum_cuts.png\" width = 500 align='center'> |\n",
    "| Blind analysis - E espectrum after different cuts| \n",
    "\n",
    "Neutrino 2024"
   ]
  },
  {
   "cell_type": "markdown",
   "metadata": {
    "slideshow": {
     "slide_type": "slide"
    }
   },
   "source": [
    "| | |\n",
    "| :--: | :--: |\n",
    "| <img src=\"./imgs/LEGEND_Espectrum_fit.png\" width = 500 align='center'> | <img src=\"./imgs/LEGEND_blind24.png\" width = 300 align='center'> |\n",
    "| Energy spectrum fit | Zoom in the RoI (blind analysis)|\n",
    "\n",
    "\n",
    "Neutrino 2024"
   ]
  },
  {
   "cell_type": "markdown",
   "metadata": {
    "slideshow": {
     "slide_type": "slide"
    }
   },
   "source": [
    "| | \n",
    "| :--: | \n",
    "| <img src=\"./imgs/LEGEND_box24.png\" width = 300 align='center'> |\n",
    "\n",
    "Preliminary results:\n",
    " * Exposure: 48.3 kg yr (golden)\n",
    " * 1 event in RoI (1.5 $\\sigma$), $ b= 5.3 \\times 10^{-4}$ cnts/(keV kg yr)\n",
    " * Combined result with GERDA, Majorana previous results: $\\tau^{\\beta\\beta0\\nu}_{1/2} = 1.9 \\times 10^{26}$ yr, while the median sensitivity is $2.8 \\times 10^{26}$ yr\n",
    " "
   ]
  },
  {
   "cell_type": "markdown",
   "metadata": {
    "slideshow": {
     "slide_type": "slide"
    }
   },
   "source": [
    "### NEXT Experiment (2017-)\n",
    "\n",
    "- 100 kg $^{136}\\mathrm{Xe}$ High Pressure Gas \n",
    "\n",
    "   - Excellent resolution < 1 % FWHM at Qbb (2.48 MeV)\n",
    "\n",
    "   - NEXT-White ~10 kg NEXT-White prototype (2017-2022)\n",
    "\n",
    "   - NEXT-100, ~100 kg (2024-)\n",
    "\n",
    "- Detectors located at [Canfranc Laboratory](https://lsc-canfranc.es), Spain"
   ]
  },
  {
   "cell_type": "markdown",
   "metadata": {
    "slideshow": {
     "slide_type": "slide"
    }
   },
   "source": [
    "| | \n",
    "| :--: |\n",
    "| <img src=\"./imgs/NEXT_soft.png\" width = 400 align='center'> | "
   ]
  },
  {
   "cell_type": "markdown",
   "metadata": {
    "slideshow": {
     "slide_type": "slide"
    }
   },
   "source": [
    "Concept:\n",
    "    \n",
    "  1. Scintillation emission (S1), $t_0$ time\n",
    "  \n",
    "  2. Secondary electrons drift towards the anode (1 mm/ 1 $\\mu$s)\n",
    "  \n",
    "  3. EL light emission, (S2), detector at energy plane (energy) and in tracking plane (position)\n",
    "    \n"
   ]
  },
  {
   "cell_type": "markdown",
   "metadata": {
    "slideshow": {
     "slide_type": "slide"
    }
   },
   "source": [
    "Detector:\n",
    "\n",
    "- An asymmetric Time Projection Chamber (600 V/cm)\n",
    "\n",
    "   - Cilinder (1 m length, 1 m diameter)\n",
    "\n",
    "   - Cathode: PMTs plane (light detector, energy measurement)\n",
    "   \n",
    "   - Anode: SiPMs in a fine grid (1 x 1 cm$^2$), light collection near source, tracking reconstruction\n",
    "      \n",
    "- Electro-Luminiscence region at the Anode\n",
    "\n",
    "   - $\\times 10$ E field, to convert secondary electrons to light, linear production\n",
    "\n",
    "   - Light is proportional to secondary electrons\n",
    "   \n",
    "   - Number of secondary electrons are proportional to energy interaction\n"
   ]
  },
  {
   "cell_type": "markdown",
   "metadata": {
    "slideshow": {
     "slide_type": "slide"
    }
   },
   "source": [
    "| | \n",
    "| :--: |\n",
    "| <img src=\"./imgs/NEXT100_xsection.png\" width = 400 align='center'> |"
   ]
  },
  {
   "cell_type": "markdown",
   "metadata": {
    "slideshow": {
     "slide_type": "slide"
    }
   },
   "source": [
    "| | | \n",
    "| :--: | :--: |\n",
    "| <img src=\"./imgs/NEXT_topology_tracks.png\" width = 400 align='center'> |  <img src=\"./imgs/NEXT_blobs_discrimination.png\" width = 250 align='center'> |\n"
   ]
  },
  {
   "cell_type": "markdown",
   "metadata": {
    "slideshow": {
     "slide_type": "slide"
    }
   },
   "source": [
    "| | |\n",
    "| :--: | :--: |\n",
    "|<img src=\"./imgs/NEXT_Tbb0nu_vs_Expo.png\"     width = 300 align='left'>  | <img src=\"./imgs/NEXT_Tbb0nu_vs_BkgIndex.png\" width = 300 align='right'> |\n",
    "\n",
    "\n",
    "Background index $= 4 \\times 10^4$ counts/keV kg y and Exposure = 275  kg y. [NEXT-1]"
   ]
  },
  {
   "cell_type": "markdown",
   "metadata": {
    "slideshow": {
     "slide_type": "slide"
    }
   },
   "source": [
    "| | | |\n",
    "| :--: | :--: | :--: |\n",
    "|<img src=\"./imgs/NEW_xsection.png\"            width = 500 align='center'> |<img src=\"./imgs/NEW_foto_energy_plane.png\"   width = 480 align='left'> |<img src=\"./imgs/NEW_foto_tracking_plane.png\" width = 480 align='right'>| \n",
    "\n",
    "[NEXT-2]"
   ]
  },
  {
   "cell_type": "markdown",
   "metadata": {
    "slideshow": {
     "slide_type": "slide"
    }
   },
   "source": [
    "| | | \n",
    "| :--: | :--: |\n",
    "| <img src=\"./imgs/NEW_foto.png\" width = 400 align='center'>  |  <img src=\"./imgs/NEW_in_platform.png\" width = 300 align='center'> |\n",
    "| NEXT-White detector | Hall-A LSC NEXT installation|"
   ]
  },
  {
   "cell_type": "markdown",
   "metadata": {
    "slideshow": {
     "slide_type": "slide"
    }
   },
   "source": [
    "| | | \n",
    "| :--: | :--: |\n",
    "| <img src=\"./imgs/NEW_LR_events.png\" width = 350 align='center'> |  <img src=\"./imgs/NEW_blobs_de.png\" width = 350 align='center'> |\n",
    "| events in NEXT-White | blob energy distributions in NEXT-White |\n",
    "\n",
    "\n",
    "Reconstructed double and single electrons using NEW calibration data [NEXT-3] [NEXT-4]."
   ]
  },
  {
   "cell_type": "markdown",
   "metadata": {
    "slideshow": {
     "slide_type": "slide"
    }
   },
   "source": [
    "## NEXT generation of $\\beta\\beta0\\nu$ experiments\n",
    "\n",
    "There is a large list of proposal and next-generation experiments for $\\beta\\beta0\\nu$\n",
    "\n",
    "They use different techniques.\n",
    "\n",
    "They target is to cover the IH allowed $m_{\\beta\\beta}$ >15 meV\n",
    "\n",
    "reach $\\mathcal{O}(10)$ meV with different isotopes and techniques.\n",
    "\n",
    "In general: ton detectors, with BI < 1 c / (ton FWHM y)\n"
   ]
  },
  {
   "cell_type": "markdown",
   "metadata": {
    "slideshow": {
     "slide_type": "slide"
    }
   },
   "source": [
    "\n",
    "| |\n",
    "| :--: |\n",
    "| <img src=\"./imgs/bb0nu_future_experiments.png\" width = 600 align='center'> |\n",
    "\n",
    "from [GG21-Guilliani]"
   ]
  },
  {
   "cell_type": "markdown",
   "metadata": {
    "slideshow": {
     "slide_type": "slide"
    }
   },
   "source": [
    "**Liquid Scintillator** detectors:\n",
    "\n",
    " - KamLAND-zen 800 kg (2019-), ton (2025?) $^{136}\\mathrm{Xe}$, at Kamioka, Japan\n",
    " \n",
    " - SNO+ (2019-), 1330 kg $^{130}\\mathrm{Te}$ at SNOLab, Canada\n",
    " \n",
    "**Time Proyection Chambers** :\n",
    "\n",
    " - nEXO (202?), 5 tons, Liquid $^{136}\\mathrm{Xe}$\n",
    " \n",
    " - NEXT-White (2018-2021), NEXT-100 (2024-), -ton (2028-?), 100 kg (ton) High Preasure $^{136}\\mathrm{Xe}$ at Canfranc, Spain"
   ]
  },
  {
   "cell_type": "markdown",
   "metadata": {
    "slideshow": {
     "slide_type": "slide"
    }
   },
   "source": [
    "\n",
    "**Germanio**:\n",
    "\n",
    " - LEGEND-200, ton (GERDA and Majorana collaborations) $^{67}\\mathrm{Ge}$ at LNGS\n",
    "\n",
    " - LEGEND-100 $^{67}\\mathrm{Ge}$ at SNOLab.\n",
    "\n",
    "\n",
    "**Bolometers**:\n",
    "\n",
    " - CUORE, 206 kg $^{130}\\mathrm{Te}$ bolometers, $\\Delta E = 7.7 \\pm 0.5$ keV FWHM [11] at LNGS, ITay\n",
    " \n",
    " - CUPID (CUPID-0 wiht $^{82}\\mathrm{Se}$) with bolometers and scintillators [12]\n",
    " \n",
    " - AMoRE ($^{100}\\mathrm{Mo}$, $^{60}\\mathrm{Ca}$) with bolometers and scintillators, at Yangyang, S. Korea [13].\n",
    "\n",
    "Tracking detectors:\n",
    "\n",
    " - NEMO (different isotopes) [14]. \n",
    "\n",
    "\n",
    "Note: The dates with $?$ indicate proposed experiments not yet approved or funded."
   ]
  },
  {
   "cell_type": "markdown",
   "metadata": {
    "slideshow": {
     "slide_type": "slide"
    }
   },
   "source": [
    "### KamLAND2-Zen \n",
    "\n",
    "  * Planned\n",
    "\n",
    "  * large source (> ton of $^{136}\\mathrm{Xe}$), more ambitious in the future\n",
    "\n",
    "  * Reduce $^{214}\\mathrm{Bi}$ (tagging events) and $\\beta\\beta2\\nu$ bkg (improve energy resolution),\n",
    "\n",
    "  * brighter ($5 \\times $), $ 2 \\times $ better energy resolution $\\sigma_E = 2.5$ \\% at $Q_{\\beta\\beta}$.\n",
    "\n",
    "      * Improvement in PMT QE (20%->30%)\n",
    "      \n",
    "  * 5y Sensitivity: $3 \\, 10^{27}$ y, $m_{\\beta\\beta} < 14-37$ meV\n",
    "  "
   ]
  },
  {
   "cell_type": "markdown",
   "metadata": {
    "slideshow": {
     "slide_type": "slide"
    }
   },
   "source": [
    "| |\n",
    "| :--: |\n",
    "| <img src=\"./imgs/KamLAND2_fig.png\" width = 200 align='center'> |\n",
    "  \n",
    "  "
   ]
  },
  {
   "cell_type": "markdown",
   "metadata": {
    "slideshow": {
     "slide_type": "slide"
    }
   },
   "source": [
    "|            | $\\Delta E$ (keV) |  --- BI (c/(keV kg y)--- | --- Exposure (kg y) ---| ------- $T_{1/2}$ y ------| --- $m_{\\beta\\beta}$ eV --- |\n",
    "| :-- | :--: | :--: | :--: | :--: | :--: |\n",
    "| **KamLAND-Zen 400** |  172 (7%)|   $1.6 \\times 10^{-4}$       |          350    |  $1.07 \\, 10^{26}$ |  60-160 |\n",
    "| KamLAND-Zen 800     | 7%       |          | $745 \\times 5$  |                  |  20-80  |\n",
    "| KamLAND2-Zen ton    | 2.5 %    |  | $1000 \\times 10$|                  |  14-37  |\n",
    "\n"
   ]
  },
  {
   "cell_type": "markdown",
   "metadata": {
    "slideshow": {
     "slide_type": "slide"
    }
   },
   "source": [
    "### Legend-1000\n",
    "\n",
    "| |\n",
    "| :--: |\n",
    "| <img src=\"./imgs/Legend_sim_exp.png\" width = 450 align='center'> |\n",
    "\n",
    "A simulated experiments of Legend-1000 [GS21-Schönert]"
   ]
  },
  {
   "cell_type": "markdown",
   "metadata": {
    "slideshow": {
     "slide_type": "slide"
    }
   },
   "source": [
    "| |\n",
    "| :--: |\n",
    "| <img src=\"./imgs/Legend_fig.png\" width = 400 align='center'> |\n",
    "\n",
    "   \n"
   ]
  },
  {
   "cell_type": "markdown",
   "metadata": {
    "slideshow": {
     "slide_type": "slide"
    }
   },
   "source": [
    "|            | $\\Delta E$ (keV) |  --- BI (c/(keV kg y)--- | --- Exposure (kg y) ---| ------- $T_{1/2}$ y ------| --- $m_{\\beta\\beta}$ eV --- |\n",
    "| :-- | :--: | :--: | :--: | :--: | :--: |\n",
    "| **Gerda** [[7b]](https://journals.aps.org/prl/abstract/10.1103/PhysRevLett.125.252502)  (2020)    | 3  | $5.2 \\, 10^{-4}$ |          103.7       |  $1.8 \\, 10^{26}$             |  79-180     |\n",
    "| Legend-200  | 3  | $2 \\, 10^{-4}$   | $200 \\times 5$  | $20^{27}$        | 34-78 |\n",
    "| [Legend-1000](https://arxiv.org/abs/2107.11462) | 3  | $10^{-5}$        | $1000 \\times 10$| $1.3 \\, 20^{28}$ | 9-21  |\n",
    "\n"
   ]
  },
  {
   "cell_type": "markdown",
   "metadata": {
    "slideshow": {
     "slide_type": "slide"
    }
   },
   "source": [
    "### nEXO\n",
    "\n",
    "  * Most likely it will not see the light!\n",
    "  \n",
    "  * Installation at SNOLab\n",
    "  * Based on EXO-200:\n",
    "      * Liquid Xe TPC, measurement of scintilation and charge\n",
    "\n",
    "  * 5 tons of $^{136}\\mathrm{Xe}$. \n",
    "\n",
    "      * cilindrical TPC $\\phi = 1.3$ m, in a cryostat and Vacuum. \n",
    "\n",
    "  * Inprovement in ligh sensors (SiPMs) and light colection, $\\sigma_E = 0.8$ % at $Q_{\\beta\\beta}$.\n",
    "  \n",
    "  * Improvement in radiopurity (electroformed Cu) and smaller fidutial internal region.\n",
    "  "
   ]
  },
  {
   "cell_type": "markdown",
   "metadata": {
    "slideshow": {
     "slide_type": "slide"
    }
   },
   "source": [
    "| |\n",
    "| :--: |\n",
    "| <img src=\"./imgs/nEXO_fig.png\" width = 500 align='center'> |\n",
    "\n",
    "\n"
   ]
  },
  {
   "cell_type": "markdown",
   "metadata": {
    "slideshow": {
     "slide_type": "slide"
    }
   },
   "source": [
    "|            | $\\sigma_E$ (keV) |  --- BI (c/(keV kg y)--- | --- Exposure (kg y) ---| ------- $T_{1/2}$ y ------| --- $m_{\\beta\\beta}$ eV --- |\n",
    "| :-- | :--: | :--: | :--: | :--: | :--: |\n",
    "| **EXO-200** [[5]](https://arxiv.org/abs/1906.02723)    | 29  |  |    234.1   |  $3.5 \\, 10^{25}$             |  93-286     |\n",
    "| nEXO  | 19  | $7.5 \\, 10^{-5}$ (eff)   | $3281 \\times 10$  | $1.35 \\, 20^{28}$        | 5-15 |\n",
    "\n"
   ]
  },
  {
   "cell_type": "markdown",
   "metadata": {
    "slideshow": {
     "slide_type": "slide"
    }
   },
   "source": [
    "### NEXT-1ton"
   ]
  },
  {
   "cell_type": "markdown",
   "metadata": {
    "slideshow": {
     "slide_type": "slide"
    }
   },
   "source": [
    "| | |\n",
    "| :--: | :--: |\n",
    "| <img src=\"./imgs/NEXT1ton_design.png\" width = 350 align='center'> | <img src=\"./imgs/NEXT1ton_reach_vs_expon.png\" width = 250 align='center'> |\n",
    "| NEX-ton drawing | NEXT-ton sensitibity|\n",
    "\n",
    "[NEXT-5]"
   ]
  },
  {
   "cell_type": "markdown",
   "metadata": {
    "slideshow": {
     "slide_type": "slide"
    }
   },
   "source": [
    "## Conclusions\n",
    "\n",
    "The fact that neutrinos can be its one particle is one of the crucial questions still open in Particle Physics.\n",
    "\n",
    "If neutrinos are Majorana this implies NP at a large scale.\n",
    "\n",
    "The search of Majorana neutrinos is experimentally very challenging. The only experimental way is to observe a $\\beta\\beta0\\nu$ decay.\n",
    "\n",
    "Several best limit experiments KamLAND-Zen, $\\tau^{2\\beta0\\nu}_{1/2}(^{126}\\mathrm{Xe}) > 1.23 \\times 10^{26}$ y at 90 % C.L. and Gerda $T^{2\\beta0\\nu}_{1/2}(^{76}\\mathrm{Ge}) > 1.8 \\times 10^{26}$ y at 90 % C.L.\n",
    "\n",
    "Several next generation experiment is construction: CUPID, NEXT, KamLAND2-Zen, LEGEND, they will cover the IH $m_{\\beta\\beta}$ allowed region in the next decades."
   ]
  },
  {
   "cell_type": "markdown",
   "metadata": {
    "slideshow": {
     "slide_type": "slide"
    }
   },
   "source": [
    "----\n",
    "\n",
    "## References\n",
    "---\n",
    "\n",
    "[Majo] E. Majorana, Nuovo Cimento 14 (1937) 171-184\n",
    "\n",
    "[Wein] S. Weinberg, \"Baryon and lepton-nonconserving processes\", Phys. Rev. Lettr. 43 (1979) 1566.\n",
    "\n",
    "[1] M. Goeppert-Mayer, Phys. Rev. 48 (1935) 512.\n",
    "\n",
    "[2] W. Furry, Phys. Rev. 56 (1939) 1184.\n",
    "\n",
    "[3]  Engel J, Menendez J. Rept. Prog. Phys. 80:046301 (2017)\n",
    "\n",
    "[4] \"Phenomenology of neutrinoless double beta decay\", J.J. Gómez-Cademas, J. Martín-Albo, [arXiv:1502.00581v2](https://arxiv.org/abs/1502.00581).\n",
    "\n",
    "[5] G. Anton et al. (EXO-200 Collaboration), Phys. Rev. Lett. 123, 161802 (2019), [arXiv:1906.02723](https://arxiv.org/abs/1906.02723).\n",
    "\n",
    "[6] A. Gando et al. (KamLAND-Zen), Phys. Rev. Lett. 117, 8, 082503 (2016), [Addendum: Phys.\n",
    "Rev. Lett.117,no.10,109903(2016)], [arXiv:1605.02889](https://arxiv.org/abs/1605.02889).\n",
    "\n",
    "[7] M. Agostini et al. (GERDA), Science 365, 1445 (2019), [arXiv:1909.02726]((https://arxiv.org/abs/1902.02726)).\n",
    "\n",
    "[7b] M. Agostini et al. (GERDA Collaboration), [Phys. Rev. Lett. 125, 252502 (2020)](https://journals.aps.org/prl/abstract/10.1103/PhysRevLett.125.252502) \n",
    "\n",
    "[8] KamLAND-Zen 800 PRL (2023) [arXiv:2203.02139](https://arxiv.org/abs/2203.02139), Complete Data Set [arXiv:2406.11438](https://arxiv.org/abs/2406.11438)"
   ]
  },
  {
   "cell_type": "markdown",
   "metadata": {
    "slideshow": {
     "slide_type": "slide"
    }
   },
   "source": [
    "[8] KamLAND-Zen 800 PRL (2023) [arXiv:2203.02139](https://arxiv.org/abs/2203.02139), Complete Data Set [ariXiv:2406.11438](https://arxiv.org/abs/2406.11438)"
   ]
  },
  {
   "cell_type": "markdown",
   "metadata": {
    "slideshow": {
     "slide_type": "subslide"
    }
   },
   "source": [
    "[10] S. Andringa et al. (SNO+), Adv. High Energy Phys. 2016, 6194250 (2016),\n",
    "[arXiv:1508.05759](https://arxiv.org/abs/1508.05759).\n",
    "\n",
    "[11] C. Alduino et al. (CUORE), Phys. Rev. Lett. 120, 13, 132501 (2018), [arXiv:1710.07988](https://arxiv.org/abs/1710.07988)\n",
    "\n",
    "[12] O. Azzolini et al. (CUPID), Phys. Rev. Lett. 123, 3, 032501 (2019), [arXiv:1906.05001](https://arxiv.org/abs/1906.05001)\n",
    "\n",
    "[13] V. Alenkov et al., Eur. Phys. J. C79, 9, 791 (2019), [arXiv:1903.09483](https://arxiv.org/abs/1903.09483)\n",
    "\n",
    "\n",
    "[14] R. Arnold et al. (NEMO-3), Phys. Rev. D92, 7, 072011 (2015), [arXiv:1506.05825](https://arxiv.org/abs/1506.05825). R. Arnold et al. (NEMO-3), Phys. Rev. Lett. 119, 4, 041801 (2017), [arXiv:1705.08847](https://arxiv.org/abs/1906.05001).\n",
    "\n",
    "[15] S. I. Alvis et al. (Majorana) (2019), [arXiv:1902.02299](https://arxiv.org/abs/1902.02299).\n",
    "\n",
    "[16] J. Dolinski et al, (status and prospects) (2019) [arXiv:1902.04097](https://arxiv.org/abs/1902.04097)."
   ]
  },
  {
   "cell_type": "markdown",
   "metadata": {
    "slideshow": {
     "slide_type": "subslide"
    }
   },
   "source": [
    "[NEXT-1] \"Sensitivity of NEXT-100 to neutrinoless double beta decay\", J. Martín-Albo et al., NEXT collaboration, JHEP05 (2016) 159, [arXiv:1411.09246](https://arxiv.org/abs/1511.09246).\n",
    "\n",
    "[NEXT-2] \"The Next White (NEW) detector\", F. Monrabal et al., NEXT collaboration, JHEP10 (2019) 230, [arXiv:1804.02409](https://arxiv.org/abs/1804.02409)\n",
    "\n",
    "[NEXT-3] \"Energy calibration of the NEXT-White detector with 1% resolution near Qββ of 136Xe\", J. Renner et al. NEXT Collaboration, JINST 13, 10, P10020 (2018), [arXiv:1905.13110](https://arxiv.org/abs/1905.13110).\n",
    "    \n",
    "[NEXT-4] \"Boosting background suppression in the NEXT experiment through Richardson-Lucy deconvolution\", A. Simon, NEXT Collaboration, [arXiv:2102.11931](https://arxiv.org/abs/2102.11931)\n",
    "\n",
    "[NEXT-5] \"Sensitivity of a tonne-scale NEXT detector for neutrinoless double beta decay searches.\", C. Adams, NEXT Collaboration, [arXiv:2005.06467](https://arxiv.org/abs/2005.06467)\n"
   ]
  },
  {
   "cell_type": "markdown",
   "metadata": {},
   "source": [
    "### Conferences\n",
    "\n",
    "[Nu20-Detwiler] Neutrino 2020, J. Detwiler, [\"*Future neutrinoless $\\beta\\beta$ experiments*\"](https://indico.fnal.gov/event/43209/contributions/187827/attachments/130703/159511/20200701_Nu20_FutureNDBD_Detwiler.pdf)\n",
    "\n",
    "[GS21-Guiliani] Gran Sasso 2021,  Workshop on Future of Double Beta Decay, A. Guiliani, [\"*Survey on other next generation Double Beta experiments*\"](https://agenda.infn.it/event/27143/contributions/142991/attachments/85091/112800/NA-EU-workshop-Giuliani.pdf)\n",
    "\n",
    "[GS21-Schönert] Gran Sasso 2021, Workshop on Future of Double Beta Decay, S. Schönert, [\"*LEGEND-1000*\"](https://agenda.infn.it/event/27143/contributions/142986/attachments/85142/112907/LEGEND-1000_for_upload.pdf)"
   ]
  },
  {
   "cell_type": "markdown",
   "metadata": {
    "slideshow": {
     "slide_type": "slide"
    }
   },
   "source": [
    "---------"
   ]
  }
 ],
 "metadata": {
  "anaconda-cloud": {},
  "celltoolbar": "Slideshow",
  "kernelspec": {
   "display_name": "Python 3 (ipykernel)",
   "language": "python",
   "name": "python3"
  },
  "language_info": {
   "codemirror_mode": {
    "name": "ipython",
    "version": 3
   },
   "file_extension": ".py",
   "mimetype": "text/x-python",
   "name": "python",
   "nbconvert_exporter": "python",
   "pygments_lexer": "ipython3",
   "version": "3.9.13"
  },
  "vscode": {
   "interpreter": {
    "hash": "43bf40b08b0c659beee69adf0e375d89f2700363cec8d5fb661c131f1f6d870f"
   }
  }
 },
 "nbformat": 4,
 "nbformat_minor": 1
}
