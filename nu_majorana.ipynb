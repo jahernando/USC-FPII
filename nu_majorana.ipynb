{
 "cells": [
  {
   "cell_type": "markdown",
   "metadata": {
    "slideshow": {
     "slide_type": "slide"
    }
   },
   "source": [
    "# Particle Physics - Majorana Neutrinos\n",
    "\n",
    " \n",
    "## Universidade de Santiago \n",
    "\n",
    "\n",
    "Jose A. Hernando\n",
    "\n",
    "*Departamento de Física de Partículas. Universidade de Santiago de Compostela*\n",
    "\n",
    "February 2020\n"
   ]
  },
  {
   "cell_type": "code",
   "execution_count": 1,
   "metadata": {
    "slideshow": {
     "slide_type": "fragment"
    }
   },
   "outputs": [
    {
     "name": "stdout",
     "output_type": "stream",
     "text": [
      " Last version  Tue Feb 22 15:52:12 2022\n"
     ]
    }
   ],
   "source": [
    "import time\n",
    "print(' Last version ', time.asctime() )"
   ]
  },
  {
   "cell_type": "code",
   "execution_count": 8,
   "metadata": {
    "slideshow": {
     "slide_type": "slide"
    }
   },
   "outputs": [],
   "source": [
    "# general imports\n",
    "%matplotlib inline\n",
    "%reload_ext autoreload\n",
    "%autoreload 2\n",
    " \n",
    "# numpy and matplotlib\n",
    "import numpy as np\n",
    "import pandas as pd\n",
    "import matplotlib.pyplot as plt\n",
    "import scipy.stats     as stats\n",
    "import scipy.constants as units\n",
    "\n",
    "plt.style.context('seaborn-colorblind');"
   ]
  },
  {
   "cell_type": "markdown",
   "metadata": {
    "slideshow": {
     "slide_type": "slide"
    }
   },
   "source": [
    "*About*\n",
    "\n",
    "The relation between neutrino oscillations and masses.\n",
    "\n",
    "The Majorana neutrino.\n",
    "\n",
    "The search for Majorana neutrinos.\n",
    "\n"
   ]
  },
  {
   "cell_type": "markdown",
   "metadata": {
    "slideshow": {
     "slide_type": "slide"
    }
   },
   "source": [
    "## Introduction\n"
   ]
  },
  {
   "cell_type": "markdown",
   "metadata": {
    "slideshow": {
     "slide_type": "slide"
    }
   },
   "source": [
    "## Relation of neutrino mixing and masses"
   ]
  },
  {
   "cell_type": "markdown",
   "metadata": {
    "slideshow": {
     "slide_type": "slide"
    }
   },
   "source": [
    "Consider the three families lepton flavour states, $l'_i,\\nu'_i, \\; i=1,2,3$, the left-chiral components doublets $L'_i$ and the right-chiral singlets $l'_R$, including $\\nu'_{i, R}$:\n",
    "\n",
    "The Dirac mass lagrangian via de Yukawa couplings with the Higgs doublet $\\Phi$ and its conjugate $\\tilde{\\Phi}$:\n",
    "\n",
    "$$\n",
    "-\\mathcal{L}_m = \\sum_{i,j=1}^3 \\lambda^l_{ij} \\bar{L}'_j \\Phi l'_{iR} + \\lambda^\\nu_{ij} \\bar{L}'_j \\tilde{\\Phi} \\nu'_{iR} + \\mathrm{hc}\n",
    "$$\n",
    "\n",
    "After SSB:\n",
    "$$\n",
    "-\\mathcal{L}_m = \\frac{v}{\\sqrt{2}} \\left( {\\bf \\lambda}_l \\bar{{\\bf l}}'_L {\\bf l'}_R + \\lambda_\\nu \\bar{{\\bf \\nu}}'_L {\\bf \\nu}'_R + \\mathrm{hc} \\right)\n",
    "$$\n",
    "\n",
    "where $\\lambda_l, \\, \\lambda_\\nu$ are $3\\times3$ complex matrices."
   ]
  },
  {
   "cell_type": "markdown",
   "metadata": {
    "slideshow": {
     "slide_type": "slide"
    }
   },
   "source": [
    "The $\\frac{v}{\\sqrt{2}}\\lambda_\\alpha$ matrix can be diagonalized with real values in the diagonal, $M_\\alpha$ via a bi-unitary transformation $V_\\alpha, \\,U_\\alpha$, with $\\alpha = l, \\, \\nu$:\n",
    "\n",
    "$$\n",
    "\\lambda_\\alpha = U^\\dagger_\\alpha \\, M_\\alpha V_\\alpha\n",
    "$$\n",
    "\n",
    "We can relate the weak states to the mass states via:\n",
    "\n",
    "$$\n",
    "  l_L = U_l \\, l'_L, \\,\\; \\nu_L = U_\\nu \\, \\nu'_L \\\\\n",
    "  l_R = V_l \\, l'_R, \\,\\; \\nu_R = V_\\nu \\, \\nu'_R\n",
    "$$\n",
    "\n",
    "And the mass part of the lagrangian:\n",
    "\n",
    "$$\n",
    "-\\mathcal{L}_m =   M_l \\, \\bar{l}_L l_R + M_\\nu \\, \\bar{\\nu}_L \\nu_R + \\mathrm{hc} \n",
    "$$\n",
    "\n",
    "\n",
    "\n",
    "\n"
   ]
  },
  {
   "cell_type": "markdown",
   "metadata": {
    "slideshow": {
     "slide_type": "slide"
    }
   },
   "source": [
    "This does not affect the NC of the lagrangian:\n",
    "\n",
    "$$\n",
    "- \\mathcal{L}_{NC} =  \\frac{g}{2 \\cos \\theta_W} \\bar{\\nu}'_{L} \\gamma^\\mu \\nu'_{L} Z_\\mu\n",
    "=  \\frac{g}{2 \\cos \\theta_W} \\bar{\\nu}_{L} \\gamma^\\mu \\nu_{L} Z_\\mu\n",
    "$$\n",
    "\n",
    "But it does the CC lagrangian:\n",
    "\n",
    "$$\n",
    "- \\mathcal{L}_{CC} = \n",
    "\\frac{g}{\\sqrt{2}} \\bar{l}'_{L} \\gamma^\\mu \\nu'_L W^+_\\mu + \\mathrm{h.c.} = \n",
    "\\frac{g}{\\sqrt{2}} \\bar{l}_{L}  \\gamma^\\mu (U^\\dagger_l U_\\nu) \\, \\nu_L W^+_\\mu + \\mathrm{h.c.}\n",
    "$$\n",
    "\n",
    "where the mixing matrix $U_{PMNS}$ is:\n",
    "\n",
    "$$\n",
    "U = U^\\dagger_l \\, U_\\nu\n",
    "$$"
   ]
  },
  {
   "cell_type": "markdown",
   "metadata": {
    "slideshow": {
     "slide_type": "slide"
    }
   },
   "source": [
    "This a unitary $3\\times3$ matrix has $9$ parameters, $3$ mixing angles, and $6$ phases. \n",
    "\n",
    "We can use the global symmetries of the Dirac fields to re-absorbe the some phases of ${\\bf U}$:\n",
    "\n",
    "$$\n",
    "l_\\alpha \\to e^{i\\phi_\\alpha} l_\\alpha, \\;\\;\\; \\nu_k \\to e^{i \\phi_k} \\nu_k\n",
    "$$\n",
    "\n",
    "The CC lagrangian is:\n",
    "\n",
    "$$\n",
    "\\sum_{\\alpha, k} \\bar{l}_{\\alpha L} e^{-i\\phi_\\alpha} U^*_{\\alpha k} \\gamma^\\mu e^{i\\phi_k} \\nu_{k L} \\, W^+_\\mu + \\mathrm{hc}\n",
    "$$\n",
    "\n",
    "We can take a global factor:\n",
    "$$\n",
    "e^{-i(\\phi_e-\\phi_1)} \\sum_{k,\\alpha} \\bar{l}_{\\alpha L} \\gamma^\\mu \\, ( e^{-i(\\phi_\\alpha-\\phi_e)} U^*_{\\alpha k } \\gamma^\\mu e^{i(\\phi_k-\\phi_1)} ) \\, \\nu_{k L} W^+_\\mu + \\mathrm{hc}\n",
    "$$\n",
    "\n",
    "In total we can reabsorb $5$ phases. Therefore there is only one phase left $\\delta_{CP}$.\n"
   ]
  },
  {
   "cell_type": "markdown",
   "metadata": {
    "slideshow": {
     "slide_type": "slide"
    }
   },
   "source": [
    "The usual parameterization of $U_{PMNS}$ in terms of 3 angles and one CP-phase:\n",
    "\n",
    "| |\n",
    "| :--: |\n",
    "|<img src=\"./imgs/Umatrix_dirac.png\" width = 800>| "
   ]
  },
  {
   "cell_type": "markdown",
   "metadata": {
    "slideshow": {
     "slide_type": "slide"
    }
   },
   "source": [
    "### Majorana case\n",
    "\n",
    "In the Majorana case, we extend the SM with the Weinberg 5-dim operator:\n",
    "\n",
    "$$\n",
    "- \\mathcal{L}_m =  \\sum_{\\beta, \\beta'} \\frac{\\alpha^\\nu_{\\beta\\beta'}}{\\Lambda} \\,  \\bar{L'_\\beta} \\tilde{\\Phi} \\, \\tilde{\\Phi}^T L'^c_{\\beta'} + \\mathrm{h.c.} \n",
    "$$\n",
    "\n",
    "where $\\alpha$ is a complex coupling and $\\Lambda$ an energy scale.\n",
    "\n",
    "After SSB:\n",
    "\n",
    "$$\n",
    "-\\mathcal{L}_m = \\frac{v}{\\sqrt{2} \\Lambda} \\left( \\alpha_\\nu \\bar{\\nu}^{'}_L {\\nu_L}^c + \\mathrm{hc} \\right)\n",
    "$$\n",
    "\n",
    "The symmetric complex $3\\times3$,  $\\frac{v}{\\sqrt{2} \\Lambda} \\alpha_\\nu$ matrix get diagonialized to the mass matrix $M^M_\\nu$ with only the unitary $U_\\nu$.\n",
    "\n",
    "$$\n",
    "\\frac{v}{\\sqrt{2}\\Lambda}\\alpha_\\nu = U^\\dagger_\\nu M^M_\\nu U^*_\\nu\n",
    "$$\n",
    "\n",
    "The mixing matrix $U$ have now 3 angles 3 phases. Because there is no global phase in the Majorana neutrinos spinors, and we can only reabsorb 3 phases.\n"
   ]
  },
  {
   "cell_type": "markdown",
   "metadata": {
    "slideshow": {
     "slide_type": "slide"
    }
   },
   "source": [
    "The Majorana mixing matrix is:\n",
    "    \n",
    "| | \n",
    "| :--: |\n",
    "|<img src=\"./imgs/Umatrix_majorana.png\" width = 800>|\n",
    "    \n",
    "With $\\theta_{ij} \\in [0, \\pi/2]$ and $\\delta, \\eta_{1,2} \\in [0, 2\\pi)$\n",
    "\n",
    "*Question*: Show that the Majorana phases $\\eta_{1,2}$ have no effect in neutrino oscillations."
   ]
  },
  {
   "cell_type": "markdown",
   "metadata": {
    "slideshow": {
     "slide_type": "slide"
    }
   },
   "source": [
    "## Majorana Neutrinos\n",
    "\n",
    "| |\n",
    "| :--: |\n",
    "| <img src=\"./imgs/pidecay_majorana_dirac.png\" width = 700> |\n",
    "\n",
    "How we can experimentally distinguish a Majorana neutrino?\n"
   ]
  },
  {
   "cell_type": "markdown",
   "metadata": {
    "slideshow": {
     "slide_type": "slide"
    }
   },
   "source": [
    "The curse of helicity!\n",
    "\n",
    "As neutrinos have negative helicity, their right-chiral component is supressed by $\\mathcal{O}(m/E)$.\n",
    "\n",
    "Consider $m \\; \\mathcal{O}(1)$ eV and $E \\; \\mathcal{O}(1)$ GeV, the probability of an oppossite sign lepton appereance is $\\mathcal{O}(10^{-18})$.\n",
    "    "
   ]
  },
  {
   "cell_type": "markdown",
   "metadata": {
    "slideshow": {
     "slide_type": "slide"
    }
   },
   "source": [
    "### double beta decay\n",
    "\n",
    "| |\n",
    "| :--: |\n",
    "| <img src=\"./imgs/bb0nu_Feynman.png\" width = 500> |\n",
    "\n",
    "\n",
    "The experimentally accesible experiment is the hypothetetical vary rare double beta decay without neutrinos\n",
    "\n"
   ]
  },
  {
   "cell_type": "markdown",
   "metadata": {
    "slideshow": {
     "slide_type": "slide"
    }
   },
   "source": [
    "The Majorana mass enter is the coupling of the neutirnos in both vertices, $U_{ei}$ in each vertex, and via its helicity supression $m_i/E$ factor.\n",
    "\n",
    "The transition amplitude is proportional to\n",
    "\n",
    "$$\n",
    "\\mathcal{A} \\propto  \\sqrt{\\sum_i U^2_{ei} \\, m^2_i}\n",
    "$$\n"
   ]
  },
  {
   "cell_type": "markdown",
   "metadata": {
    "slideshow": {
     "slide_type": "slide"
    }
   },
   "source": [
    "The $\\beta\\beta2 \\nu$ (with neutrinos) was proposed [1] by [M. Goeppert-Mayer](https://en.wikipedia.org/wiki/Maria_Goeppert-Mayer) in 1935.\n",
    "\n",
    "$$\n",
    "(A, Z) \\to (A, Z+ 2) + 2 e^- + 2 \\bar{\\nu}_e + Q_{\\beta\\beta}\n",
    "$$\n",
    "\n",
    "This is a second order decay, that happens in 35 isotopes, where single $\\beta$ is kinematically forbiden.\n",
    "\n",
    "In particular in: $^{48}$Ca, $^{76}$Ge, $^{82}$Se, $^{100}$Mo, $^{130}$Te and $^{136}$Xe. \n",
    "\n",
    "The half-life is quite large $\\mathcal{O}(10^{19})$ yr"
   ]
  },
  {
   "cell_type": "markdown",
   "metadata": {
    "slideshow": {
     "slide_type": "slide"
    }
   },
   "source": [
    "| |\n",
    "| :--: |\n",
    "|<img src=\"./imgs/bb2nu_isotopes_T12.png\" width = 500 > |\n"
   ]
  },
  {
   "cell_type": "markdown",
   "metadata": {
    "slideshow": {
     "slide_type": "slide"
    }
   },
   "source": [
    "\n",
    "In 1939 W. Furry proposed [2] the hypothetical decay $\\beta\\beta 0\\nu$ if $\\nu$ are Majorana\n",
    "\n",
    "$$\n",
    "(A, Z) \\to (A, Z+ 2) + 2 e^-  + Q_{\\beta\\beta}\n",
    "$$\n",
    "\n",
    "The half-life time of this decay is:\n",
    "\n",
    "$$\n",
    "\\frac{1}{T^{0\\nu}_{1/2}} = G^{0\\nu} \\, \\left| M^{0\\nu} \\right|^2 \\, \\frac{m^2_{\\beta\\beta}}{m^2_e}\n",
    "$$\n",
    "\n",
    "Where $G^{0\\nu}$ is the phase factor, and $\\left| M^{0\\nu} \\right|^2$, the nuclear matrix elemment (NME) squared\n",
    "\n",
    "$$\n",
    "m_{\\beta\\beta} = \\left| \\sqrt{\\sum_i U^2_{ei} \\, m^2_i} \\right|\n",
    "$$\n",
    "\n",
    "Is the effective majorana mass which depends of the elements of the mixing matrix $U_{ei}$\n"
   ]
  },
  {
   "cell_type": "markdown",
   "metadata": {
    "slideshow": {
     "slide_type": "slide"
    }
   },
   "source": [
    "About the phase factor:\n",
    "\n",
    "|  |  |\n",
    "| :--: | :--: |\n",
    "|<img src=\"./imgs/bb0nu_table_G0nu_Qbb.png\" width = 350>| <img src=\"./imgs/bb0nu_isotope_table_Qbb.png\" width = 350>|\n",
    "\n",
    "Notice:\n",
    "$$\n",
    "G^{0\\nu}/m^2_e \\sim \\, \\mathcal{O}(10^{-26}) \\;\\; 1/ (\\mathrm{y \\, eV}^2)\n",
    "$$"
   ]
  },
  {
   "cell_type": "markdown",
   "metadata": {
    "slideshow": {
     "slide_type": "slide"
    }
   },
   "source": [
    "About the majorana mass:\n",
    "\n",
    "The majorana mass, $m_{\\beta\\beta}$ depends on the $U_{\\alpha i}$ matrix elements and $\\Delta m^2_{32}, \\; \\Delta m^2_{21}$\n",
    "\n",
    "In NH:\n",
    "    \n",
    "$$\n",
    "m_{\\beta\\beta} = \\left| m_0 c^2_{12} c^2_{13} + \\sqrt{m^2_0 + \\Delta m^2_{21}} \\, s^2_{12} c^2_{13} e^{2i (\\eta_2 -\\eta_1)} + \\sqrt{m^2_0 + \\Delta m^2_{32} + \\Delta m^2_{21}} \\, s^2_{13} e^{-2i(\\delta_{CP} + \\eta_1)}\\right|\n",
    "$$\n",
    "\n",
    "In IH:\n",
    "\n",
    "$$\n",
    "m_{\\beta\\beta} = \\left| m_0  s^2_{13} + \\sqrt{|m^2_0 - \\Delta m^2_{32}|} \\, s^2_{12} c^2_{13} e^{2i (\\eta_2 + \\delta_{CP})} + \\sqrt{|m^2_0 - \\Delta m^2_{32} - \\Delta m^2_{21}|} \\, c^2_{12} c^2_{13} e^{2i(\\eta_1 + \\delta_{CP})}\\right|\n",
    "$$\n",
    "\n",
    "where $m_0$ is the mass of the lightest neutrino."
   ]
  },
  {
   "cell_type": "markdown",
   "metadata": {
    "slideshow": {
     "slide_type": "slide"
    }
   },
   "source": [
    "In the limit $m_0 \\to 0$\n",
    "\n",
    "in NH:\n",
    "\n",
    "$$\n",
    "m_{\\beta\\beta} \\simeq \\left| \\sqrt{\\Delta m^2_{21}} \\, s^2_{12} c^2_{13} + \\sqrt{\\Delta m^2_{32}} \\, s^2_{13} e^{-2i(\\delta_{CP} + \\eta_2 )} \\right| \\simeq 1.1 - 4.2 \\; \\mathrm{meV}\n",
    "$$\n",
    "\n",
    "In IH:\n",
    "\n",
    "$$\n",
    "m_{\\beta\\beta} \\simeq \\ \\sqrt{|\\Delta m^2_{32}|} \\, c^2_{13} \\left| s^2_{12} + \\, c^2_{12} e^{-2i(\\eta_2 - \\eta_1)}\\right| \\ge \\sqrt{|\\Delta m^2_{32}|} \\, c^2_{13} \\cos^2 2\\theta_{12} \\simeq 15 - 50 \\; \\mathrm{meV}\n",
    "$$\n"
   ]
  },
  {
   "cell_type": "markdown",
   "metadata": {
    "slideshow": {
     "slide_type": "slide"
    }
   },
   "source": [
    "| |\n",
    "| :--: |\n",
    "| <img src=\"./imgs/mbb_vs_mlight.png\" width = 500> |\n",
    "\n",
    "The majorana mass vs the lightest neutrino for Normal (red) or Inverted (blue) Hierarchy.\n",
    "\n",
    "Values of $U_{\\alpha i}$ from NuFit group 2019."
   ]
  },
  {
   "cell_type": "markdown",
   "metadata": {
    "slideshow": {
     "slide_type": "slide"
    }
   },
   "source": [
    "\n",
    "| |\n",
    "| :--: |\n",
    "| <img src=\"./imgs/bb0nu_NME.png\" width = 500> |\n",
    "\n",
    "The matrix element has a large uncertainty theoretical error (see [3]).\n",
    "\n",
    "It translates in a large uncertainty on $T^{0\\nu}_{1/2}$ for $m_{\\beta\\beta} = 1$ meV (bottom plot). $M^{0\\nu} \\sim \\, \\mathcal{O}(1)$"
   ]
  },
  {
   "cell_type": "markdown",
   "metadata": {
    "slideshow": {
     "slide_type": "slide"
    }
   },
   "source": [
    "*Question:* Compute $T^{0\\nu}_{1/2}$ for $^{136}$Xe for $m_{\\beta\\beta} = 50$ meV."
   ]
  },
  {
   "cell_type": "code",
   "execution_count": 4,
   "metadata": {},
   "outputs": [
    {
     "name": "stdout",
     "output_type": "stream",
     "text": [
      "life-time 8.08e+26 y\n"
     ]
    }
   ],
   "source": [
    "G0nu, M0nu, mbb = 5.5e-26, 3, 50e-3\n",
    "T0nu = 1./(G0nu * M0nu**2 * mbb**2)\n",
    "print('life-time {:1.2e} y'.format(T0nu))\n"
   ]
  },
  {
   "cell_type": "markdown",
   "metadata": {
    "slideshow": {
     "slide_type": "slide"
    }
   },
   "source": [
    "### $\\beta\\beta$ experimental signature\n",
    "\n",
    "\n",
    "| |\n",
    "| :--: |\n",
    "|<img src=\"./imgs/bb2nu_bb0nu_spectrum.png\" width = 500> |\n",
    "\n",
    "\n",
    "- Signature: 2 electrons with monocromatic energy at $Q_{\\beta\\beta}$\n"
   ]
  },
  {
   "cell_type": "markdown",
   "metadata": {
    "slideshow": {
     "slide_type": "slide"
    }
   },
   "source": [
    "Number of expected $\\beta\\beta2\\nu$ events:\n",
    "\n",
    "$$\n",
    "N_{\\beta\\beta} = \\ln(2) \\frac{N_A}{W} \\frac{a \\epsilon M t}{T^{0\\nu}_{1/2}}\n",
    "$$\n",
    "\n",
    "where $N_A$ is Avogradro's number, $W$ is the molar mass, $a$ the isotopic abundance, $\\epsilon$ the detection efficiency in the RoI, $t$ the time of exposure, $M$ the target mass and $T^{0\\nu}_{1/2}$ the half-live.\n",
    "\n",
    "The number of events depends on the exposure: $M \\, t$ (ton y)"
   ]
  },
  {
   "cell_type": "markdown",
   "metadata": {
    "slideshow": {
     "slide_type": "slide"
    }
   },
   "source": [
    "*question:* Compute the number of events expected in 100 kg y  of $^{136}$Xenon at 90% abundance vs the $T^{0\\nu}_{1/2}$ "
   ]
  },
  {
   "cell_type": "code",
   "execution_count": 9,
   "metadata": {
    "slideshow": {
     "slide_type": "slide"
    }
   },
   "outputs": [
    {
     "name": "stdout",
     "output_type": "stream",
     "text": [
      "Nbb =   2.76 events\n"
     ]
    }
   ],
   "source": [
    "NA, acc, eff, W = 6.02e23, 0.9, 1., 136.\n",
    "T0nu, M, t = 1e26, 1e5, 1\n",
    "nbb = np.log(2.) * NA * acc * eff * M * t / (W * T0nu)\n",
    "print('Nbb = {:6.2f} events'.format(nbb))"
   ]
  },
  {
   "cell_type": "markdown",
   "metadata": {
    "slideshow": {
     "slide_type": "slide"
    }
   },
   "source": [
    "The signal is identified:\n",
    "\n",
    "  - energy resolutiion, Region of Interest (RoI), $\\Delta E = \\mathrm{FWHM} = 2{\\sqrt {2\\ln 2}}\\;\\sigma \\simeq 2.355 \\;\\sigma$\n",
    "  \n",
    "  - other discrimination variables: i.e tracks (2 $\\beta$), pulse shape, ..."
   ]
  },
  {
   "cell_type": "markdown",
   "metadata": {
    "slideshow": {
     "slide_type": "slide"
    }
   },
   "source": [
    "The background comes from different sources (mostly gamma interactions in the detector):\n",
    " \n",
    "  - cosmogenic muons (spalation). Detector installed underground and  veto-system. \n",
    "  \n",
    "    * Reduction: $\\mathcal{O}(10^6)$\n",
    " \n",
    "  - natural radioactivity (U, Th radio-active chains). Ultra radio-pure materials and handeling.\n",
    "  \n",
    "    * Activities: $\\mathcal{O}(10^{-6})$ Bq/kg, tipical activities 1-100 Bq/kg.\n",
    "  \n",
    "  - $^{220-222}$Rn natural radioactivity. Abatement systems, degasing of materials\n",
    "  \n",
    "  - neutrinos from the rock (activation). Detector inner shielding."
   ]
  },
  {
   "cell_type": "markdown",
   "metadata": {
    "slideshow": {
     "slide_type": "slide"
    }
   },
   "source": [
    "\n",
    "| | |\n",
    "| :--: | :--: |\n",
    "| <img src=\"./imgs/Th232_chain.png\" width = 250 align='left'> | <img src=\"./imgs/U238_chain.png\" width = 250 align='right'> !"
   ]
  },
  {
   "cell_type": "markdown",
   "metadata": {
    "slideshow": {
     "slide_type": "slide"
    }
   },
   "source": [
    "\n",
    "For $^{136}$Xe $\\beta\\beta0\\nu$ search are very dangerous los isótopos $^{208}$Tl y $^{214}$Bi, with $\\gamma$ similar in energy to Qbb."
   ]
  },
  {
   "cell_type": "markdown",
   "metadata": {},
   "source": [
    "| |\n",
    "| :--: |\n",
    "| <img src=\"./imgs/muflux_undergroundlabs.png\" width = 450 align='center'> |"
   ]
  },
  {
   "cell_type": "markdown",
   "metadata": {
    "slideshow": {
     "slide_type": "slide"
    }
   },
   "source": [
    "The background events depends in the background-index, $b$, in counts/(ton yr keV).\n",
    "\n",
    "And the RoI (FWHM, $\\Delta E$) in keV\n",
    "\n",
    "$$\n",
    "N_{bkg} \\propto b \\, \\Delta E \\, M \\, t\n",
    "$$"
   ]
  },
  {
   "cell_type": "markdown",
   "metadata": {},
   "source": [
    "\n",
    "The sensitivity, $S^{0\\nu}$, of an experiments, that is the Z-number, number of sigmas, of the $\\beta\\beta0\\nu$ events above the fluctuation of number of background events has two domains:\n",
    "\n",
    " i) background free experiment\n",
    " \n",
    " $$\n",
    " \\mathcal{S}(T^{0\\nu}_{1/2}) \\propto \\epsilon \\, M \\, t\n",
    " $$\n",
    " \n",
    " ii) expected background index, $b$\n",
    " \n",
    " $$\n",
    "\\mathcal{S}(T^{0\\nu}_{1/2}) \\propto \\epsilon \\sqrt{\\frac{M \\, t}{b \\Delta E}}\n",
    " $$\n",
    " \n",
    " *Question*: What is the sensitivity to $m_{\\beta\\beta}$? An increase of a factor 100 is mass is a factor 10 in $T^{0\\nu}_{\\beta\\beta}$ and $\\sqrt{10}$ in $m_{\\beta\\beta}$!"
   ]
  },
  {
   "cell_type": "markdown",
   "metadata": {
    "slideshow": {
     "slide_type": "slide"
    }
   },
   "source": [
    "\n",
    "| |\n",
    "| :--: |\n",
    "| <img src=\"./imgs/Xe_mbb_vs_exposure_bkginRoI.png\" width = 550 align='center'> |\n",
    "\n",
    "Possible limits on $m_{\\beta\\beta}$ of a perfect Xe experiment for different bkg-index in RoI [[4]](https://arxiv.org/abs/1502.00581).\n",
    "\n",
    "To cover the IH allowed region (grey area) we aim for a 1 ton detector, 1 counts/(RoI ton yr). \n",
    "\n",
    "  - Next Generation Experiment holy grail!"
   ]
  },
  {
   "cell_type": "markdown",
   "metadata": {
    "slideshow": {
     "slide_type": "slide"
    }
   },
   "source": [
    "*question*: Show the dependence of $S(T^{0\\nu}_{1/2})$ as a function of $b$ index and exposure."
   ]
  },
  {
   "cell_type": "markdown",
   "metadata": {
    "slideshow": {
     "slide_type": "slide"
    }
   },
   "source": [
    "The main ingredientes for a $\\beta\\beta$ detector are:\n",
    "    \n",
    "   - large mass of the target isotope, large $M$\n",
    "    \n",
    "   - excelelent energy resolution, small $\\Delta E$\n",
    "    \n",
    "   - ultra-pure detector and extra handles to reject the bacground, very small $b$\n",
    "    \n",
    "    \n",
    "For the next generation experiments we aim:\n",
    "\n",
    "   - $M \\; \\mathcal{O}(1)$ ton, $\\Delta E \\; \\mathcal{O}(1-0.1)$ %, $b \\; \\mathcal{O}(1)$ c/(ton RoI yr) "
   ]
  },
  {
   "cell_type": "markdown",
   "metadata": {
    "slideshow": {
     "slide_type": "slide"
    }
   },
   "source": [
    "## Search for Majorana Neutrinos\n",
    "\n"
   ]
  },
  {
   "cell_type": "markdown",
   "metadata": {
    "slideshow": {
     "slide_type": "slide"
    }
   },
   "source": [
    "### EXO-200  (2011-2015)\n",
    "\n",
    "\n",
    "- Located at [WIPP](https://www.wipp.energy.gov) MN-USA\n",
    "\n",
    "- 175 kg enriched 80% $^{136}$Xe\n",
    "\n",
    "- Symmetric Liquid Xenon TPC with charge readout (ionization) in the anodes and light collection (scintillation) with APDs\n",
    "\n",
    "- Inside a cryostat, shielded by a lead castle and protected with a muon veto\n"
   ]
  },
  {
   "cell_type": "markdown",
   "metadata": {
    "slideshow": {
     "slide_type": "subslide"
    }
   },
   "source": [
    "\n",
    "- total exposure $234.1$ kg yr \n",
    "\n",
    "- $Q_{\\beta\\beta} = 2458$ keV, $^{136}\\mathrm{Xe} \\to ^{136}\\mathrm{Ba} + 2 e^-$\n",
    "\n",
    "- Energy resolution: 3% FWHM \n",
    "    \n",
    "    - 1.23 % $\\sigma$ energy resolution phase-I and  1.15 % $\\sigma$ phase-II\n",
    "\n",
    "- bkg-index $1.7\\times 10^{-3}$ c/(kg keV yr) phase-I and $1.9\\times 10^{-3}$ c/(kg keV yr), phase-II\n",
    "\n",
    "    - separation of Multi-Site (mostly background) and Single-Site (mostly signal) events \n"
   ]
  },
  {
   "cell_type": "markdown",
   "metadata": {
    "slideshow": {
     "slide_type": "slide"
    }
   },
   "source": [
    "\n",
    "| | |\n",
    "| :--: | :--: |\n",
    "| <img src=\"./imgs/EXO200_detector.png\" width = 550 align='center'>  | <img src=\"./imgs/EXO200_photo.png\" width = 700 align='center'> |"
   ]
  },
  {
   "cell_type": "markdown",
   "metadata": {
    "slideshow": {
     "slide_type": "slide"
    }
   },
   "source": [
    "| | |\n",
    "| :--: | :--: |\n",
    "| <img src=\"./imgs/EXO200_detector_operation.png\" width = 400 align='center'> | |<img src=\"./imgs/EXO200_calibration.png\" width = 500 align='center'> \n",
    "\n",
    "Principle of operation: \n",
    "\n",
    "  - interaction in $^{136}$Xe produce scintillation light (detected by the APDs) and ionization electrons.\n",
    "   \n",
    "  - electrons drift in the E field of the TPC (~300 V/cm)\n",
    "  \n",
    "  - they are collected in the wires at the anode\n",
    "  \n",
    "Calibration using $^{228}$Th with a peak at 2.6 MeV. Scintillation and ionization light are correlated\n",
    "\n",
    "Signal is mostly a single point deposition (SS) while background ($\\gamma$) can produce several depositions (MS)"
   ]
  },
  {
   "cell_type": "markdown",
   "metadata": {
    "slideshow": {
     "slide_type": "slide"
    }
   },
   "source": [
    "\n",
    "| |\n",
    "| :--: |\n",
    "| <img src=\"./imgs/EXO200_energy_spectrum.png\" width = 800 align='center'> |\n",
    "\n",
    "\n",
    "With 324.1 kg y exposure, EXO-200 established a limit $\\mathcal{L}(T^{0\\nu}_{1/2}) \\gt 3.5 \\times 10^{25}$ y at 90% CL, with an expected sensitivity $\\mathcal{S}(T^{0\\nu}_{1/2}) \\gt 5 \\times 10^{25}$, complete dataset (2019) [[5]](https://arxiv.org/abs/1906.02723)\n",
    "\n",
    "Its translates to a range in $m_{\\beta\\beta}$ 93 - 286 meV (using [3])"
   ]
  },
  {
   "cell_type": "markdown",
   "metadata": {
    "slideshow": {
     "slide_type": "slide"
    }
   },
   "source": [
    "### KamLAND-Zen (2011-\n",
    "\n",
    "\n",
    "- located the Kamioka mine, re-use of KamLAND detector\n",
    "\n",
    "- inner transparent balloon 3 m diameter with LS and 300 kg of $^{136}$Xe\n",
    "\n",
    "- base mass 300 kg Xenon\n",
    "\n",
    "- total exposure 504 kg yr\n",
    "\n",
    "- $Q_{\\beta\\beta} = 2458$ keV, $^{136}\\mathrm{Xe} \\to ^{136}\\mathrm{Ba} + 2 e^-$\n",
    "\n",
    "- calibration with $^{228}$Th\n",
    "\n",
    "- Poor energy resolution 11 % FWHM\n",
    "\n",
    "- bkg-index $1.6 \\times 10^{-4}$ counts/(kg yr keV) dominated by muon spallation and $\\beta\\beta2\\nu$\n",
    "\n",
    "    - in phase-I LS was contaminated with $^{110m}$Ag and required 18 months of LS purification.\n",
    "\n"
   ]
  },
  {
   "cell_type": "markdown",
   "metadata": {
    "slideshow": {
     "slide_type": "slide"
    }
   },
   "source": [
    "| | \n",
    "| :--: |\n",
    "| <img src=\"./imgs/KamLAND-zen_detector.png\" width = 500 align='center'> |\n",
    "\n",
    "$^{136}$Xe is disolved in LS inside a transparen thin 3 meter balloon.\n",
    "\n",
    "Energy is measured from the scintillating light and the position with the light distribution in PMTs.\n",
    "\n",
    "The energy resolution is 'poor' 11% FWHM\n",
    "\n",
    "Target mass is large, 300 kg"
   ]
  },
  {
   "cell_type": "markdown",
   "metadata": {
    "slideshow": {
     "slide_type": "slide"
    }
   },
   "source": [
    "\n",
    "| |\n",
    "| :--: |\n",
    "| <img src=\"./imgs/KamLAND-zen_event_distribution.png\" width = 500 align='center'> |\n",
    "\n",
    "Position of evens in RoI in $z$ and $r^2$, radius squared, in the balloon.\n",
    "\n",
    "Most of the events are close or originating from the balloon wall (black line).\n",
    "\n",
    "Only events inside a 1 m sphere (dashed line) are accepted."
   ]
  },
  {
   "cell_type": "markdown",
   "metadata": {
    "slideshow": {
     "slide_type": "slide"
    }
   },
   "source": [
    "\n",
    "| | | \n",
    "| :--: | :--: |\n",
    "| <img src=\"./imgs/KamLAND-zen_energy_spectrum.png\" width = 500 align='center'>  | <img src=\"./imgs/KamLAND-zen_energy_spectrum_zoom.png\" width = 500 align='center'>  |\n",
    "\n",
    "Energy spectum KamLAND-zen (2016) [[6]](https://arxiv.org/abs/1605.02889)\n",
    "\n",
    "With  504 kg yr, KamLAND-zen established a limit $\\mathcal{L}(T^{0\\nu}_{1/2})  \\ge 10.7 \\times 10^{25}$ yr at 90% CL, with a sensitivity  $\\mathcal{S}(T^{0\\nu}_{1/2}) > 5.6 \\times 10^{25}$ yr\n",
    "\n",
    "It translates to a range in $m_{\\beta\\beta}$ 61 - 165 meV\n"
   ]
  },
  {
   "cell_type": "markdown",
   "metadata": {
    "slideshow": {
     "slide_type": "slide"
    }
   },
   "source": [
    "| |\n",
    "| :--: |\n",
    "| <img src=\"./imgs/KamLAND-zen_mbb_vs_mlightest.png\" width = 500 align='center'> |\n",
    "\n",
    "Limits on $m_{\\beta\\beta}$ vs $m_{light}$ imposed by KamLAND-Zen [6] vs the mass of the lightest neutrino."
   ]
  },
  {
   "cell_type": "markdown",
   "metadata": {
    "slideshow": {
     "slide_type": "slide"
    }
   },
   "source": [
    "## Gerda (2015-2020)\n",
    "\n",
    "- 37 High Purity Ge diodes (87% $^{76}$Ge): \n",
    "\n",
    "   - 15.6 kg Coaxial detectors (CD). Phase-I\n",
    "   - 20 kg of Broad Energy Germanium (BEG). Phase-II 35 kg \n",
    "\n",
    "- Located in strings with very low mass and radio-pure electronics\n",
    "\n",
    "- inside a cryogenic bath of 63 m$^3$ of Liquid Argon. Detector are instrumented with a courtain of light-fibers with SiPM readout\n",
    "\n",
    "- in a water tank 590 m$^3$ instrumented with PMTs\n",
    "\n",
    "- detector at LNGS, Italy\n"
   ]
  },
  {
   "cell_type": "markdown",
   "metadata": {
    "slideshow": {
     "slide_type": "slide"
    }
   },
   "source": [
    "\n",
    "\n",
    "- base mass 35 kg\n",
    "\n",
    "- $Q_{\\beta\\beta} = 2039$ keV, $^{76}$Ge $\\to ^{76}$Se$ + 2e^-$\n",
    "\n",
    "- weekly calibration with $^{228}$Th\n",
    "\n",
    "- **Excellent energy resolution** 0.2 % FWHM\n",
    "\n",
    "- bkg-index $5.6^{+3.4}_{-2.4}\\times 10^{-4}$ c/(kg y keV) for BEGe detectors and $5.7^{+4.1}_{-2.6}\\times 10^{-4}$ c/(kg y keV) CD. \n",
    "\n",
    "   - **Almost background free experiment**."
   ]
  },
  {
   "cell_type": "markdown",
   "metadata": {
    "slideshow": {
     "slide_type": "slide"
    }
   },
   "source": [
    "| | |\n",
    "| :--: | :--: |\n",
    "|<img src=\"./imgs/GERDA_detector.png\" width = 400 align='left'> | <img src=\"./imgs/GERDA_detector_strings.png\" width = 300 align='right'> |"
   ]
  },
  {
   "cell_type": "markdown",
   "metadata": {
    "slideshow": {
     "slide_type": "slide"
    }
   },
   "source": [
    "\n",
    "| | |\n",
    "| :--: | :--: |\n",
    "| <img src=\"./imgs/GERDA_Gesensors_photo.png\" width = 300 align='left'>  | <img src=\"./imgs/GERDA_sensor_operation.png\" width = 300 align='right'> |"
   ]
  },
  {
   "cell_type": "markdown",
   "metadata": {
    "slideshow": {
     "slide_type": "slide"
    }
   },
   "source": [
    "\n",
    "| | \n",
    "| :--: |\n",
    "| <img src=\"./imgs/GERDA_detection_scheme.png\" width = 250 align='center'> |\n",
    "\n",
    "The energy deposition inside the Ge is different for signal and background $\\gamma$. \n",
    "\n",
    "The Pulse Shape of the charge collection allow GERDA a further background discrimination.\n",
    "\n",
    "An extra background rejection is obtained with the LAr velo system."
   ]
  },
  {
   "cell_type": "markdown",
   "metadata": {
    "slideshow": {
     "slide_type": "slide"
    }
   },
   "source": [
    "| |\n",
    "| :--: |\n",
    "| <img src=\"./imgs/GERDA_energy_spectrum_phaseII.png\" width = 600 align='center'> |\n",
    "\n",
    "Energy spectum of phase-II GERDA (2019) [[7]](https://arxiv.org/abs/1909.02726)\n",
    "\n",
    "With  82.4 kg yr, GERDA established a limit $\\mathcal{L}(T^{0\\nu}_{1/2}) \\gt 9 \\times 10^{25}$ yr at 90% CL, with a sensitivity  $\\mathcal{S}(T^{0\\nu}_{1/2}) > 11 \\times 10^{25}$ yr\n",
    "\n",
    "With 103.7 kg y, final GERDA result (2020), [[7b]](https://journals.aps.org/prl/abstract/10.1103/PhysRevLett.125.252502), impossed a limit of $T^{0\\nu}_{1/2}) > 1.8 \\times 10^{26}$ y.\n",
    "\n",
    "Its translates to a range in $m_{\\beta\\beta}$ 104 - 228 meV"
   ]
  },
  {
   "cell_type": "markdown",
   "metadata": {
    "slideshow": {
     "slide_type": "slide"
    }
   },
   "source": [
    "| |\n",
    "| :--: |\n",
    "| <img src=\"./imgs/GERDA_mbb_vs_mlight_exclusion.png\" width = 1000 align='center'> |\n",
    "\n",
    "GERDA (2019) [[6]](https://arxiv.org/abs/1909.02726) $m_{\\beta\\beta}$ limit vs the mass of the lightest neutrino, the sum of neutrino masses and the effective neutrino electron mass."
   ]
  },
  {
   "cell_type": "markdown",
   "metadata": {
    "slideshow": {
     "slide_type": "slide"
    }
   },
   "source": [
    "## NEXT Experiment (2017-)\n",
    "\n",
    "- 100 kg $^{136}$Xe High Pressure Gas \n",
    "\n",
    "   - Excellent resolution < 1 % FWHM at Qbb (2.48 MeV)\n",
    "\n",
    "   - NEXT-White ~10 kg NEXT-White prototype (2017-2021)\n",
    "\n",
    "   - NEXT-100, ~100 kg \n",
    "\n",
    "- An asymmetric Time Projection Chamber (600 V/cm)\n",
    "\n",
    "   - Cilinder (1 m length, 1 m diameter)\n",
    "\n",
    "   - Cathode: PMTs plane (light detector, energy measurement)\n",
    "   \n",
    "   - Anode: SiPMs in a fine grid (1 x 1 cm$^2$), light collection near source, tracking reconstruction\n",
    "   \n",
    "       - Topology discrimination (separation of $\\beta\\beta$ events with respect single $\\beta$)\n",
    "   \n",
    "- Electro-Luminiscence region at the Anode\n",
    "\n",
    "   - $\\times 10$ E field, to convert secondary electrons to light, linear production\n",
    "   - Light is proportional to secondary electrons\n",
    "   - Number of secondary electrons are proportional to energy interaction\n",
    "\n",
    "- In a Roman-time Pb castle\n",
    "\n",
    "- Detectors located at [Canfranc Laboratory](https://lsc-canfranc.es), Spain"
   ]
  },
  {
   "cell_type": "markdown",
   "metadata": {
    "slideshow": {
     "slide_type": "slide"
    }
   },
   "source": [
    "| | \n",
    "| :--: |\n",
    "| <img src=\"./imgs/NEXT_soft.png\" width = 500 align='center'> | "
   ]
  },
  {
   "cell_type": "markdown",
   "metadata": {
    "slideshow": {
     "slide_type": "slide"
    }
   },
   "source": [
    "Concept:\n",
    "    \n",
    "  1. Scintillation emission (S1), $t_0$ time\n",
    "  \n",
    "  2. Secondary electrons drift towards the anode (1 mm/ 1 $\\mu$s)\n",
    "  \n",
    "  3. EL light emission, (S2), detector at energy plane (energy) and in tracking plane (position)\n",
    "    \n"
   ]
  },
  {
   "cell_type": "markdown",
   "metadata": {
    "slideshow": {
     "slide_type": "slide"
    }
   },
   "source": [
    "| | \n",
    "| :--: |\n",
    "| <img src=\"./imgs/NEXT100_xsection.png\" width = 500 align='center'> |"
   ]
  },
  {
   "cell_type": "markdown",
   "metadata": {
    "slideshow": {
     "slide_type": "slide"
    }
   },
   "source": [
    "| | | \n",
    "| :--: | :--: |\n",
    "| <img src=\"./imgs/NEXT_Eloss.png\" width = 400 align='center'> | <img src=\"./imgs/NEXT_topology_tracks.png\" width = 800 align='center'> |"
   ]
  },
  {
   "cell_type": "markdown",
   "metadata": {
    "slideshow": {
     "slide_type": "slide"
    }
   },
   "source": [
    "| |\n",
    "| :--: |\n",
    "| <img src=\"./imgs/NEXT_blobs_discrimination.png\" width = 250 align='center'> |"
   ]
  },
  {
   "cell_type": "markdown",
   "metadata": {
    "slideshow": {
     "slide_type": "slide"
    }
   },
   "source": [
    "| | |\n",
    "| :--: | :--: |\n",
    "|<img src=\"./imgs/NEXT_Tbb0nu_vs_Expo.png\"     width = 300 align='left'>  | <img src=\"./imgs/NEXT_Tbb0nu_vs_BkgIndex.png\" width = 300 align='right'> |\n",
    "\n",
    "\n",
    "Background index $= 4 \\times 10^4$ counts/keV kg y and Exposure = 275  kg y. [NEXT-1]"
   ]
  },
  {
   "cell_type": "markdown",
   "metadata": {
    "slideshow": {
     "slide_type": "slide"
    }
   },
   "source": [
    "| | | |\n",
    "| :--: | :--: | :--: |\n",
    "|<img src=\"./imgs/NEW_xsection.png\"            width = 500 align='center'> |<img src=\"./imgs/NEW_foto_energy_plane.png\"   width = 480 align='left'> |<img src=\"./imgs/NEW_foto_tracking_plane.png\" width = 480 align='right'>| \n",
    "\n",
    "[NEXT-2]"
   ]
  },
  {
   "cell_type": "markdown",
   "metadata": {
    "slideshow": {
     "slide_type": "slide"
    }
   },
   "source": [
    "| | \n",
    "| :--: | \n",
    "| <img src=\"./imgs/NEW_foto.png\" width = 500 align='center'>  |"
   ]
  },
  {
   "cell_type": "markdown",
   "metadata": {
    "slideshow": {
     "slide_type": "slide"
    }
   },
   "source": [
    "| | \n",
    "| :--: |\n",
    "| <img src=\"./imgs/NEW_in_platform.png\" width = 400 align='center'> |"
   ]
  },
  {
   "cell_type": "markdown",
   "metadata": {
    "slideshow": {
     "slide_type": "slide"
    }
   },
   "source": [
    "| | \n",
    "| :--: |\n",
    "| <img src=\"./imgs/NEW_LR_events.png\" width = 250 align='center'> |\n",
    "\n",
    "Reconstructed double and single electrons using NEW calibration data [NEXT-3] [NEXT-4]."
   ]
  },
  {
   "cell_type": "markdown",
   "metadata": {
    "slideshow": {
     "slide_type": "slide"
    }
   },
   "source": [
    "| |\n",
    "| :--: |\n",
    "| <img src=\"./imgs/NEW_blobs_de.png\" width = 550 align='center'> |\n",
    "\n",
    "Blob energys for double and single electrons using NEW calibration data [NEXT-3] [NEXT-4]."
   ]
  },
  {
   "cell_type": "markdown",
   "metadata": {
    "slideshow": {
     "slide_type": "slide"
    }
   },
   "source": [
    "## NEXT generation of $\\beta\\beta0\\nu$ experiments\n",
    "\n",
    "Some experiments, i.e **GERDA** has already a large exposure than presented in current results, other upgraded detector, i.e **KamLAND-zen 800** with are already taking data.\n",
    "\n",
    "There is a large list of proposal and next-generation experiments for $\\beta\\beta0\\nu$\n",
    "\n",
    "They use different techniques.\n",
    "\n",
    "They target is to cover the IH allowed $m_{\\beta\\beta}$ >15 meV\n",
    "\n",
    "reach $\\mathcal{O}(10)$ meV with different isotopes and techniques.\n",
    "\n",
    "In general: ton detectors, with BI < 1 c / (ton FWHM y)\n"
   ]
  },
  {
   "cell_type": "markdown",
   "metadata": {
    "slideshow": {
     "slide_type": "slide"
    }
   },
   "source": [
    "\n",
    "| |\n",
    "| :--: |\n",
    "| <img src=\"./imgs/bb0nu_future_experiments.png\" width = 600 align='center'> |\n",
    "\n",
    "from [GG21-Guilliani]"
   ]
  },
  {
   "cell_type": "markdown",
   "metadata": {
    "slideshow": {
     "slide_type": "slide"
    }
   },
   "source": [
    "**Liquid Scintillator** detectors:\n",
    "\n",
    " - KamLAND-zen 800 kg (2019-), ton (2025?) $^{136}$Xe, at Kamioka, Japan\n",
    " \n",
    " - SNO+ (2019-), 1330 kg $^{130}$Te at SNOLab, Canada\n",
    " \n",
    "**Time Proyection Chambers** :\n",
    "\n",
    " - nEXO (2025?), 5 tons, Liquid $^{136}$Xe\n",
    " \n",
    " - NEXT-White (2018-2020), NEXT-100 (2022-), -ton (2026-?), 100 kg (ton) High Preasure $^{136}$Xe at Canfranc, Spain"
   ]
  },
  {
   "cell_type": "markdown",
   "metadata": {
    "slideshow": {
     "slide_type": "slide"
    }
   },
   "source": [
    "\n",
    "**Germanio**:\n",
    "\n",
    " - LEGEND-200, ton (GERDA and Majorana collaborations) $^{67}$Ge at LNGS\n",
    "\n",
    " - LEGEND-100 $^{67}$Ge at SNOLab.\n",
    "\n",
    "\n",
    "**Bolometers**:\n",
    "\n",
    " - CUORE, 206 kg $^{130}$Te bolometers, $\\Delta E = 7.7 \\pm 0.5$ keV FWHM [11] at LNGS, ITay\n",
    " \n",
    " - CUPID (CUPID-0 wiht $^{82}$Se) with bolometers and scintillators [12]\n",
    " \n",
    " - AMoRE ($^{100}$Mo, $^{60}$Ca) with bolometers and scintillators, at Yangyang, S. Korea [13].\n",
    "\n",
    "Tracking detectors:\n",
    "\n",
    " - NEMO (different isotopes) [14]. \n",
    "\n",
    "\n",
    "Note: The dates with $?$ indicate proposed experiments not yet approved or funded."
   ]
  },
  {
   "cell_type": "markdown",
   "metadata": {
    "slideshow": {
     "slide_type": "slide"
    }
   },
   "source": [
    "### KamLAND-Zen\n",
    "\n",
    "KamLANZ-Zen 800:\n",
    "  * started 2019-\n",
    "  * 745 kg $^{136}$Xe\n",
    "  * 2 times large balloon and more radiopure\n",
    "  * reduction $^{12}$C, $^{136}$Xe spallation by analysis\n",
    "  * current exposure: 419 kg y\n",
    "  * Expected: Improve KamLand-Zeon 400 by a factor 4 in 5 y, ($m_{\\beta\\beta} < 20-80$ meV)\n"
   ]
  },
  {
   "cell_type": "markdown",
   "metadata": {
    "slideshow": {
     "slide_type": "slide"
    }
   },
   "source": [
    "KamLAND2-Zen \n",
    "\n",
    "  * Planned\n",
    "  * large source (> ton of $^{136}$Xe), more ambitious in the future\n",
    "  * Reduce $^{214}$Bi (tagging events) and $\\beta\\beta2\\nu$ bkg (improve energy resolution),\n",
    "  * brighter ($\\times$5), $\\times$2 better energy resolution $\\sigma_E = 2.5$ \\% at $Q_{\\beta\\beta}$.\n",
    "      * Improvement in PMT QE (20%->30%)\n",
    "  * 5y Sensitivity: $3 \\, 10^{27}$ y, $m_{\\beta\\beta} < 14-37$ meV\n",
    "  "
   ]
  },
  {
   "cell_type": "markdown",
   "metadata": {
    "slideshow": {
     "slide_type": "slide"
    }
   },
   "source": [
    "| |\n",
    "| :--: |\n",
    "| <img src=\"./imgs/KamLAND2_fig.png\" width = 200 align='center'> |\n",
    "  \n",
    "  \n",
    "|            | $\\Delta E$ (keV) |  --- BI (c/(keV kg y)--- | --- Exposure (kg y) ---| ------- $T_{1/2}$ y ------| --- $m_{\\beta\\beta}$ eV$^2$ --- |\n",
    "| :-- | :--: | :--: | :--: | :--: | :--: |\n",
    "| **KamLAND-Zen 400** |  172 (7%)|          |          350    |  $1.07 \\, 10^{26}$ |  60-160 |\n",
    "| KamLAND-Zen 800     | 7%       |          | $745 \\times 5$  |                  |  20-80  |\n",
    "| KamLAND2-Zen ton    | 2.5 %    |  | $1000 \\times 10$|                  |  14-37  |\n",
    "\n"
   ]
  },
  {
   "cell_type": "markdown",
   "metadata": {
    "slideshow": {
     "slide_type": "slide"
    }
   },
   "source": [
    "### Legend-200\n",
    "\n",
    "   * In construction, expected start of data taking: 2022-\n",
    "   * Combination of GERDA and MJD collaborations\n",
    "   * Installed at LNGG, upgrade of Gerda, Germanio detectors\n",
    "   * Radiopurity parts from MJD selection\n",
    "   * Targer mass: 35 kg (Gerda), 30 kg (MJD), 140 kg (new detectors)\n",
    "   * New massive sensors 2 kg vs 0.7-0.9 kg previousy\n",
    "   * similar energy resoilution and PSD capability\n",
    " \n"
   ]
  },
  {
   "cell_type": "markdown",
   "metadata": {
    "slideshow": {
     "slide_type": "slide"
    }
   },
   "source": [
    "### Legend-1000\n",
    "\n",
    "| |\n",
    "| :--: |\n",
    "| <img src=\"./imgs/Legend_sim_exp.png\" width = 450 align='center'> |\n",
    "\n",
    "A simulated experiments of Legend-1000 [GS21-Schönert]"
   ]
  },
  {
   "cell_type": "markdown",
   "metadata": {
    "slideshow": {
     "slide_type": "slide"
    }
   },
   "source": [
    "| |\n",
    "| :--: |\n",
    "| <img src=\"./imgs/Legend_fig.png\" width = 400 align='center'> |\n",
    "\n",
    "   \n",
    "|            | $\\Delta E$ (keV) |  --- BI (c/(keV kg y)--- | --- Exposure (kg y) ---| ------- $T_{1/2}$ y ------| --- $m_{\\beta\\beta}$ eV$^2$ --- |\n",
    "| :-- | :--: | :--: | :--: | :--: | :--: |\n",
    "| **Gerda** [[7b]](https://journals.aps.org/prl/abstract/10.1103/PhysRevLett.125.252502)  (2020)    | 3  | $5.2 \\, 10^{-4}$ |          103.7       |  $1.8 \\, 10^{26}$             |  79-180     |\n",
    "| Legend-200  | 3  | $2 \\, 10^{-4}$   | $200 \\times 5$  | $20^{27}$        | 34-78 |\n",
    "| [Legend-1000](https://arxiv.org/abs/2107.11462) | 3  | $10^{-5}$        | $1000 \\times 10$| $1.3 \\, 20^{28}$ | 9-21  |\n",
    "\n"
   ]
  },
  {
   "cell_type": "markdown",
   "metadata": {
    "slideshow": {
     "slide_type": "slide"
    }
   },
   "source": [
    "### nEXO\n",
    "\n",
    "  * planned, not date os start. \n",
    "  * Installation at SNOLab\n",
    "  * Based on EXO-200:\n",
    "      * Liquid Xe TPC, measurement of scintilation and charge\n",
    "  * 5 tons of $^{136}$Xe. \n",
    "      * cilindrical TPC $\\phi = 1.3$ m, in a cryostat and Vacuum. \n",
    "  * Inprovement in ligh sensors (SiPMs) and light colection, $\\sigma_E = 0.8$ % at $Q_{\\beta\\beta}$.\n",
    "  * Improvement in radiopurity (electroformed Cu) and smaller fidutial internal region.\n",
    "  "
   ]
  },
  {
   "cell_type": "markdown",
   "metadata": {},
   "source": [
    "| |\n",
    "| :--: |\n",
    "| <img src=\"./imgs/nEXO_fig.png\" width = 500 align='center'> |\n",
    "\n",
    "\n",
    "|            | $\\sigma_E$ (keV) |  --- BI (c/(keV kg y)--- | --- Exposure (kg y) ---| ------- $T_{1/2}$ y ------| --- $m_{\\beta\\beta}$ eV$^2$ --- |\n",
    "| :-- | :--: | :--: | :--: | :--: | :--: |\n",
    "| **EXO-200** [[5]](https://arxiv.org/abs/1906.02723)    | 29  |  |    234.1   |  $3.5 \\, 10^{25}$             |  93-286     |\n",
    "| nEXO  | 19  | $7.5 \\, 10^{-5}$ (eff)   | $3281 \\times 10$  | $1.35 \\, 20^{28}$        | 5-15 |\n",
    "\n"
   ]
  },
  {
   "cell_type": "markdown",
   "metadata": {
    "slideshow": {
     "slide_type": "slide"
    }
   },
   "source": [
    "### NEXT-1ton"
   ]
  },
  {
   "cell_type": "markdown",
   "metadata": {
    "slideshow": {
     "slide_type": "slide"
    }
   },
   "source": [
    "| | \n",
    "| :--: |\n",
    "| <img src=\"./imgs/NEXT1ton_design.png\" width = 600 align='center'> |"
   ]
  },
  {
   "cell_type": "markdown",
   "metadata": {
    "slideshow": {
     "slide_type": "slide"
    }
   },
   "source": [
    "| |\n",
    "| :--: |\n",
    "| <img src=\"./imgs/NEXT1ton_reach_vs_expon.png\" width = 500 align='center'> |\n",
    "\n",
    "[NEXT-5]"
   ]
  },
  {
   "cell_type": "markdown",
   "metadata": {
    "slideshow": {
     "slide_type": "slide"
    }
   },
   "source": [
    "----\n",
    "\n",
    "## References\n",
    "---\n",
    "\n",
    "[1] M. Goeppert-Mayer, Phys. Rev. 48 (1935) 512.\n",
    "\n",
    "[2] W. Furry, Phys. Rev. 56 (1939) 1184.\n",
    "\n",
    "[3]  Engel J, Menendez J. Rept. Prog. Phys. 80:046301 (2017)\n",
    "\n",
    "[4] \"Phenomenology of neutrinoless double beta decay\", J.J. Gómez-Cademas, J. Martín-Albo, [arXiv:1502.00581v2](https://arxiv.org/abs/1502.00581).\n",
    "\n",
    "[5] G. Anton et al. (EXO-200 Collaboration), Phys. Rev. Lett. 123, 161802 (2019), [arXiv:1906.02723](https://arxiv.org/abs/1906.02723).\n",
    "\n",
    "[6] A. Gando et al. (KamLAND-Zen), Phys. Rev. Lett. 117, 8, 082503 (2016), [Addendum: Phys.\n",
    "Rev. Lett.117,no.10,109903(2016)], [arXiv:1605.02889](https://arxiv.org/abs/1605.02889).\n",
    "\n",
    "[7] M. Agostini et al. (GERDA), Science 365, 1445 (2019), [arXiv:1909.02726]((https://arxiv.org/abs/1902.02726)).\n",
    "\n",
    "[7b] M. Agostini et al. (GERDA Collaboration), [Phys. Rev. Lett. 125, 252502 (2020)](https://journals.aps.org/prl/abstract/10.1103/PhysRevLett.125.252502) "
   ]
  },
  {
   "cell_type": "markdown",
   "metadata": {},
   "source": [
    "[10] S. Andringa et al. (SNO+), Adv. High Energy Phys. 2016, 6194250 (2016),\n",
    "[arXiv:1508.05759](https://arxiv.org/abs/1508.05759).\n",
    "\n",
    "[11] C. Alduino et al. (CUORE), Phys. Rev. Lett. 120, 13, 132501 (2018), [arXiv:1710.07988](https://arxiv.org/abs/1710.07988)\n",
    "\n",
    "[12] O. Azzolini et al. (CUPID), Phys. Rev. Lett. 123, 3, 032501 (2019), [arXiv:1906.05001](https://arxiv.org/abs/1906.05001)\n",
    "\n",
    "[13] V. Alenkov et al., Eur. Phys. J. C79, 9, 791 (2019), [arXiv:1903.09483](https://arxiv.org/abs/1903.09483)\n",
    "\n",
    "\n",
    "[14] R. Arnold et al. (NEMO-3), Phys. Rev. D92, 7, 072011 (2015), [arXiv:1506.05825](https://arxiv.org/abs/1506.05825). R. Arnold et al. (NEMO-3), Phys. Rev. Lett. 119, 4, 041801 (2017), [arXiv:1705.08847](https://arxiv.org/abs/1906.05001).\n",
    "\n",
    "[15] S. I. Alvis et al. (Majorana) (2019), [arXiv:1902.02299](https://arxiv.org/abs/1902.02299).\n",
    "\n",
    "[16] J. Dolinski et al, (status and prospects) (2019) [arXiv:1902.04097](https://arxiv.org/abs/1902.04097)."
   ]
  },
  {
   "cell_type": "markdown",
   "metadata": {},
   "source": [
    "[NEXT-1] \"Sensitivity of NEXT-100 to neutrinoless double beta decay\", J. Martín-Albo et al., NEXT collaboration, JHEP05 (2016) 159, [arXiv:1411.09246](https://arxiv.org/abs/1511.09246).\n",
    "\n",
    "[NEXT-2] \"The Next White (NEW) detector\", F. Monrabal et al., NEXT collaboration, JHEP10 (2019) 230, [arXiv:1804.02409](https://arxiv.org/abs/1804.02409)\n",
    "\n",
    "[NEXT-3] \"Energy calibration of the NEXT-White detector with 1% resolution near Qββ of 136Xe\", J. Renner et al. NEXT Collaboration, JINST 13, 10, P10020 (2018), [arXiv:1905.13110](https://arxiv.org/abs/1905.13110).\n",
    "    \n",
    "[NEXT-4] \"Boosting background suppression in the NEXT experiment through Richardson-Lucy deconvolution\", A. Simon, NEXT Collaboration, [arXiv:2102.11931](https://arxiv.org/abs/2102.11931)\n",
    "\n",
    "[NEXT-5] \"Sensitivity of a tonne-scale NEXT detector for neutrinoless double beta decay searches.\", C. Adams, NEXT Collaboration, [arXiv:2005.06467](https://arxiv.org/abs/2005.06467)\n"
   ]
  },
  {
   "cell_type": "markdown",
   "metadata": {},
   "source": [
    "### Conferences\n",
    "\n",
    "[Nu20-Detwiler] Neutrino 2020, J. Detwiler, [\"*Future neutrinoless $\\beta\\beta$ experiments*\"](https://indico.fnal.gov/event/43209/contributions/187827/attachments/130703/159511/20200701_Nu20_FutureNDBD_Detwiler.pdf)\n",
    "\n",
    "[GS21-Guiliani] Gran Sasso 2021,  Workshop on Future of Double Beta Decay, A. Guiliani, [\"*Survey on other next generation Double Beta experiments*\"](https://agenda.infn.it/event/27143/contributions/142991/attachments/85091/112800/NA-EU-workshop-Giuliani.pdf)\n",
    "\n",
    "[GS21-Schönert] Gran Sasso 2021, Workshop on Future of Double Beta Decay, S. Schönert, [\"*LEGEND-1000*\"](https://agenda.infn.it/event/27143/contributions/142986/attachments/85142/112907/LEGEND-1000_for_upload.pdf)"
   ]
  },
  {
   "cell_type": "markdown",
   "metadata": {
    "slideshow": {
     "slide_type": "slide"
    }
   },
   "source": [
    "---------"
   ]
  },
  {
   "cell_type": "code",
   "execution_count": null,
   "metadata": {
    "slideshow": {
     "slide_type": "skip"
    }
   },
   "outputs": [],
   "source": [
    "# detector, A, mass (kmol), b (c/(FWHM ton y), FWHM (keV), exposure, tlim (e-25 y), slim (e-25 y), ref \n",
    "KL_zen     = 'KamLAND-zen', 136, 2.52 , -, 270.0, _, 10.7 ,  5.6 , '1605.02889' \n",
    "Exo        = 'EXO-200'    , 136, 1.04 , _,  71.0, _,  1.8 ,  3.7 , '1906.02723'\n",
    "GERDA      = 'GERDA'      ,  67, 0.41 , _,   3.3, _,  9.0 , 11.0 , '1909.02726'\n",
    "Majorana   = 'Majorana'   ,  67, 0.34 , _,   2.5, _,  2.7 ,  4.8 , '1902.02299'\n",
    "CUORE      = 'CUORE'      , 130, 1.59 , _,   7.4, _,  1.5 ,  0.7 , \n",
    "CUPID0     = 'CUPID-0'    ,  82, 0.063, _,  23.0, _,  0.24,  0.23,     \n",
    "\n",
    "\n",
    "NEXT       = 'NEXT-100'   , 136, \n",
    "KL_zen_800 = 'KamLAND-zon-800', 136,\n",
    "LEGEND_200 = 'LEGEND_200'     ,  67,\n",
    "nEXO       = 'nEXO'           , 136,\n",
    "SNOp       = 'SNO+'           , 100,\n",
    "NEXT_ton   = 'NEXT-ton'       , 136,\n",
    "\n",
    "#GERDA (this work) 76Ge 0.41 3.3 9 11 104 - 228\n",
    "#Majorana [22] 76Ge 0.34 2.5 2.7 4.8 157 - 346\n",
    "#CUPID-0 [23] 82Se 0.063 23 0.24 0.23 394 - 810\n",
    "#CUORE [24] 130Te 1.59 7.4 1.5 0.7 162 - 757\n",
    "#EXO-200 [25] 136Xe 1.04 71 1.8 3.7 93 - 287\n",
    "#KamLAND-Zen [26] 136Xe 2.52 270 10.7 5.6 76 - 234\n"
   ]
  },
  {
   "cell_type": "markdown",
   "metadata": {
    "slideshow": {
     "slide_type": "slide"
    }
   },
   "source": [
    "### CUPID\n",
    "\n",
    "   * Planned - at LNGS\n",
    "   * Based on CUORE.\n",
    "   * Bolometers, $^{100}$Mo, ~240 kg, 95% enrichement. \n",
    "      * 57 towers, 14 floors, 2 crystals;  1596 crystals, (45x45x45) mm$^3$.\n",
    "   * scintillator technology.\n",
    "      * background rejection improvement, $\\times 20$\n",
    " \n",
    "   \n",
    "|            | $\\Delta E$ (keV) |  --- BI (c/(keV kg y)--- | --- Exposure (kg y) ---| ------- $T_{1/2}$ y ------| --- $m_{\\beta\\beta}$ eV$^2$ --- |\n",
    "| :-- | :--: | :--: | :--: | :--: | :--: |\n",
    "| **CUORE** [[X]]()  (2020)    | 7.8  | $1.49 \\, 10^{-2}$ |          1038.4       |  $2.2 \\, 10^{25}$             |  90-305     |\n",
    "| [CUPID](https://arxiv.org/abs/1907.09376) | 7.8  | $10^{-4}$        | $ \\times 10$| $9.2 \\, 20^{27}$ | 4-7  |\n",
    " \n",
    " "
   ]
  },
  {
   "cell_type": "markdown",
   "metadata": {
    "slideshow": {
     "slide_type": "slide"
    }
   },
   "source": [
    "### CUORE\n",
    "\n",
    "  * "
   ]
  },
  {
   "cell_type": "code",
   "execution_count": null,
   "metadata": {},
   "outputs": [],
   "source": []
  }
 ],
 "metadata": {
  "anaconda-cloud": {},
  "celltoolbar": "Slideshow",
  "kernelspec": {
   "display_name": "Python 3",
   "language": "python",
   "name": "python3"
  },
  "language_info": {
   "codemirror_mode": {
    "name": "ipython",
    "version": 3
   },
   "file_extension": ".py",
   "mimetype": "text/x-python",
   "name": "python",
   "nbconvert_exporter": "python",
   "pygments_lexer": "ipython3",
   "version": "3.8.8"
  }
 },
 "nbformat": 4,
 "nbformat_minor": 1
}
