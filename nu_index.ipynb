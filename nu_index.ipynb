{
 "cells": [
  {
   "cell_type": "markdown",
   "metadata": {
    "slideshow": {
     "slide_type": "slide"
    }
   },
   "source": [
    "# Particle Physics - Neutrino Physics - Index\n",
    "\n",
    " \n",
    "## Universidade de Santiago \n",
    "\n",
    "\n",
    "Jose A. Hernando\n",
    "\n",
    "*Departamento de Física de Partículas. Universidade de Santiago de Compostela*\n",
    "\n",
    "February 2020\n"
   ]
  },
  {
   "cell_type": "code",
   "execution_count": 1,
   "metadata": {
    "slideshow": {
     "slide_type": "fragment"
    }
   },
   "outputs": [
    {
     "name": "stdout",
     "output_type": "stream",
     "text": [
      " Last version  Mon Jan 31 15:52:36 2022\n"
     ]
    }
   ],
   "source": [
    "import time\n",
    "print(' Last version ', time.asctime() )"
   ]
  },
  {
   "cell_type": "markdown",
   "metadata": {
    "slideshow": {
     "slide_type": "slide"
    }
   },
   "source": [
    "*About*\n",
    "\n",
    "These lectures are about some aspects of Neutrino Physics. \n",
    "\n",
    "They cover the relevance of the neutrino in the construction of the Standard Model, neutrino oscillations and double-beta decay searches.\n"
   ]
  },
  {
   "cell_type": "markdown",
   "metadata": {
    "slideshow": {
     "slide_type": "slide"
    }
   },
   "source": [
    "## Introduction\n",
    "\n",
    "Neutrinos\n",
    "\n",
    "- are the closest thing to nothing we have discovered.\n",
    "\n",
    "- played an important role on the construction of the Standard Model (SM)\n",
    "\n",
    "- have provided the **only evidence of Physics Beyond the SM** (BSM)\n",
    "\n",
    "- are unique, neutrinos are the only fundamental fermion that can be their own antiparticle.\n",
    "\n",
    "\n"
   ]
  },
  {
   "cell_type": "markdown",
   "metadata": {
    "slideshow": {
     "slide_type": "slide"
    }
   },
   "source": [
    "Two mayor discoveries and on one confirmation in the last decades:\n",
    "\n",
    "- Higgs discovery ([ATLAS](https://arxiv.org/abs/1207.7214), [CMS](https://arxiv.org/abs/1207.7235)) [pdg-review](http://pdg.lbl.gov/2019/reviews/rpp2019-rev-higgs-boson.pdf)\n",
    "\n",
    "- Confirmation of the Cabibbo-Kobayashi-Maskawa Unitary Matrix (BaBar, Belle, LHCb, ...), [pdg-review](http://pdg.lbl.gov/2019/reviews/rpp2019-rev-ckm-matrix.pdf)\n",
    "\n",
    "- Discovery of the neutrino oscillations ([Super-Kamiokande](https://arxiv.org/abs/hep-ex/9807003), [SNO+](https://arxiv.org/abs/1109.0763)) [pdg-review](http://pdg.lbl.gov/2019/reviews/rpp2019-rev-neutrino-mixing.pdf)"
   ]
  },
  {
   "cell_type": "markdown",
   "metadata": {
    "slideshow": {
     "slide_type": "slide"
    }
   },
   "source": [
    "Neutrino oscillation simplified summary:\n",
    "\n",
    "| |\n",
    "| :--: |\n",
    "| <img src=\"./imgs/nu_oscillation_dm2_tan2theta.png\" width = 400> |\n",
    "||"
   ]
  },
  {
   "cell_type": "markdown",
   "metadata": {
    "slideshow": {
     "slide_type": "slide"
    }
   },
   "source": [
    "\n",
    "Fermions in the SM:\n",
    "\n",
    "| |\n",
    "| :--: |\n",
    "| <img src=\"./imgs/teo_su3_su2l_u1y_fermions.png\"> |\n",
    "||\n"
   ]
  },
  {
   "cell_type": "markdown",
   "metadata": {
    "slideshow": {
     "slide_type": "slide"
    }
   },
   "source": [
    "\n",
    "Leptons in the SM:\n",
    "\n",
    "$$\n",
    "L_e= \\begin{pmatrix} \\nu_{eL} \\\\ e_L \\end{pmatrix}, \\, \n",
    "L_\\mu = \\begin{pmatrix} \\nu_{\\mu L} \\\\ \\mu_L  \\end{pmatrix}, \\,\n",
    "L_\\tau = \\begin{pmatrix} \\nu_{\\tau L} \\\\ \\tau_L  \\end{pmatrix}; \\;\n",
    "e_R, \\mu_R, \\tau_R \n",
    "$$\n",
    "\n",
    "Neutrinos in the SM:\n",
    "\n",
    "- they only interact weakly!\n",
    "\n",
    "$$s = 1/2, \\, m = 0, \\; q = 0, \\;T_3 = 1/2, \\; Y = -1/2$$\n",
    "\n",
    "- they are $\\nu_L$, left-chirality neutrinos, and $\\bar{\\nu}_R$, right-chirality anti-neutrinos. \n",
    "\n",
    "- neutrinos are massless! There is no $\\nu_R$ to intriduce the mass in the legrangian:\n",
    "\n",
    "$$-\\mathcal{L}_{Dirac} = - m \\, \\bar{\\nu} \\nu = - m (\\bar{\\nu_L}  \\nu_R + \\bar{\\nu_R} \\nu_L)$$"
   ]
  },
  {
   "cell_type": "markdown",
   "metadata": {
    "slideshow": {
     "slide_type": "slide"
    }
   },
   "source": [
    "\n",
    "| |\n",
    "|:--:|\n",
    "|<img src=\"./imgs/nu_cc_nc_feynman_rules.png\" width = 600>|\n",
    "||\n",
    "\n",
    "\n",
    "\n",
    "Neutrino interacts only via this interactions lagrangian, CC ($W^\\pm$) or NC ($Z$), :\n",
    "\n",
    "$$\n",
    "\\mathcal{L}_{CC} = - \\frac{g}{\\sqrt{2}} \\sum_{\\alpha = e, \\mu, \\tau} \\bar{\\nu}_{\\alpha L} \\gamma^\\mu l_{\\alpha L} W_\\mu + \\mathrm{h.c.}, \\;\\;\\;\n",
    "\\mathcal{L}_{NC} = - \\frac{g}{2 \\cos \\theta_W} \\bar{\\nu}_{\\alpha L} \\gamma^\\mu \\nu_{\\alpha L} Z_\\mu\n",
    "$$\n",
    "\n",
    "where $g$ is the weak constant and $\\theta_W$ the Weiberg angle. \n",
    "\n",
    "The V-A structure is explicit in the interaction lagrangian.\n",
    "\n"
   ]
  },
  {
   "cell_type": "markdown",
   "metadata": {
    "slideshow": {
     "slide_type": "fragment"
    }
   },
   "source": [
    "\n",
    "- The lepton Number in the SM is (accidently) preserved. \n",
    "\n",
    "- Futhermore, Flavour Lepton Number is also accidentally preserved: electronic, muonic and tauonic."
   ]
  },
  {
   "cell_type": "markdown",
   "metadata": {
    "slideshow": {
     "slide_type": "slide"
    }
   },
   "source": [
    "### Neutrinos in Nature\n",
    "\n",
    "Neutrinos in Nature:\n",
    "\n",
    "- they have no color, no electric charge, and a tiny mass!\n",
    "\n",
    "$$s = 1/2, \\, m \\le \\mathcal{O}(eV), \\; q = 0; \\; T_3 = 1/2, \\; Y = -1/2$$\n",
    "\n",
    "- the $\\nu_L$, left-chirality, are called 'neutrinos' and $\\bar{\\nu}_R$, right-chirality, 'antineutrinos'\n",
    "\n",
    "- there are three light neutrino flavours, $\\nu_e, \\nu_\\mu, \\, \\nu_\\tau$."
   ]
  },
  {
   "cell_type": "markdown",
   "metadata": {
    "slideshow": {
     "slide_type": "slide"
    }
   },
   "source": [
    "\n",
    "- Neutrinos oscillates between different flavours.\n",
    "\n",
    "- Neutrinos do no preserve flavour leptonic number, and may preserve leptonic number\n",
    "\n",
    "- There is a mixing neutrino matrix, $U_{PMNS}$, Pontecorbo-Maki-Nakagawa-Sakata, with three angles and one CP phase (if neutrinos are Dirac).\n",
    "\n",
    "- Their masses are unknown. But there values are very small compared with the rest of the leptons $m_\\nu \\ll m_e$. \n",
    "\n",
    "- We need to complete the SM to include neutrinos masses: either Dirac (extended SM) or Majorana (BSM)."
   ]
  },
  {
   "cell_type": "markdown",
   "metadata": {
    "slideshow": {
     "slide_type": "slide"
    }
   },
   "source": [
    "### About Dirac neutrinos\n",
    "\n",
    "\n",
    "A Dirac spinor fulfills the Dirac equation and it can be decomposed into left and right chirality parts:\n",
    "\n",
    "$$\n",
    "\\Psi =\\Psi_L + \\Psi_R \n",
    "$$\n",
    "And the parity transformation reverts them:\n",
    "$$\n",
    "\\mathcal{P}: \\;\\; \\Psi_L \\leftrightarrow \\Psi_R\n",
    "$$\n",
    "Therefore, a parity conserving theory introduces both in equal footing."
   ]
  },
  {
   "cell_type": "markdown",
   "metadata": {
    "slideshow": {
     "slide_type": "subslide"
    }
   },
   "source": [
    "\n",
    "In the chiral representation, a Dirac spinor is composed of two Weyl spinors $\\psi_L, \\psi_R$:\n",
    "\n",
    "$$\n",
    "\\Psi = \\begin{pmatrix} \\psi_L \\\\ \\psi_R \\end{pmatrix}\n",
    "$$\n",
    "\n",
    "They admit a phase redefinition, without physical consequences\n",
    "\n",
    "$$\n",
    "\\Psi' = e^{i\\theta} \\Psi\n",
    "$$\n",
    "\n",
    "This global simmetry is associated to a conserved charge, electric charge, lepton number, etc.\n",
    "\n",
    "A mass term in the lagrangian has the form:\n",
    "\n",
    "$$\n",
    " - m \\bar{\\Psi} \\Psi  =  - m \\left(\\bar{\\Psi}_L \\Psi_R + \\bar{\\Psi}_R \\Psi_L \\right)\n",
    "$$\n",
    "\n"
   ]
  },
  {
   "cell_type": "markdown",
   "metadata": {
    "slideshow": {
     "slide_type": "slide"
    }
   },
   "source": [
    "\n",
    "As the left-chiral fields are in a duplet of $SU(2)_L$, in order to preserve the original gauge invariant, we introduce an interaction with the Higgs doublet. \n",
    "\n",
    "Let's consider first one family, for charged leptons, the mass term\n",
    "\n",
    "$$\n",
    "\\lambda_e \\bar{L}_e \\Phi \\, e_R + \\mathrm{h.c.}\n",
    "$$\n",
    "\n",
    "where $\\lambda_e$ is an adimensional constant, the electron Yukawa coupling.\n",
    "\n",
    "And\n",
    "\n",
    "$$\n",
    "L_e = \\begin{pmatrix} \\nu_{eL} \\\\ e_L \\end{pmatrix}, \\; \n",
    "\\Phi = \\begin{pmatrix} \\phi^+ \\\\ \\Phi^0 \\end{pmatrix}\n",
    "$$\n",
    "\n",
    "\n"
   ]
  },
  {
   "cell_type": "markdown",
   "metadata": {
    "slideshow": {
     "slide_type": "subslide"
    }
   },
   "source": [
    "\n",
    "After spontaneous symmetry breaking (SSB), in the unitary gauge:\n",
    "\n",
    "$$\n",
    "\\langle \\Phi \\rangle = \\begin{pmatrix} 0 \\\\ \\frac{v}{\\sqrt{2}}\\end{pmatrix}\n",
    "$$\n",
    "where $v$ is the Higgs expectation value.\n",
    "\n",
    "We get:\n",
    "$$\n",
    "\\frac{\\lambda_e v}{\\sqrt{2}} ( \\bar{e}_L e_R + \\bar{e}_R e_L ) = m_e \\, \\bar{e} e\n",
    "$$\n",
    "\n",
    "where:\n",
    "$$\n",
    "m_e = \\lambda_e \\frac{v}{\\sqrt{2}}\n",
    "$$"
   ]
  },
  {
   "cell_type": "markdown",
   "metadata": {
    "slideshow": {
     "slide_type": "slide"
    }
   },
   "source": [
    "\n",
    "We can generate a mass for a Dirac neutrino, using the Higgs charge conjugate, in the unitary gauge:\n",
    "\n",
    "$$\n",
    "\\tilde{\\Phi} = i \\sigma^2 \\Phi^* \\rightarrow\n",
    "\\langle \\tilde{\\Phi} \\rangle = \\begin{pmatrix} \\frac{v}{\\sqrt{2}}  \\\\ 0 \n",
    "\\end{pmatrix}\n",
    "$$\n",
    "\n",
    "The possible mass terms of the lagrangian is:\n",
    "\n",
    "$$\n",
    "\\lambda_{\\nu} \\bar{L}_e \\tilde{\\Phi} \\nu_{eR} + h.c.\n",
    "$$\n",
    "\n",
    "that will result on a mass term:\n",
    "\n",
    "$$\n",
    "\\lambda_\\nu \\frac{v}{\\sqrt{2}} (\\bar{\\nu_L} \\nu_R + \\bar{\\nu_R} \\nu_L) = m_\\nu \\, \\bar{\\nu}_e \\nu_e\n",
    "$$\n",
    "\n",
    "\n"
   ]
  },
  {
   "cell_type": "markdown",
   "metadata": {
    "slideshow": {
     "slide_type": "slide"
    }
   },
   "source": [
    "### About Majorana neutrinos\n",
    "\n",
    "A Majorana spinor is a solution of the Dirac equation. \n",
    "\n",
    "In nature all fermions are Dirac. The only one that can be Majorana is the neutrino.\n",
    "\n",
    "A Majorana spinor is its own charge conjugate:\n",
    "\n",
    "$$\n",
    "\\Psi_M = \\Psi + \\Psi^c\n",
    "$$\n",
    "\n",
    "Where, the charge conjugation operation $\\mathcal{C}$ is:\n",
    "\n",
    "$$\n",
    "\\Psi^c = -i \\gamma^2 \\Psi^*\n",
    "$$\n",
    "\n",
    "If $\\Psi$ is a left (right) chiral spinor $\\Psi_L$, the charge conjugate, $\\Psi_L^c$ is a right (left) chiral one:\n",
    "\n"
   ]
  },
  {
   "cell_type": "markdown",
   "metadata": {
    "slideshow": {
     "slide_type": "slide"
    }
   },
   "source": [
    "\n",
    "A Majorana spinor can be constructed from a single left (right) Weyl spinor $\\psi_L$, using its charge conjugate: \n",
    "\n",
    "$$\n",
    "\\psi^c_L \\to i \\sigma^2 \\psi^*_L\n",
    "$$\n",
    "\n",
    "That transforms as a right-handed Weyl spinor. The Majorana spinor is:\n",
    "\n",
    "$$\n",
    "\\Psi_M = \\begin{pmatrix} \\psi_L  \\\\ i \\sigma^2 \\psi^*_L \\end{pmatrix}\n",
    "$$\n",
    "\n",
    "That fulfills the condition:\n",
    "$$\n",
    "\\Psi^c_M = \\Psi_M\n",
    "$$\n",
    "And it is own antiparticle"
   ]
  },
  {
   "cell_type": "markdown",
   "metadata": {
    "slideshow": {
     "slide_type": "slide"
    }
   },
   "source": [
    "\n",
    "There is no global phase symmetry for a Majorana spinor.\n",
    "\n",
    "$$\n",
    "\\psi'_L = e^{i\\theta} \\psi_L, \\;\\;\\; (\\psi'_L)^c = e^{-i \\theta} i \\sigma^2 \\psi^*_L = e^{-i\\theta} \\psi^c_L\n",
    "$$\n",
    "\n",
    "$$\n",
    "\\Psi'_M = \\begin{pmatrix} e^{i\\theta }\\; \\psi_L  \\\\ e^{-i \\theta} \\; i \\sigma^2 \\psi^*_L \\end{pmatrix}\n",
    "$$\n",
    "\n",
    "And therefore there are no charge conserved. The Majorana spinor is a truly neutral particle!\n"
   ]
  },
  {
   "cell_type": "markdown",
   "metadata": {
    "slideshow": {
     "slide_type": "slide"
    }
   },
   "source": [
    "The mass term for left-chiral neutrinos will be:\n",
    "\n",
    "$$\n",
    "-\\frac{m}{2} \\left( \\overline{\\nu_L }\\nu^c_L + \\overline{\\nu^c_L} \\nu_L \\right)\n",
    "$$\n",
    "\n",
    "As $\\nu_L$ are part of duplet $SU(2)_L$ in the SM, in order to preserve the gauge symmetry, the simplest term to generate the mass is to include a *double* interaction with a scalar Higgs. \n",
    "\n",
    "$$\n",
    "\\mathcal{L}_W = - \\frac{\\alpha}{\\Lambda} \\,  \\bar{L} \\tilde{\\Phi} \\, \\tilde{\\Phi}^T L^c + \\mathrm{h.c.} \n",
    "$$\n",
    "\n",
    "where $\\alpha$ is a dimensionless coupling and $\\Lambda$ an energy scale.\n",
    "\n",
    "This is known as the Weinberg operator. It is the only 5-dim operation that extends the SM.    "
   ]
  },
  {
   "cell_type": "markdown",
   "metadata": {
    "slideshow": {
     "slide_type": "subslide"
    }
   },
   "source": [
    "After the SSB. It translates to:\n",
    "$$\n",
    " \\mathcal{L}_W = \\frac{\\alpha v^2}{\\Lambda} (\\overline{\\nu_L} \\nu^c_L + \\overline{\\nu^c_L} \\nu_L)\n",
    "$$\n",
    "\n",
    "\n",
    "Now the neutrino smalleness of the neutrino mass cal be explained via the energy scale $\\Lambda$, the coupling $\\alpha$ or both."
   ]
  },
  {
   "cell_type": "markdown",
   "metadata": {
    "slideshow": {
     "slide_type": "slide"
    }
   },
   "source": [
    "### Some urgent questions\n",
    "\n",
    "- Is there a CP phase in the neutrino sector?\n",
    "\n",
    "- Is the neutrino its own antiparticle. Is Dirac or Majorana? \n",
    "\n",
    "- What is the neutrino mass? Which is the neutrino mass hierarchy?\n",
    "\n",
    "- Why the neutrino mass is so small? Is there a new energy scale, $\\Lambda$, related with neutrino masses?"
   ]
  },
  {
   "cell_type": "markdown",
   "metadata": {
    "slideshow": {
     "slide_type": "slide"
    }
   },
   "source": [
    "The different scale of neutrino masses compared with other fermions may be an indication of a new scale of energy.\n",
    "\n",
    "| |\n",
    "| :--: |\n",
    "| <img src=\"./imgs/nu_mass_scale.png\" width = 800>|"
   ]
  },
  {
   "cell_type": "markdown",
   "metadata": {
    "slideshow": {
     "slide_type": "slide"
    }
   },
   "source": [
    "*** \n",
    "## Index\n",
    "\n",
    "* [Neutrinos in the SM](./nu_sm.ipynb)\n",
    "    \n",
    "* [Neutrino oscillations](./nu_oscillations.ipynb)\n",
    "\n",
    "* [Majorana neutrinos](./nu_majorana.ipynb)"
   ]
  },
  {
   "cell_type": "code",
   "execution_count": null,
   "metadata": {},
   "outputs": [],
   "source": []
  },
  {
   "cell_type": "markdown",
   "metadata": {
    "slideshow": {
     "slide_type": "slide"
    }
   },
   "source": [
    "***\n",
    "\n",
    "## Bibliography\n",
    "\n",
    "### books\n",
    "\n",
    "A. Bettini, *Introduction to Elementary Particle Physics*, [Cambridge (2008)](https://www.cambridge.org/core/books/introduction-to-elementary-particle-physics/FB7841E74DFEE051D81AD953E81E10DE)\n",
    "\n",
    "M. Thomson, *Modern Particle Physics*, [Cambridge (2013)](https://www.cambridge.org/core/books/modern-particle-physics/CDFEBC9AE513DA60AA12DE015181A948) \n",
    "\n",
    "J. Bahcall, *Neutrino Astrophysics*, [Cambridge (1988)](https://www.cambridge.org/es/academic/subjects/physics/astrophysics/neutrino-astrophysics?format=PB)\n",
    "\n",
    "C. Giunti and C. W. Kim, *Fundamentals of Neutrino Physics and Astrophysics*, [Oxford (2007)](https://global.oup.com/academic/product/fundamentals-of-neutrino-physics-and-astrophysics-9780198508717?cc=es&lang=en&)"
   ]
  },
  {
   "cell_type": "markdown",
   "metadata": {
    "slideshow": {
     "slide_type": "slide"
    }
   },
   "source": [
    "\n",
    "### Reviews\n",
    "\n",
    "C. Gonzalez-García, M. Yokoyama, *Neutrino Masses, Mixing, and Oscillations*, 2019, [PDG review 2019](http://pdg.lbl.gov/2019/reviews/rpp2019-rev-neutrino-mixing.pdf)\n",
    "\n",
    "S. Pascolli, *Neutrino physics*, CERN Yellow Rep. School Proc. 6 (2019) 213-259 [CERN-2019-006](http://cds.cern.ch/record/2702845)\n",
    "\n",
    "P. Hernandez, *Neutrino Physics*, CERN Yellow Report CERN 2015-005, 2027, [arXiv:1708.01046](https://arxiv.org/abs/1708.01046)\n",
    "\n",
    "S. Bilenky, *Neutrino oscillations: brief history and present status*, 2014, [arXiv:1408.2864](https://arxiv.org/abs/1408.2864)\n",
    "\n",
    "J.J. Gomez Cadenas, J. Martín, *Phenomenology of neutrinoless double beta decay*, 2015, https://arxiv.org/abs/1502.00581\n"
   ]
  },
  {
   "cell_type": "code",
   "execution_count": null,
   "metadata": {},
   "outputs": [],
   "source": []
  }
 ],
 "metadata": {
  "anaconda-cloud": {},
  "celltoolbar": "Slideshow",
  "kernelspec": {
   "display_name": "Python 3",
   "language": "python",
   "name": "python3"
  },
  "language_info": {
   "codemirror_mode": {
    "name": "ipython",
    "version": 3
   },
   "file_extension": ".py",
   "mimetype": "text/x-python",
   "name": "python",
   "nbconvert_exporter": "python",
   "pygments_lexer": "ipython3",
   "version": "3.8.8"
  }
 },
 "nbformat": 4,
 "nbformat_minor": 1
}
